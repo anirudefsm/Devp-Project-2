{
 "cells": [
  {
   "cell_type": "markdown",
   "id": "fba5e1aa-1d21-46de-8cc4-03e814ebdf3a",
   "metadata": {},
   "source": [
    "# **Project Report on Imports and Exports Data Analysis**"
   ]
  },
  {
   "cell_type": "markdown",
   "id": "9cb4a83e-956b-4463-a9c3-6ae1ba937b9b",
   "metadata": {},
   "source": [
    "## **Project Information**\n",
    "### * **Project Title**: Comprehensive Data Analysis of Imports and Exports Dataset\n",
    "### * **Student Name**: Anirudh Gupta\n",
    "### * **Enrollment Number** : 055003 \n",
    "### * **Project Information** : This project contains a detailed dataset and analysis of international trade transactions, providing extensive information on both imports and exports. Designed for use in business analytics, economic research, and financial modeling, it offers a broad view of trade activities with numerous attributes that capture various dimensions of each transaction."
   ]
  },
  {
   "cell_type": "markdown",
   "id": "346c317c-ba26-4eb5-baac-63e11d438999",
   "metadata": {},
   "source": [
    "# Description of Data**\n",
    "\n",
    "* **1.Data Source & Size:**\n",
    "\n",
    "* Source: The dataset for this project was obtained from Kaggle.(https://www.kaggle.com/datasets/chakilamvishwas/imports-exports-15000)\n",
    "* Size: 15,000 records with 16 variables. (2.69 MB)\n",
    "  \n",
    "  \n",
    "* **2. Data Type:**\n",
    "This is a Cross-sectional dataset, capturing transactional data at a specific point in time.\n",
    "\n",
    "\n",
    "  **3.Data Dimension:**\n",
    "\n",
    "* Number of Variables: 16\n",
    "* Number of Observations: 15,000\n",
    "  \n",
    "  \n",
    "* **4.Data Variable Type:**\n",
    "\n",
    "* Text Variables:\n",
    "Transaction_ID, Country, Product, Import_Export, Date, Category, Port, Shipping_Method, Supplier, Customer, Payment_Terms\n",
    "* Number Variables:\n",
    "Integer: Quantity, Customs_Code, Invoice_Number\n",
    "* Decimal: Value, Weight\n",
    "\n",
    "\n",
    "* **5.Data Variable Category : Identifying Categorical (Nominal & Ordinal) and Non - Categorical Data**\n",
    "\n",
    "|Sr. No. | Data Variable | Category |\n",
    "| --- | --- | --- |\n",
    "| 1. | Transaction ID | Index (used for identifying each transaction)\n",
    "| 2. | Country | Categorical {Nominal}\n",
    "| 3. | Product | Categorical {Nominal}\n",
    "| 4. | Import Export | Categorical {Nominal}\n",
    "| 5. | Quantity | Non-Categorical\n",
    "| 6. | Value | Non-Categorical\n",
    "| 7. | Category | Categorical {Nominal}\n",
    "| 8. | Port | Categorical {Nominal}\n",
    "| 9.| Customs Code | Non-Categorical\n",
    "| 10.| Weight | Non-Categorical\n",
    "| 11.| Shipping Method | Categorical {Nominal} \n",
    "| 12.| Supplier | Categorical {Nominal} \n",
    "| 13.| Customer | Categorical {Nominal} \n",
    "| 14.| Invoice Number | Index (used for identifying each transaction)\n",
    "| 15.| Payment Terms | Categorical {Nominal}"
   ]
  },
  {
   "cell_type": "markdown",
   "id": "563f5be2",
   "metadata": {},
   "source": [
    "# Project Objectives | Problem Statements\n",
    "\n",
    "* Objective 1: Identifying top 5 countries based on import and export activities across different countries.\n",
    "* Objective 2: Understand the frequency of most sought products.\n",
    "* Objective 3: Analyze the most frequently used shipping methods and their relationship to transaction value and weight.\n",
    "* Objective 4: Analyzing the minimum and maximum value using variables.\n",
    "* Objective 5: Finding Average order value  and quantity per country \n",
    "* Objective 6: Finding Maximum Weight in KGs by Shipping Method and Category\n",
    "* Objective 7: Finding Count of products by their payment terms per Category\n",
    "* Objective 8: Ranking categories by the total economic impact (Value), higher value gets a higher rank\n",
    "  \n",
    "* Problem Statement 1: How do top 5 countries vary in terms of the volume of imports and exports?\n",
    "* Problem Statement 2: Are there specific product categories that dominate in terms of trade volume and value?\n",
    "* Problem Statement 3: Rank the most sought shipping methods for the transactions?\n",
    "* Problem Statemnet 4: Identify the range of values and outliers in the dataset\n",
    "* Problem Statemnet 5: Identify comparison of different countries in terms of purchasing behavior, helping to tailor marketing                        strategies or identify high-value markets.\n",
    "* Problem Statemnet 6: Assess which shipping methods are handling heavier products and which categories have the largest or                           heaviest product.\n",
    "* Problem Statemnet 7: Give insights into the preferred payment terms by category and can help in optimizing payment options                          for different product lines.\n",
    "* Problem Statemnet 8: Rank product categories based on their total economic impact. The categories with the highest total                            economic impact should be given the highest rank. "
   ]
  },
  {
   "cell_type": "markdown",
   "id": "9dc8fec8-36a1-4006-a13e-e1602583643d",
   "metadata": {},
   "source": [
    "# Managerial Insights based on Observations and Analysis:\n",
    "\n",
    "\n"
   ]
  },
  {
   "cell_type": "markdown",
   "id": "4ef4d94a",
   "metadata": {},
   "source": [
    "## Objective 1 "
   ]
  },
  {
   "attachments": {
    "image.png": {
     "image/png": "[encoded data removed]"
    }
   },
   "cell_type": "markdown",
   "id": "85ebe609",
   "metadata": {},
   "source": [
    "### Top 5 Countries in Import/Export:\n",
    "\n",
    "| Country | Export | Import |\n",
    "|---|---|---|\n",
    "| Afghanistan | 2 | 2 |\n",
    "| Albania | 11 | 4 |\n",
    "| Algeria | 3 | 11 |\n",
    "| American Samoa | 5 | 6 |\n",
    "| Andorra | 5 | 10 |\n",
    "\n",
    "![image.png](attachment:image.png)\n",
    "\n",
    "### Key Observations\n",
    "\n",
    "**Export-Import Balance:**\n",
    "\n",
    "* **Afghanistan:** The country has an equal balance of exports and imports, with 2 units of each.\n",
    "* **Albania:** Albania has a higher number of exports (11) compared to imports (4), indicating a trade surplus.\n",
    "* **Algeria:** Algeria has a higher number of imports (11) compared to exports (3), indicating a trade deficit.\n",
    "* **American Samoa:** The country has a slightly higher number of imports (6) compared to exports (5), indicating a small trade deficit.\n",
    "* **Andorra:** Andorra also has a higher number of imports (10) compared to exports (5), indicating a trade deficit.\n",
    "\n",
    "**Country-Specific Analysis:**\n",
    "\n",
    "* **Albania and Algeria:** These countries demonstrate a significant difference between exports and imports, suggesting a focus on either exporting or importing specific goods or services.\n",
    "* **Afghanistan, American Samoa, and Andorra:** These countries have relatively balanced trade, indicating a more diversified import-export profile.\n",
    "\n",
    "**Potential Implications:**\n",
    "\n",
    "* **Economic Growth:** Countries with a trade surplus (Albania) might experience economic growth due to increased exports and foreign exchange inflows.\n",
    "* **Dependency:** Countries with a trade deficit (Algeria, American Samoa, Andorra) might be more dependent on imports and vulnerable to external economic shocks.\n",
    "* **Trade Policies:** Governments might implement trade policies to address trade imbalances and promote economic growth.\n",
    "\n",
    "## Managerial Insights and Recommendations\n",
    "\n",
    "**Based on the provided data and analysis, here are some key managerial insights and recommendations:**\n",
    "\n",
    "### General Observations\n",
    "* **Trade Imbalances:** The data reveals that most countries in the sample have trade imbalances, with either a surplus or deficit. This suggests that these countries have specialized economies focused on specific sectors.\n",
    "* **Diversification:** Countries with a more balanced trade profile, such as Afghanistan, American Samoa, and Andorra, may be less vulnerable to economic shocks.\n",
    "* **Trade Policies:** Governments should carefully consider trade policies to address trade imbalances and promote economic growth.\n",
    "\n",
    "### Country-Specific Recommendations\n",
    "\n",
    "**Albania:**\n",
    "* **Leverage Export Advantages:** Given its trade surplus, Albania should explore opportunities to expand its exports and identify new markets.\n",
    "* **Diversify Imports:** To reduce dependence on imports, Albania could consider diversifying its supply chains and exploring domestic production alternatives.\n",
    "\n",
    "**Algeria:**\n",
    "* **Import Substitution:** Algeria might consider policies to promote domestic production of goods that are currently imported, reducing its trade deficit.\n",
    "* **Export Promotion:** The government could implement incentives to encourage exports of Algerian products and services.\n",
    "\n",
    "**American Samoa and Andorra:**\n",
    "* **Maintain Trade Balance:** These countries should strive to maintain a balanced trade profile, ensuring that imports and exports are aligned.\n",
    "* **Explore Export Opportunities:** Both countries could identify potential export markets for their products and services.\n",
    "\n",
    "### Overall Recommendations\n",
    "* **Trade Data Analysis:** Regular analysis of trade data is essential for identifying trends, opportunities, and challenges.\n",
    "* **Trade Agreements:** Countries should consider negotiating trade agreements to improve market access and reduce trade barriers.\n",
    "* **Economic Diversification:** To reduce vulnerability to economic shocks, countries should diversify their economies and promote multiple sectors.\n",
    "* **Infrastructure Development:** Investments in infrastructure, such as transportation and logistics, can facilitate trade and reduce costs.\n",
    "* **Education and Skill Development:** Investing in education and skill development can enhance the competitiveness of a country's workforce and exports.\n",
    "\n",
    "By carefully considering these insights and recommendations, governments and businesses can make informed decisions to optimize their trade strategies and promote economic growth."
   ]
  },
  {
   "cell_type": "markdown",
   "id": "b120f4ee",
   "metadata": {},
   "source": [
    "## Objective 2"
   ]
  },
  {
   "attachments": {
    "image.png": {
     "image/png": "[encoded data removed]"
    }
   },
   "cell_type": "markdown",
   "id": "60735f47",
   "metadata": {},
   "source": [
    "##### Most Frequent Products:\n",
    "![image.png](attachment:image.png)\n",
    "\n",
    "- **Travel** is the most frequent product, appearing **10 times**.\n",
    "- **Although** and **Beyond** follow closely with **9 occurrences** each.\n",
    "- **Family** and **Story** are also relatively frequent, with **8 occurrences** each.\n"
   ]
  },
  {
   "cell_type": "markdown",
   "id": "06f42b2f",
   "metadata": {},
   "source": [
    "## Objective 3"
   ]
  },
  {
   "cell_type": "markdown",
   "id": "b8ec24ce",
   "metadata": {},
   "source": [
    "| Shipping_Method | Frequency |\n",
    "|---|---|\n",
    "| Air | 1014 |\n",
    "| Sea | 1002 |\n",
    "| Land | 985 |\n",
    "\n",
    "\n",
    "### Frequency of Shipping Method:\n",
    "**Air (1014):** Air shipping is the most common method.\n",
    "\n",
    "**Sea (1002)** is the most sought after air and **Land (985)** is the least common method.\n",
    "\n",
    "This nearly even distribution of shipping methods suggests flexibility in shipping based on product or location requirements.\n",
    "\n",
    "### Managerial Insights & Recommendations :\n",
    "\n",
    "### 1\\. **Shipping Method Flexibility:**\n",
    "\n",
    "*   **Leverage All Modes:** The relatively even distribution of shipping methods indicates that the company has the flexibility to choose the most suitable mode for different products, destinations, and time-sensitive requirements.\n",
    "    \n",
    "*   **Optimize Costs and Delivery Times:** Continuously evaluate the costs and delivery times associated with each shipping method to identify opportunities for cost savings or faster delivery times.\n",
    "    \n",
    "\n",
    "### 2\\. **Air Shipping Strategy:**\n",
    "\n",
    "*   **Analyze Profitability:** Given that air shipping is the most common method, assess its profitability. Identify high-margin products or routes where the premium associated with air shipping is justified.\n",
    "    \n",
    "*   **Explore Consolidation Opportunities:** Consider consolidating air shipments to reduce costs per unit. Explore partnerships with other companies or industry associations to share transportation costs.\n",
    "    \n",
    "\n",
    "### 3\\. **Sea and Land Shipping Optimization:**\n",
    "\n",
    "*   **Identify Cost-Effective Routes:** For sea and land shipping, focus on identifying routes with lower transportation costs. Explore opportunities to negotiate better rates with carriers.\n",
    "    \n",
    "*   **Improve Inventory Management:** Optimize inventory levels to minimize the need for expedited shipping via air. Implement effective demand forecasting and inventory replenishment strategies.\n",
    "    \n",
    "\n",
    "### 4\\. **Data-Driven Decision Making:**\n",
    "\n",
    "*   **Track and Analyze Metrics:** Continuously track key performance indicators (KPIs) related to shipping, such as cost per unit, delivery time, and customer satisfaction. Analyze this data to identify trends and areas for improvement.\n",
    "    \n",
    "*   **Utilize Technology:** Implement transportation management systems (TMS) to streamline shipping operations, optimize routes, and track shipments in real-time.\n",
    "    \n",
    "\n",
    "### 5\\. **Customer Satisfaction and Service:**\n",
    "\n",
    "*   **Meet Customer Expectations:** Ensure that the chosen shipping method aligns with customer expectations for delivery time and cost. Monitor customer feedback to identify areas for improvement.\n",
    "    \n",
    "*   **Provide Visibility:** Offer customers real-time tracking information and proactive communication about shipment status to enhance the customer experience.\n",
    "    \n",
    "\n",
    "**By implementing these recommendations, the company can optimize its shipping operations, reduce costs, improve customer satisfaction, and maintain flexibility in meeting diverse shipping needs.**"
   ]
  },
  {
   "cell_type": "markdown",
   "id": "3eecdd93",
   "metadata": {},
   "source": [
    "## Objective 4"
   ]
  },
  {
   "cell_type": "markdown",
   "id": "abe28829",
   "metadata": {},
   "source": [
    "### Minimum Table:\n",
    "\n",
    "| **Field**           | **Value**         |\n",
    "|---------------------|-------------------|\n",
    "| **Country**         | Afghanistan        |\n",
    "| **Product**         | American           |\n",
    "| **Import/Export**   | Export             |\n",
    "| **Category**        | Clothing           |\n",
    "| **Port**            | Aaronborough       |\n",
    "| **Shipping Method** | Air                |\n",
    "| **Supplier**        | Abbott LLC         |\n",
    "| **Customer**        | Aaron Barnes       |\n",
    "| **Payment Terms**   | Cash on Delivery   |\n",
    "\n",
    "### Maximum Table:\n",
    "\n",
    "| **Field**           | **Value**          |\n",
    "|---------------------|--------------------|\n",
    "| **Country**         | Zimbabwe           |\n",
    "| **Product**         | Yourself           |\n",
    "| **Import/Export**   | Import             |\n",
    "| **Category**        | Toys               |\n",
    "| **Port**            | Zacharyland        |\n",
    "| **Shipping Method** | Sea                |\n",
    "| **Supplier**        | Zimmerman-Reyes    |\n",
    "| **Customer**        | Zoe Martin         |\n",
    "| **Payment Terms**   | Prepaid            |\n",
    "\"\"\"\n",
    "\n",
    "\n",
    "**Insights:**\n",
    "\n",
    "*   **Geographic Range:** The data spans from Afghanistan to Zimbabwe, indicating a wide range of geographical coverage.\n",
    "    \n",
    "*   **Product Variety:** The products range from American goods to toys, suggesting diversity in the traded items.\n",
    "    \n",
    "*   **Trade Balance:** The minimum and maximum values show both import and export transactions, suggesting a balanced trade flow.\n",
    "    \n",
    "*   **Shipping Methods:** Both air and sea shipping are used, indicating flexibility in transportation options.\n",
    "    \n",
    "*   **Payment Terms:** Both cash on delivery and prepaid payment terms are utilized, reflecting different business practices.\n",
    "    \n",
    "\n"
   ]
  },
  {
   "attachments": {
    "image.png": {
     "image/png": "[encoded data removed]"
    }
   },
   "cell_type": "markdown",
   "id": "6bbc80db",
   "metadata": {},
   "source": [
    "### Grouping by 'Country' and calculating the average for 'Value' and 'Quantity'\n",
    "\n",
    "![image.png](attachment:image.png)\n",
    "\n",
    "| Country | Avg_Value | Avg_Quantity |\n",
    "|---|---|---|\n",
    "| Solomon Islands | 6908.63 | 6367.50 |\n",
    "| Switzerland | 6872.15 | 4426.23 |\n",
    "| Palau | 6774.04 | 5343.90 |\n",
    "| Somalia | 6688.90 | 5449.82 |\n",
    "| Guadeloupe | 6463.84 | 5405.83 |\n",
    "\n",
    "### Key Analysis and Observations\n",
    "\n",
    "**1. Average Value:**\n",
    "\n",
    "* Solomon Islands has the highest average value at 6908.63.\n",
    "* Switzerland has the second highest average value at 6872.15.\n",
    "* The average values for Palau, Somalia, and Guadeloupe are relatively close to each other, ranging from 6463.84 to 6774.04.\n",
    "\n",
    "**2. Average Quantity:**\n",
    "\n",
    "* Solomon Islands also has the highest average quantity at 6367.50.\n",
    "* Guadeloupe has the second highest average quantity at 5405.83.\n",
    "* Somalia has the lowest average quantity at 5449.82.\n",
    "\n",
    "**3. Relationship between Average Value and Quantity:**\n",
    "\n",
    "* There appears to be a general correlation between average value and quantity. Countries with higher average values also tend to have higher average quantities. However, this relationship is not perfectly linear. For example, Switzerland has a higher average value than Palau but a lower average quantity.\n",
    "\n",
    "**4. Country-Specific Observations:**\n",
    "\n",
    "* Solomon Islands has the highest average value and quantity, suggesting it may be producing or consuming high-value goods or services in large quantities.\n",
    "* Switzerland has a high average value but a relatively low average quantity, indicating it may be producing or consuming high-value goods or services in smaller quantities.\n",
    "* Somalia has a low average value and quantity, suggesting it may be producing or consuming low-value goods or services in small quantities.\n",
    "\n",
    "### Managerial Insights\n",
    "\n",
    "**Key Findings and Implications**\n",
    "\n",
    "1. **Country-Specific Performance Analysis:**\n",
    "\n",
    "   * **Solomon Islands:** This country exhibits the highest average value and quantity, suggesting it might be a significant market or producer of high-value goods or services.\n",
    "   * **Switzerland:** While it has a high average value, its lower average quantity indicates a potential focus on high-value, niche products or services.\n",
    "   * **Palau, Somalia, and Guadeloupe:** These countries have relatively similar average values and quantities, suggesting a more balanced market or production profile.\n",
    "\n",
    "2. **Pricing and Demand Dynamics:**\n",
    "\n",
    "   * **Solomon Islands:** The high average value and quantity might indicate strong demand for premium products or services in this country.\n",
    "   * **Switzerland:** The combination of high value and lower quantity suggests a market with a willingness to pay higher prices for specialized goods or services.\n",
    "   * **Other Countries:** The relatively similar average values and quantities in Palau, Somalia, and Guadeloupe might suggest a more competitive market with price sensitivity.\n",
    "\n",
    "3. **Market Segmentation and Targeting:**\n",
    "\n",
    "   * **Solomon Islands:** Businesses could focus on offering high-quality, premium products or services to cater to the strong demand.\n",
    "   * **Switzerland:** Targeting niche markets or segments that value specialized products or services could be effective.\n",
    "   * **Other Countries:** A more general market approach with a focus on competitive pricing and product differentiation might be suitable.\n",
    "\n",
    "4. **Supply Chain and Operations:**\n",
    "\n",
    "   * **Solomon Islands:** Businesses might need to invest in efficient supply chains to meet the demand for high-value goods or services.\n",
    "   * **Switzerland:** A focus on quality control and customization might be necessary to cater to the specialized needs of the market.\n",
    "   * **Other Countries:** A more standardized approach to supply chain and operations might be sufficient.\n",
    "\n",
    "### Recommendations\n",
    "\n",
    "* **Conduct Deeper Market Research:** Gather more detailed information about consumer preferences, market trends, and the competitive landscape in each country.\n",
    "* **Tailor Product Offerings:** Customize product offerings and marketing strategies to align with the specific needs and preferences of each market.\n",
    "* **Optimize Supply Chain:** Ensure efficient supply chains and operations to meet demand and maintain competitive pricing.\n",
    "* **Monitor Market Dynamics:** Continuously monitor market changes and adjust strategies accordingly to stay ahead of the competition.\n",
    "* **Consider Partnerships:** Explore strategic partnerships with local businesses or distributors to enhance market penetration and understanding.\n",
    "\n",
    "**By implementing these recommendations, businesses can leverage the insights from this analysis to make informed decisions, optimize their market strategies, and improve overall performance in each country.**"
   ]
  },
  {
   "cell_type": "markdown",
   "id": "f376e312",
   "metadata": {},
   "source": [
    "## Objective 6\n"
   ]
  },
  {
   "attachments": {
    "image.png": {
     "image/png": "[encoded data removed]"
    }
   },
   "cell_type": "markdown",
   "id": "2caa95e5",
   "metadata": {},
   "source": [
    "### Findinig Maximum Weight in KGs per Shipping Method and Category\n",
    "\n",
    "| Category | Clothing | Electronics | Furniture | Machinery | Toys |\n",
    "|---|---|---|---|---|---|\n",
    "| Shipping Method | | | | | |\n",
    "| Air | 4927.00 | 4971.92 | 4965.92 | 4994.36 | 4997.24 |\n",
    "| Land | 4994.90 | 4984.60 | 4926.50 | 4998.01 | 4966.97 |\n",
    "| Sea | 4962.45 | 4990.24 | 4993.26 | 4994.71 | 4959.85 |\n",
    "\n",
    "![image.png](attachment:image.png)\n",
    "\n",
    "### Key Observations\n",
    "\n",
    "**Category Variation**\n",
    "\n",
    "* **Machinery:** Across all shipping methods, Machinery consistently has the highest maximum weight allowed. This suggests that it's the heaviest category among the listed ones.\n",
    "* **Clothing:** On the other hand, Clothing generally has the lowest maximum weight restrictions, implying it's the lightest category.\n",
    "\n",
    "**Shipping Method Variation**\n",
    "\n",
    "* **Air:** Air shipping generally has lower maximum weight limits compared to Land and Sea, likely due to the weight restrictions imposed by aircraft.\n",
    "* **Land:** Land shipping often has the highest maximum weight limits, especially for Machinery. This could be attributed to the capacity of trucks and other land transportation vehicles.\n",
    "* **Sea:** Sea shipping falls somewhere between Air and Land in terms of weight limits. It might be influenced by factors like container size and ship capacity.\n",
    "\n",
    "**Specific Observations**\n",
    "\n",
    "* **Clothing:** Air shipping has the lowest maximum weight for Clothing, while Sea shipping has the highest.\n",
    "* **Electronics:** Air shipping and Land shipping have similar maximum weights for Electronics.\n",
    "* **Furniture:** Land shipping consistently allows for the highest maximum weight for Furniture.\n",
    "* **Toys:** There's less variation in maximum weight for Toys across different shipping methods.\n",
    "\n",
    "**Potential Implications**\n",
    "\n",
    "* **Shipping Costs:** Heavier items typically incur higher shipping costs. This analysis can help businesses determine the most cost-effective shipping method for different product categories.\n",
    "* **Packaging:** The maximum weight limits might influence packaging decisions, such as the materials used and the number of items bundled together.\n",
    "* **Product Design:** Manufacturers might consider the weight restrictions when designing products to optimize shipping efficiency and costs.\n",
    "\n",
    "### Statistical Analysis:\n",
    "\n",
    "**Chi-Square Test:**\n",
    "\n",
    "The chi-square test was conducted to determine if there is a significant association between Shipping Method and Category in terms of maximum weight. The results are as follows:\n",
    "\n",
    "* Chi-square statistic: 1.0575000907977576\n",
    "* p-value: 0.9978583310250988\n",
    "\n",
    "**Based on the p-value, there is no significant association between Shipping Method and Category. This suggests that the maximum weight allowed for a product is not significantly influenced by the shipping method chosen.**\n",
    "\n",
    "### Managerial Insights\n",
    "\n",
    "**Key Findings and Implications**\n",
    "\n",
    "1. **Category-Based Shipping Strategies:**\n",
    "\n",
    "   * **Machinery:** Given its high weight, Machinery might benefit from **Land** or **Sea** shipping for cost-effectiveness.\n",
    "   * **Clothing:** **Air** shipping is often the most suitable option due to its lower weight limits.\n",
    "   * **Electronics, Furniture, and Toys:** These categories have less variation in weight restrictions, allowing for more flexibility in shipping method selection. However, **Land** shipping might be preferred for Furniture due to its consistently higher weight limits.\n",
    "\n",
    "2. **Packaging Optimization:**\n",
    "\n",
    "   * **Heavy Items:** For Machinery and Furniture, consider using **sturdy, lightweight materials** to reduce overall weight.\n",
    "   * **Lightweight Items:** For Clothing and Electronics, **optimize packaging** to maximize the number of items per shipment without exceeding weight limits.\n",
    "\n",
    "3. **Product Design Considerations:**\n",
    "\n",
    "   * **Weight Reduction:** If possible, design products to **minimize weight** without compromising functionality or quality. This can lead to lower shipping costs.\n",
    "   * **Dimensional Optimization:** Consider the **dimensions** of products along with weight. Some shipping methods have limitations on both weight and dimensions.\n",
    "\n",
    "4. **Shipping Cost Analysis:**\n",
    "\n",
    "   * **Cost-Benefit Analysis:** Regularly evaluate the **costs** associated with different shipping methods and compare them to the potential **benefits** of faster delivery or reduced handling.\n",
    "   * **Negotiate Rates:** Leverage your shipping volume to negotiate **favorable rates** with carriers.\n",
    "\n",
    "5. **Flexibility and Adaptability:**\n",
    "\n",
    "   * **Market Dynamics:** Be prepared to **adjust** shipping strategies based on changes in market conditions, customer demands, and shipping costs.\n",
    "   * **Emergency Situations:** Have contingency plans in place to handle **urgent shipments** that might require expedited shipping or alternative methods.\n",
    "\n",
    "### Recommendations\n",
    "\n",
    "**Our analysis suggests the following actions to optimize your shipping strategies:**\n",
    "\n",
    "* **Regularly Review Shipping Data:** Track shipping costs, delivery times, and customer satisfaction to identify areas for improvement.\n",
    "* **Utilize Shipping Software:** Implement software to optimize shipping processes, calculate costs, and track shipments effectively.\n",
    "* **Consider Third-Party Logistics (3PL):** Partner with 3PL providers for specialized services like warehousing, transportation management, and customs clearance.\n",
    "* **Stay Informed About Shipping Regulations:** Keep up-to-date with industry regulations, tariffs, and trade agreements that might impact shipping costs and operations.\n",
    "\n",
    "**By implementing these recommendations, the organization can optimize its shipping strategies, reduce costs, and improve overall supply chain efficiency.**\n"
   ]
  },
  {
   "cell_type": "markdown",
   "id": "09c7d080",
   "metadata": {},
   "source": [
    "## Objective 7 "
   ]
  },
  {
   "attachments": {
    "image.png": {
     "image/png": "[encoded data removed]"
    }
   },
   "cell_type": "markdown",
   "id": "57f46e7d",
   "metadata": {},
   "source": [
    "### Count of products by their payment terms per Category\n",
    "\n",
    "| Category | Cash on Delivery | Net 30 | Net 60 | Prepaid |\n",
    "|---|---|---|---|---|\n",
    "| Clothing | 162 | 142 | 144 | 148 |\n",
    "| Electronics | 137 | 151 | 142 | 148 |\n",
    "| Furniture | 162 | 159 | 135 | 159 |\n",
    "| Machinery | 149 | 142 | 162 | 162 |\n",
    "| Toys | 151 | 140 | 143 | 163 |\n",
    "\n",
    "![image.png](attachment:image.png)\n",
    "\n",
    "### Key Analysis and Observations\n",
    "\n",
    "**Payment Term Distribution:**\n",
    "\n",
    "* Across all categories, the most common payment terms are \"Cash on Delivery\" and \"Net 30.\" This suggests that a majority of customers prefer immediate payment or short-term credit.\n",
    "\n",
    "**Category Variations:**\n",
    "\n",
    "* **Clothing:** \"Cash on Delivery\" is the most popular payment term, followed by \"Net 30.\" This indicates a preference for immediate payment or short-term credit, possibly due to the lower value of clothing items.\n",
    "* **Electronics:** \"Net 30\" is the most popular payment term, followed by \"Cash on Delivery.\" This suggests that customers may be more willing to pay on credit for higher-value electronic products.\n",
    "* **Furniture:** Similar to Electronics, \"Net 30\" is the preferred payment term, indicating a willingness to pay on credit for larger purchases.\n",
    "* **Machinery:** \"Net 60\" and \"Prepaid\" are slightly more popular than \"Cash on Delivery\" and \"Net 30.\" This suggests that customers in this category might require longer payment terms, possibly due to the higher value and complexity of machinery purchases.\n",
    "* **Toys:** \"Prepaid\" is the most popular payment term, followed by \"Cash on Delivery.\" This indicates a preference for immediate payment, likely due to the lower value of toys and the convenience of prepaid options.\n",
    "\n",
    "### Statistical Analysis\n",
    "\n",
    "**Chi-Square Test:**\n",
    "\n",
    "A chi-square test was conducted to determine if there is a significant association between Category and Payment_Terms. The results are as follows:\n",
    "\n",
    "* Chi-square statistic: 7.1827090450111\n",
    "* p-value: 0.8453068394556151\n",
    "\n",
    "**Based on the p-value, there is no significant association between Category and Payment_Terms. This suggests that the choice of payment term is not significantly influenced by the product category.**\n",
    "\n",
    "### Managerial Insights\n",
    "\n",
    "**1. Credit Policy Optimization:**\n",
    "\n",
    "* **Category-Specific Policies:** Consider implementing different credit policies for different categories based on their payment term preferences. For example, offer more flexible payment terms for Machinery, while maintaining stricter terms for Clothing and Toys.\n",
    "* **Risk Assessment:** Evaluate the creditworthiness of customers before offering extended payment terms, especially for higher-value items.\n",
    "\n",
    "**2. Pricing Strategies:**\n",
    "\n",
    "* **Discounts for Early Payment:** Incentivize customers to pay earlier by offering discounts for \"Cash on Delivery\" or \"Net 30\" payments.\n",
    "* **Interest Charges:** Implement reasonable interest charges for late payments to encourage timely payments and maintain cash flow.\n",
    "\n",
    "**3. Payment Options:**\n",
    "\n",
    "* **Expand Payment Options:** Offer a variety of payment options, such as credit cards, digital wallets, and installment plans, to cater to different customer preferences.\n",
    "* **Online Payment Gateways:** Ensure secure and efficient online payment gateways to facilitate easy transactions.\n",
    "\n",
    "**4. Customer Relationship Management:**\n",
    "\n",
    "* **Personalized Communication:** Communicate payment terms clearly and effectively to customers, tailoring the communication to their specific needs and preferences.\n",
    "* **Follow-up and Collections:** Implement efficient follow-up and collections processes to minimize late payments and bad debts.\n",
    "\n",
    "**5. Inventory Management:**\n",
    "\n",
    "* **Demand Forecasting:** Use payment term data to forecast demand and optimize inventory levels, reducing the risk of stockouts or excess inventory.\n",
    "\n",
    "**6. Financial Analysis:**\n",
    "\n",
    "* **Cash Flow Management:** Monitor cash flow closely to ensure adequate funds for operations and investments.\n",
    "* **Profitability Analysis:** Evaluate the impact of different payment terms on profitability and make adjustments as needed.\n",
    "\n",
    "**By implementing these managerial insights, businesses can optimize their payment policies, improve customer satisfaction, and enhance overall financial performance.**"
   ]
  },
  {
   "cell_type": "markdown",
   "id": "f8e97e66",
   "metadata": {},
   "source": [
    "## Observation 8"
   ]
  },
  {
   "attachments": {
    "image.png": {
     "image/png": "[encoded data removed]"
    }
   },
   "cell_type": "markdown",
   "id": "70253b53",
   "metadata": {},
   "source": [
    "### Rank categories based on the most preferred Category(i.e., highest total economic impact)\n",
    "\n",
    "| Category | Total Economic Impact in $ | Rank |\n",
    "|---|---|---|\n",
    "| Furniture | 3155020.10 | 1.0 |\n",
    "| Toys | 3001177.95 | 2.0 |\n",
    "| Clothing | 2996226.27 | 3.0 |\n",
    "| Machinery | 2992691.22 | 4.0 |\n",
    "| Electronics | 2963909.82 | 5.0 |\n",
    "\n",
    "![image.png](attachment:image.png)\n",
    "\n",
    "### Key Findings\n",
    "\n",
    "* **Furniture Dominates:** The \"Furniture\" category has the highest Total Economic Impact, significantly surpassing the other categories. This suggests that furniture sales or production have the greatest economic contribution.\n",
    "* **Close Competition:** The remaining categories (Toys, Clothing, Machinery, and Electronics) have relatively similar economic impacts, indicating a competitive landscape.\n",
    "\n",
    "### Managerial Insights and Recommendations\n",
    "\n",
    "**1. Focus on Furniture:**\n",
    "\n",
    "* **Product Innovation:** Continue to invest in innovative furniture designs and features to maintain market leadership.\n",
    "* **Market Expansion:** Explore opportunities to expand into new furniture markets or segments.\n",
    "* **Supply Chain Optimization:** Ensure efficient supply chains to reduce costs and improve product availability.\n",
    "\n",
    "**2. Competitive Analysis:**\n",
    "\n",
    "* **Benchmarking:** Regularly benchmark your performance against competitors in the Toys, Clothing, Machinery, and Electronics categories to identify areas for improvement.\n",
    "* **Product Differentiation:** Develop unique selling propositions for your products to differentiate them from competitors.\n",
    "* **Pricing Strategies:** Analyze competitor pricing and adjust your own pricing strategies accordingly to maintain market share and profitability.\n",
    "\n",
    "**3. Diversification:**\n",
    "\n",
    "* **New Categories:** Consider expanding into new product categories to reduce reliance on the Furniture category and diversify revenue streams.\n",
    "* **Related Products:** Explore opportunities to offer complementary products or services to increase customer value and cross-selling.\n",
    "\n",
    "**4. Customer Satisfaction:**\n",
    "\n",
    "* **Feedback Analysis:** Gather customer feedback to understand their needs and preferences.\n",
    "* **Customer Service:** Provide excellent customer service to build loyalty and positive word-of-mouth.\n",
    "\n",
    "**5. Sustainability:**\n",
    "\n",
    "* **Ethical Sourcing:** Ensure that your products are sourced ethically and sustainably.\n",
    "* **Environmental Impact:** Minimize your business's environmental impact by adopting sustainable practices.\n",
    "\n",
    "**6. Technological Advancements:**\n",
    "\n",
    "* **Innovation:** Stay updated on technological advancements in your industry and explore opportunities to incorporate them into your products or processes.\n",
    "* **Digital Transformation:** Leverage digital technologies to improve efficiency, enhance customer experience, and gather valuable data.\n",
    "\n",
    "**By implementing these managerial insights, businesses can capitalize on their strengths in the Furniture category while strategically addressing the competitive landscape in other areas. This will help them maintain a sustainable and profitable position in the market.**"
   ]
  },
  {
   "cell_type": "markdown",
   "id": "4e245be0-b659-48cc-a471-7ccb47459b7a",
   "metadata": {},
   "source": [
    "# Recommendations\n",
    "**Data-Driven Decision-Making: Implement regular monitoring and analysis of trade data to spot emerging trends. Leveraging advanced analytics tools like predictive modeling could further enhance the accuracy of future trade predictions.\n",
    "Optimize Shipping Methods for Cost Efficiency: For lower-value goods, businesses could explore more cost-effective shipping methods, potentially using consolidated shipping or partnerships with local carriers to reduce expenses.\n",
    "Country-Specific Partnerships: Develop strategic partnerships in countries with high import/export activities to capitalize on local market trends. Engaging in joint ventures or partnerships with local firms can improve access to resources and lower operational costs.**"
   ]
  },
  {
   "cell_type": "raw",
   "id": "507f1ca7",
   "metadata": {},
   "source": [
    "-----------------------X-----------------------------------------------------------------------------------X--------------------"
   ]
  },
  {
   "cell_type": "markdown",
   "id": "b6671f1a-0c51-40ce-9c7b-edb052f30858",
   "metadata": {},
   "source": [
    "# Importing Relevant Python Libraries.\n"
   ]
  },
  {
   "cell_type": "code",
   "execution_count": 167,
   "id": "10f5e30d",
   "metadata": {},
   "outputs": [],
   "source": [
    "import pandas as pd\n",
    "import numpy as np\n",
    "import seaborn as sns\n",
    "import matplotlib.pyplot as plt"
   ]
  },
  {
   "cell_type": "code",
   "execution_count": 168,
   "id": "b3ab6c98-3e32-4d3e-82fa-d5afbb57c4d5",
   "metadata": {},
   "outputs": [],
   "source": [
    "# Loading the Data.\n",
    "data = pd.read_csv(\"C:/Users/aniru/Desktop/PythonProj/Imports_Exports_Dataset.csv\")"
   ]
  },
  {
   "cell_type": "code",
   "execution_count": 169,
   "id": "3da21b9c-3a91-41b5-b3d7-6101e39ebd4c",
   "metadata": {},
   "outputs": [
    {
     "data": {
      "text/plain": [
       "(15000, 16)"
      ]
     },
     "execution_count": 169,
     "metadata": {},
     "output_type": "execute_result"
    }
   ],
   "source": [
    "# Dimensions of Data.\n",
    "data.shape"
   ]
  },
  {
   "cell_type": "code",
   "execution_count": 170,
   "id": "eae41ff1-61bd-4412-b7ef-89d6eb1aef16",
   "metadata": {},
   "outputs": [],
   "source": [
    "# Creating an Unique Sample of 2001 Records using Student Roll Number as Random State.\n",
    "sample=data.sample(n=3001, random_state=55003)"
   ]
  },
  {
   "cell_type": "code",
   "execution_count": 171,
   "id": "18aaf9d9-94e5-4836-bd6c-9935fbc3ce95",
   "metadata": {},
   "outputs": [
    {
     "data": {
      "text/plain": [
       "(3001, 16)"
      ]
     },
     "execution_count": 171,
     "metadata": {},
     "output_type": "execute_result"
    }
   ],
   "source": [
    "# Dimensions of Sample Data.\n",
    "sample.shape"
   ]
  },
  {
   "cell_type": "code",
   "execution_count": 172,
   "id": "a275ff0d-1f47-45f5-83f7-062875ee8401",
   "metadata": {},
   "outputs": [
    {
     "name": "stdout",
     "output_type": "stream",
     "text": [
      "<class 'pandas.core.frame.DataFrame'>\n",
      "Int64Index: 3001 entries, 11814 to 6234\n",
      "Data columns (total 16 columns):\n",
      " #   Column           Non-Null Count  Dtype  \n",
      "---  ------           --------------  -----  \n",
      " 0   Transaction_ID   3001 non-null   object \n",
      " 1   Country          3001 non-null   object \n",
      " 2   Product          3001 non-null   object \n",
      " 3   Import_Export    3001 non-null   object \n",
      " 4   Quantity         3001 non-null   int64  \n",
      " 5   Value            3001 non-null   float64\n",
      " 6   Date             3001 non-null   object \n",
      " 7   Category         3001 non-null   object \n",
      " 8   Port             3001 non-null   object \n",
      " 9   Customs_Code     3001 non-null   int64  \n",
      " 10  Weight           3001 non-null   float64\n",
      " 11  Shipping_Method  3001 non-null   object \n",
      " 12  Supplier         3001 non-null   object \n",
      " 13  Customer         3001 non-null   object \n",
      " 14  Invoice_Number   3001 non-null   int64  \n",
      " 15  Payment_Terms    3001 non-null   object \n",
      "dtypes: float64(2), int64(3), object(11)\n",
      "memory usage: 398.6+ KB\n"
     ]
    }
   ],
   "source": [
    "# Sample Data Information.\n",
    "sample.info()"
   ]
  },
  {
   "cell_type": "code",
   "execution_count": 173,
   "id": "2a9dae43-e316-4f3d-b5e6-fd96e33ca618",
   "metadata": {},
   "outputs": [
    {
     "data": {
      "text/html": [
       "<div>\n",
       "<style scoped>\n",
       "    .dataframe tbody tr th:only-of-type {\n",
       "        vertical-align: middle;\n",
       "    }\n",
       "\n",
       "    .dataframe tbody tr th {\n",
       "        vertical-align: top;\n",
       "    }\n",
       "\n",
       "    .dataframe thead th {\n",
       "        text-align: right;\n",
       "    }\n",
       "</style>\n",
       "<table border=\"1\" class=\"dataframe\">\n",
       "  <thead>\n",
       "    <tr style=\"text-align: right;\">\n",
       "      <th></th>\n",
       "      <th>Transaction_ID</th>\n",
       "      <th>Country</th>\n",
       "      <th>Product</th>\n",
       "      <th>Import_Export</th>\n",
       "      <th>Quantity</th>\n",
       "      <th>Value</th>\n",
       "      <th>Date</th>\n",
       "      <th>Category</th>\n",
       "      <th>Port</th>\n",
       "      <th>Customs_Code</th>\n",
       "      <th>Weight</th>\n",
       "      <th>Shipping_Method</th>\n",
       "      <th>Supplier</th>\n",
       "      <th>Customer</th>\n",
       "      <th>Invoice_Number</th>\n",
       "      <th>Payment_Terms</th>\n",
       "    </tr>\n",
       "  </thead>\n",
       "  <tbody>\n",
       "    <tr>\n",
       "      <th>11814</th>\n",
       "      <td>606cad82-235f-4c0f-91e3-22ab2c222ad8</td>\n",
       "      <td>Burundi</td>\n",
       "      <td>color</td>\n",
       "      <td>Import</td>\n",
       "      <td>2764</td>\n",
       "      <td>239.73</td>\n",
       "      <td>03-08-2024</td>\n",
       "      <td>Clothing</td>\n",
       "      <td>Dunnchester</td>\n",
       "      <td>538494</td>\n",
       "      <td>4663.39</td>\n",
       "      <td>Sea</td>\n",
       "      <td>Allen-Taylor</td>\n",
       "      <td>Neil Burton</td>\n",
       "      <td>14423059</td>\n",
       "      <td>Net 60</td>\n",
       "    </tr>\n",
       "    <tr>\n",
       "      <th>10057</th>\n",
       "      <td>47592560-65a8-473a-b958-19e7cbec3899</td>\n",
       "      <td>Indonesia</td>\n",
       "      <td>education</td>\n",
       "      <td>Export</td>\n",
       "      <td>4912</td>\n",
       "      <td>2913.98</td>\n",
       "      <td>20-06-2021</td>\n",
       "      <td>Furniture</td>\n",
       "      <td>Masonborough</td>\n",
       "      <td>705595</td>\n",
       "      <td>2548.41</td>\n",
       "      <td>Sea</td>\n",
       "      <td>Garcia Group</td>\n",
       "      <td>Edward Rogers</td>\n",
       "      <td>21746873</td>\n",
       "      <td>Prepaid</td>\n",
       "    </tr>\n",
       "    <tr>\n",
       "      <th>1132</th>\n",
       "      <td>148680de-b9e7-49c6-96f4-8941ad283c0d</td>\n",
       "      <td>Finland</td>\n",
       "      <td>research</td>\n",
       "      <td>Import</td>\n",
       "      <td>9480</td>\n",
       "      <td>5443.00</td>\n",
       "      <td>24-08-2020</td>\n",
       "      <td>Toys</td>\n",
       "      <td>Lake Codyside</td>\n",
       "      <td>454610</td>\n",
       "      <td>1382.70</td>\n",
       "      <td>Land</td>\n",
       "      <td>Castro Inc</td>\n",
       "      <td>Kimberly Shaffer</td>\n",
       "      <td>5238725</td>\n",
       "      <td>Net 60</td>\n",
       "    </tr>\n",
       "    <tr>\n",
       "      <th>6534</th>\n",
       "      <td>4ffc70a4-3152-45dc-9da5-8a92dd172237</td>\n",
       "      <td>Svalbard &amp; Jan Mayen Islands</td>\n",
       "      <td>field</td>\n",
       "      <td>Import</td>\n",
       "      <td>640</td>\n",
       "      <td>7245.04</td>\n",
       "      <td>29-01-2020</td>\n",
       "      <td>Furniture</td>\n",
       "      <td>New Branditon</td>\n",
       "      <td>331698</td>\n",
       "      <td>4656.89</td>\n",
       "      <td>Air</td>\n",
       "      <td>Jackson Ltd</td>\n",
       "      <td>Jill Anderson</td>\n",
       "      <td>69561185</td>\n",
       "      <td>Prepaid</td>\n",
       "    </tr>\n",
       "    <tr>\n",
       "      <th>9391</th>\n",
       "      <td>f28c108d-0f99-4c84-a260-ecfacc10fd0e</td>\n",
       "      <td>Samoa</td>\n",
       "      <td>important</td>\n",
       "      <td>Import</td>\n",
       "      <td>6648</td>\n",
       "      <td>3654.87</td>\n",
       "      <td>27-06-2024</td>\n",
       "      <td>Clothing</td>\n",
       "      <td>New Jerome</td>\n",
       "      <td>622598</td>\n",
       "      <td>1504.55</td>\n",
       "      <td>Land</td>\n",
       "      <td>Lawson-Anderson</td>\n",
       "      <td>Danielle Bennett</td>\n",
       "      <td>5287827</td>\n",
       "      <td>Net 30</td>\n",
       "    </tr>\n",
       "  </tbody>\n",
       "</table>\n",
       "</div>"
      ],
      "text/plain": [
       "                             Transaction_ID                       Country  \\\n",
       "11814  606cad82-235f-4c0f-91e3-22ab2c222ad8                       Burundi   \n",
       "10057  47592560-65a8-473a-b958-19e7cbec3899                     Indonesia   \n",
       "1132   148680de-b9e7-49c6-96f4-8941ad283c0d                       Finland   \n",
       "6534   4ffc70a4-3152-45dc-9da5-8a92dd172237  Svalbard & Jan Mayen Islands   \n",
       "9391   f28c108d-0f99-4c84-a260-ecfacc10fd0e                         Samoa   \n",
       "\n",
       "         Product Import_Export  Quantity    Value        Date   Category  \\\n",
       "11814      color        Import      2764   239.73  03-08-2024   Clothing   \n",
       "10057  education        Export      4912  2913.98  20-06-2021  Furniture   \n",
       "1132    research        Import      9480  5443.00  24-08-2020       Toys   \n",
       "6534       field        Import       640  7245.04  29-01-2020  Furniture   \n",
       "9391   important        Import      6648  3654.87  27-06-2024   Clothing   \n",
       "\n",
       "                Port  Customs_Code   Weight Shipping_Method         Supplier  \\\n",
       "11814    Dunnchester        538494  4663.39             Sea     Allen-Taylor   \n",
       "10057   Masonborough        705595  2548.41             Sea     Garcia Group   \n",
       "1132   Lake Codyside        454610  1382.70            Land       Castro Inc   \n",
       "6534   New Branditon        331698  4656.89             Air      Jackson Ltd   \n",
       "9391      New Jerome        622598  1504.55            Land  Lawson-Anderson   \n",
       "\n",
       "               Customer  Invoice_Number Payment_Terms  \n",
       "11814       Neil Burton        14423059        Net 60  \n",
       "10057     Edward Rogers        21746873       Prepaid  \n",
       "1132   Kimberly Shaffer         5238725        Net 60  \n",
       "6534      Jill Anderson        69561185       Prepaid  \n",
       "9391   Danielle Bennett         5287827        Net 30  "
      ]
     },
     "execution_count": 173,
     "metadata": {},
     "output_type": "execute_result"
    }
   ],
   "source": [
    "# First 05 Records of the Sample Data\n",
    "sample.head(5)"
   ]
  },
  {
   "cell_type": "code",
   "execution_count": 174,
   "id": "8715946c-e386-4490-a524-d396da4f96e1",
   "metadata": {},
   "outputs": [
    {
     "data": {
      "text/plain": [
       "Index(['Transaction_ID', 'Country', 'Product', 'Import_Export', 'Quantity',\n",
       "       'Value', 'Date', 'Category', 'Port', 'Customs_Code', 'Weight',\n",
       "       'Shipping_Method', 'Supplier', 'Customer', 'Invoice_Number',\n",
       "       'Payment_Terms'],\n",
       "      dtype='object')"
      ]
     },
     "execution_count": 174,
     "metadata": {},
     "output_type": "execute_result"
    }
   ],
   "source": [
    "# Names of Variables\n",
    "sample.columns"
   ]
  },
  {
   "cell_type": "markdown",
   "id": "31e68c96-fe0a-42b3-a409-cfa9e5788409",
   "metadata": {},
   "source": []
  },
  {
   "cell_type": "code",
   "execution_count": 175,
   "id": "9465c6ff-0c76-4ff1-a800-0ebb55b38a47",
   "metadata": {},
   "outputs": [
    {
     "data": {
      "text/html": [
       "<div>\n",
       "<style scoped>\n",
       "    .dataframe tbody tr th:only-of-type {\n",
       "        vertical-align: middle;\n",
       "    }\n",
       "\n",
       "    .dataframe tbody tr th {\n",
       "        vertical-align: top;\n",
       "    }\n",
       "\n",
       "    .dataframe thead th {\n",
       "        text-align: right;\n",
       "    }\n",
       "</style>\n",
       "<table border=\"1\" class=\"dataframe\">\n",
       "  <thead>\n",
       "    <tr style=\"text-align: right;\">\n",
       "      <th></th>\n",
       "      <th>Quantity</th>\n",
       "      <th>Value</th>\n",
       "      <th>Customs_Code</th>\n",
       "      <th>Weight</th>\n",
       "    </tr>\n",
       "  </thead>\n",
       "  <tbody>\n",
       "    <tr>\n",
       "      <th>11814</th>\n",
       "      <td>2764</td>\n",
       "      <td>239.73</td>\n",
       "      <td>538494</td>\n",
       "      <td>4663.39</td>\n",
       "    </tr>\n",
       "    <tr>\n",
       "      <th>10057</th>\n",
       "      <td>4912</td>\n",
       "      <td>2913.98</td>\n",
       "      <td>705595</td>\n",
       "      <td>2548.41</td>\n",
       "    </tr>\n",
       "    <tr>\n",
       "      <th>1132</th>\n",
       "      <td>9480</td>\n",
       "      <td>5443.00</td>\n",
       "      <td>454610</td>\n",
       "      <td>1382.70</td>\n",
       "    </tr>\n",
       "    <tr>\n",
       "      <th>6534</th>\n",
       "      <td>640</td>\n",
       "      <td>7245.04</td>\n",
       "      <td>331698</td>\n",
       "      <td>4656.89</td>\n",
       "    </tr>\n",
       "    <tr>\n",
       "      <th>9391</th>\n",
       "      <td>6648</td>\n",
       "      <td>3654.87</td>\n",
       "      <td>622598</td>\n",
       "      <td>1504.55</td>\n",
       "    </tr>\n",
       "    <tr>\n",
       "      <th>...</th>\n",
       "      <td>...</td>\n",
       "      <td>...</td>\n",
       "      <td>...</td>\n",
       "      <td>...</td>\n",
       "    </tr>\n",
       "    <tr>\n",
       "      <th>1563</th>\n",
       "      <td>6483</td>\n",
       "      <td>2705.85</td>\n",
       "      <td>853125</td>\n",
       "      <td>753.86</td>\n",
       "    </tr>\n",
       "    <tr>\n",
       "      <th>1223</th>\n",
       "      <td>8217</td>\n",
       "      <td>2120.59</td>\n",
       "      <td>134834</td>\n",
       "      <td>2560.18</td>\n",
       "    </tr>\n",
       "    <tr>\n",
       "      <th>5910</th>\n",
       "      <td>4745</td>\n",
       "      <td>9220.71</td>\n",
       "      <td>486696</td>\n",
       "      <td>2203.99</td>\n",
       "    </tr>\n",
       "    <tr>\n",
       "      <th>10508</th>\n",
       "      <td>3451</td>\n",
       "      <td>5161.95</td>\n",
       "      <td>928745</td>\n",
       "      <td>2569.86</td>\n",
       "    </tr>\n",
       "    <tr>\n",
       "      <th>6234</th>\n",
       "      <td>1338</td>\n",
       "      <td>6506.70</td>\n",
       "      <td>476517</td>\n",
       "      <td>2628.36</td>\n",
       "    </tr>\n",
       "  </tbody>\n",
       "</table>\n",
       "<p>3001 rows × 4 columns</p>\n",
       "</div>"
      ],
      "text/plain": [
       "       Quantity    Value  Customs_Code   Weight\n",
       "11814      2764   239.73        538494  4663.39\n",
       "10057      4912  2913.98        705595  2548.41\n",
       "1132       9480  5443.00        454610  1382.70\n",
       "6534        640  7245.04        331698  4656.89\n",
       "9391       6648  3654.87        622598  1504.55\n",
       "...         ...      ...           ...      ...\n",
       "1563       6483  2705.85        853125   753.86\n",
       "1223       8217  2120.59        134834  2560.18\n",
       "5910       4745  9220.71        486696  2203.99\n",
       "10508      3451  5161.95        928745  2569.86\n",
       "6234       1338  6506.70        476517  2628.36\n",
       "\n",
       "[3001 rows x 4 columns]"
      ]
     },
     "metadata": {},
     "output_type": "display_data"
    }
   ],
   "source": [
    "# Subseting the Non-Categorical Variables.\n",
    "non_categorical_columns = ['Quantity', 'Value', 'Customs_Code', 'Weight']\n",
    "non_categorical_df = sample[non_categorical_columns]\n",
    "display(non_categorical_df)"
   ]
  },
  {
   "cell_type": "code",
   "execution_count": 176,
   "id": "98293622-2512-410e-9887-b88f2bf6d257",
   "metadata": {},
   "outputs": [
    {
     "data": {
      "text/html": [
       "<div>\n",
       "<style scoped>\n",
       "    .dataframe tbody tr th:only-of-type {\n",
       "        vertical-align: middle;\n",
       "    }\n",
       "\n",
       "    .dataframe tbody tr th {\n",
       "        vertical-align: top;\n",
       "    }\n",
       "\n",
       "    .dataframe thead th {\n",
       "        text-align: right;\n",
       "    }\n",
       "</style>\n",
       "<table border=\"1\" class=\"dataframe\">\n",
       "  <thead>\n",
       "    <tr style=\"text-align: right;\">\n",
       "      <th></th>\n",
       "      <th>Quantity</th>\n",
       "      <th>Value</th>\n",
       "      <th>Customs_Code</th>\n",
       "      <th>Weight</th>\n",
       "    </tr>\n",
       "  </thead>\n",
       "  <tbody>\n",
       "    <tr>\n",
       "      <th>count</th>\n",
       "      <td>3001.00</td>\n",
       "      <td>3001.00</td>\n",
       "      <td>3001.00</td>\n",
       "      <td>3001.00</td>\n",
       "    </tr>\n",
       "    <tr>\n",
       "      <th>mean</th>\n",
       "      <td>5026.97</td>\n",
       "      <td>5034.66</td>\n",
       "      <td>551856.55</td>\n",
       "      <td>2477.09</td>\n",
       "    </tr>\n",
       "    <tr>\n",
       "      <th>std</th>\n",
       "      <td>2835.58</td>\n",
       "      <td>2875.44</td>\n",
       "      <td>257125.47</td>\n",
       "      <td>1441.76</td>\n",
       "    </tr>\n",
       "    <tr>\n",
       "      <th>min</th>\n",
       "      <td>9.00</td>\n",
       "      <td>102.12</td>\n",
       "      <td>100171.00</td>\n",
       "      <td>1.52</td>\n",
       "    </tr>\n",
       "    <tr>\n",
       "      <th>25%</th>\n",
       "      <td>2628.00</td>\n",
       "      <td>2506.70</td>\n",
       "      <td>333765.00</td>\n",
       "      <td>1245.47</td>\n",
       "    </tr>\n",
       "    <tr>\n",
       "      <th>50%</th>\n",
       "      <td>5028.00</td>\n",
       "      <td>5063.97</td>\n",
       "      <td>548588.00</td>\n",
       "      <td>2468.41</td>\n",
       "    </tr>\n",
       "    <tr>\n",
       "      <th>75%</th>\n",
       "      <td>7467.00</td>\n",
       "      <td>7527.77</td>\n",
       "      <td>774216.00</td>\n",
       "      <td>3700.73</td>\n",
       "    </tr>\n",
       "    <tr>\n",
       "      <th>max</th>\n",
       "      <td>9995.00</td>\n",
       "      <td>9989.33</td>\n",
       "      <td>999783.00</td>\n",
       "      <td>4998.01</td>\n",
       "    </tr>\n",
       "  </tbody>\n",
       "</table>\n",
       "</div>"
      ],
      "text/plain": [
       "       Quantity    Value  Customs_Code   Weight\n",
       "count   3001.00  3001.00       3001.00  3001.00\n",
       "mean    5026.97  5034.66     551856.55  2477.09\n",
       "std     2835.58  2875.44     257125.47  1441.76\n",
       "min        9.00   102.12     100171.00     1.52\n",
       "25%     2628.00  2506.70     333765.00  1245.47\n",
       "50%     5028.00  5063.97     548588.00  2468.41\n",
       "75%     7467.00  7527.77     774216.00  3700.73\n",
       "max     9995.00  9989.33     999783.00  4998.01"
      ]
     },
     "metadata": {},
     "output_type": "display_data"
    }
   ],
   "source": [
    "# Descriptive Statistics of the Non-Categorical Set.\n",
    "non_categorical_stats = non_categorical_df.describe()\n",
    "non_categorical_stats= np.round(non_categorical_stats,2)\n",
    "# Display the statistics\n",
    "display(non_categorical_stats)"
   ]
  },
  {
   "cell_type": "code",
   "execution_count": 177,
   "id": "7d4d09a3-d2b5-4c36-b7b0-c4b99251eb08",
   "metadata": {},
   "outputs": [
    {
     "data": {
      "text/html": [
       "<div>\n",
       "<style scoped>\n",
       "    .dataframe tbody tr th:only-of-type {\n",
       "        vertical-align: middle;\n",
       "    }\n",
       "\n",
       "    .dataframe tbody tr th {\n",
       "        vertical-align: top;\n",
       "    }\n",
       "\n",
       "    .dataframe thead th {\n",
       "        text-align: right;\n",
       "    }\n",
       "</style>\n",
       "<table border=\"1\" class=\"dataframe\">\n",
       "  <thead>\n",
       "    <tr style=\"text-align: right;\">\n",
       "      <th></th>\n",
       "      <th>Country</th>\n",
       "      <th>Product</th>\n",
       "      <th>Import_Export</th>\n",
       "      <th>Category</th>\n",
       "      <th>Port</th>\n",
       "      <th>Shipping_Method</th>\n",
       "      <th>Supplier</th>\n",
       "      <th>Customer</th>\n",
       "      <th>Payment_Terms</th>\n",
       "    </tr>\n",
       "  </thead>\n",
       "  <tbody>\n",
       "    <tr>\n",
       "      <th>11814</th>\n",
       "      <td>Burundi</td>\n",
       "      <td>color</td>\n",
       "      <td>Import</td>\n",
       "      <td>Clothing</td>\n",
       "      <td>Dunnchester</td>\n",
       "      <td>Sea</td>\n",
       "      <td>Allen-Taylor</td>\n",
       "      <td>Neil Burton</td>\n",
       "      <td>Net 60</td>\n",
       "    </tr>\n",
       "    <tr>\n",
       "      <th>10057</th>\n",
       "      <td>Indonesia</td>\n",
       "      <td>education</td>\n",
       "      <td>Export</td>\n",
       "      <td>Furniture</td>\n",
       "      <td>Masonborough</td>\n",
       "      <td>Sea</td>\n",
       "      <td>Garcia Group</td>\n",
       "      <td>Edward Rogers</td>\n",
       "      <td>Prepaid</td>\n",
       "    </tr>\n",
       "    <tr>\n",
       "      <th>1132</th>\n",
       "      <td>Finland</td>\n",
       "      <td>research</td>\n",
       "      <td>Import</td>\n",
       "      <td>Toys</td>\n",
       "      <td>Lake Codyside</td>\n",
       "      <td>Land</td>\n",
       "      <td>Castro Inc</td>\n",
       "      <td>Kimberly Shaffer</td>\n",
       "      <td>Net 60</td>\n",
       "    </tr>\n",
       "    <tr>\n",
       "      <th>6534</th>\n",
       "      <td>Svalbard &amp; Jan Mayen Islands</td>\n",
       "      <td>field</td>\n",
       "      <td>Import</td>\n",
       "      <td>Furniture</td>\n",
       "      <td>New Branditon</td>\n",
       "      <td>Air</td>\n",
       "      <td>Jackson Ltd</td>\n",
       "      <td>Jill Anderson</td>\n",
       "      <td>Prepaid</td>\n",
       "    </tr>\n",
       "    <tr>\n",
       "      <th>9391</th>\n",
       "      <td>Samoa</td>\n",
       "      <td>important</td>\n",
       "      <td>Import</td>\n",
       "      <td>Clothing</td>\n",
       "      <td>New Jerome</td>\n",
       "      <td>Land</td>\n",
       "      <td>Lawson-Anderson</td>\n",
       "      <td>Danielle Bennett</td>\n",
       "      <td>Net 30</td>\n",
       "    </tr>\n",
       "    <tr>\n",
       "      <th>...</th>\n",
       "      <td>...</td>\n",
       "      <td>...</td>\n",
       "      <td>...</td>\n",
       "      <td>...</td>\n",
       "      <td>...</td>\n",
       "      <td>...</td>\n",
       "      <td>...</td>\n",
       "      <td>...</td>\n",
       "      <td>...</td>\n",
       "    </tr>\n",
       "    <tr>\n",
       "      <th>1563</th>\n",
       "      <td>Gambia</td>\n",
       "      <td>behind</td>\n",
       "      <td>Import</td>\n",
       "      <td>Clothing</td>\n",
       "      <td>West Rodney</td>\n",
       "      <td>Sea</td>\n",
       "      <td>Wright-Cohen</td>\n",
       "      <td>Tiffany Herring</td>\n",
       "      <td>Net 30</td>\n",
       "    </tr>\n",
       "    <tr>\n",
       "      <th>1223</th>\n",
       "      <td>Sweden</td>\n",
       "      <td>feel</td>\n",
       "      <td>Export</td>\n",
       "      <td>Machinery</td>\n",
       "      <td>Davisberg</td>\n",
       "      <td>Air</td>\n",
       "      <td>Oliver Group</td>\n",
       "      <td>Hunter Brown</td>\n",
       "      <td>Net 30</td>\n",
       "    </tr>\n",
       "    <tr>\n",
       "      <th>5910</th>\n",
       "      <td>Palau</td>\n",
       "      <td>ok</td>\n",
       "      <td>Export</td>\n",
       "      <td>Electronics</td>\n",
       "      <td>West Jerry</td>\n",
       "      <td>Sea</td>\n",
       "      <td>Gregory-Davis</td>\n",
       "      <td>Frederick Perry</td>\n",
       "      <td>Net 30</td>\n",
       "    </tr>\n",
       "    <tr>\n",
       "      <th>10508</th>\n",
       "      <td>Marshall Islands</td>\n",
       "      <td>hold</td>\n",
       "      <td>Import</td>\n",
       "      <td>Clothing</td>\n",
       "      <td>Chapmanfort</td>\n",
       "      <td>Land</td>\n",
       "      <td>Jarvis, Fuller and Edwards</td>\n",
       "      <td>Felicia Hendricks</td>\n",
       "      <td>Cash on Delivery</td>\n",
       "    </tr>\n",
       "    <tr>\n",
       "      <th>6234</th>\n",
       "      <td>Saint Helena</td>\n",
       "      <td>do</td>\n",
       "      <td>Export</td>\n",
       "      <td>Furniture</td>\n",
       "      <td>Cunninghammouth</td>\n",
       "      <td>Air</td>\n",
       "      <td>Turner Ltd</td>\n",
       "      <td>Kayla Jones</td>\n",
       "      <td>Cash on Delivery</td>\n",
       "    </tr>\n",
       "  </tbody>\n",
       "</table>\n",
       "<p>3001 rows × 9 columns</p>\n",
       "</div>"
      ],
      "text/plain": [
       "                            Country    Product Import_Export     Category  \\\n",
       "11814                       Burundi      color        Import     Clothing   \n",
       "10057                     Indonesia  education        Export    Furniture   \n",
       "1132                        Finland   research        Import         Toys   \n",
       "6534   Svalbard & Jan Mayen Islands      field        Import    Furniture   \n",
       "9391                          Samoa  important        Import     Clothing   \n",
       "...                             ...        ...           ...          ...   \n",
       "1563                         Gambia     behind        Import     Clothing   \n",
       "1223                         Sweden       feel        Export    Machinery   \n",
       "5910                          Palau         ok        Export  Electronics   \n",
       "10508              Marshall Islands       hold        Import     Clothing   \n",
       "6234                   Saint Helena         do        Export    Furniture   \n",
       "\n",
       "                  Port Shipping_Method                    Supplier  \\\n",
       "11814      Dunnchester             Sea                Allen-Taylor   \n",
       "10057     Masonborough             Sea                Garcia Group   \n",
       "1132     Lake Codyside            Land                  Castro Inc   \n",
       "6534     New Branditon             Air                 Jackson Ltd   \n",
       "9391        New Jerome            Land             Lawson-Anderson   \n",
       "...                ...             ...                         ...   \n",
       "1563       West Rodney             Sea                Wright-Cohen   \n",
       "1223         Davisberg             Air                Oliver Group   \n",
       "5910        West Jerry             Sea               Gregory-Davis   \n",
       "10508      Chapmanfort            Land  Jarvis, Fuller and Edwards   \n",
       "6234   Cunninghammouth             Air                  Turner Ltd   \n",
       "\n",
       "                Customer     Payment_Terms  \n",
       "11814        Neil Burton            Net 60  \n",
       "10057      Edward Rogers           Prepaid  \n",
       "1132    Kimberly Shaffer            Net 60  \n",
       "6534       Jill Anderson           Prepaid  \n",
       "9391    Danielle Bennett            Net 30  \n",
       "...                  ...               ...  \n",
       "1563     Tiffany Herring            Net 30  \n",
       "1223        Hunter Brown            Net 30  \n",
       "5910     Frederick Perry            Net 30  \n",
       "10508  Felicia Hendricks  Cash on Delivery  \n",
       "6234         Kayla Jones  Cash on Delivery  \n",
       "\n",
       "[3001 rows x 9 columns]"
      ]
     },
     "execution_count": 177,
     "metadata": {},
     "output_type": "execute_result"
    }
   ],
   "source": [
    "#Subseting the Categorical Variables.\n",
    "categorical_variables = [\"Country\", \"Product\", \"Import_Export\", \"Category\", \"Port\", \"Shipping_Method\", \"Supplier\", \"Customer\", \"Payment_Terms\"\n",
    "\n",
    "]\n",
    "categ = sample[categorical_variables]\n",
    "categ"
   ]
  },
  {
   "cell_type": "code",
   "execution_count": 178,
   "id": "96dc5afb-3dfe-41b4-a7e1-6e47273bc6d8",
   "metadata": {},
   "outputs": [
    {
     "data": {
      "text/html": [
       "<div>\n",
       "<style scoped>\n",
       "    .dataframe tbody tr th:only-of-type {\n",
       "        vertical-align: middle;\n",
       "    }\n",
       "\n",
       "    .dataframe tbody tr th {\n",
       "        vertical-align: top;\n",
       "    }\n",
       "\n",
       "    .dataframe thead th {\n",
       "        text-align: right;\n",
       "    }\n",
       "</style>\n",
       "<table border=\"1\" class=\"dataframe\">\n",
       "  <thead>\n",
       "    <tr style=\"text-align: right;\">\n",
       "      <th></th>\n",
       "      <th>Category</th>\n",
       "    </tr>\n",
       "  </thead>\n",
       "  <tbody>\n",
       "    <tr>\n",
       "      <th>Machinery</th>\n",
       "      <td>615</td>\n",
       "    </tr>\n",
       "    <tr>\n",
       "      <th>Furniture</th>\n",
       "      <td>615</td>\n",
       "    </tr>\n",
       "    <tr>\n",
       "      <th>Toys</th>\n",
       "      <td>597</td>\n",
       "    </tr>\n",
       "    <tr>\n",
       "      <th>Clothing</th>\n",
       "      <td>596</td>\n",
       "    </tr>\n",
       "    <tr>\n",
       "      <th>Electronics</th>\n",
       "      <td>578</td>\n",
       "    </tr>\n",
       "  </tbody>\n",
       "</table>\n",
       "</div>"
      ],
      "text/plain": [
       "             Category\n",
       "Machinery         615\n",
       "Furniture         615\n",
       "Toys              597\n",
       "Clothing          596\n",
       "Electronics       578"
      ]
     },
     "metadata": {},
     "output_type": "display_data"
    }
   ],
   "source": [
    "#Descriptive Statistics of Any 01 Categorical Variable.\n",
    "display(pd.DataFrame(sample[\"Category\"].value_counts()))"
   ]
  },
  {
   "cell_type": "markdown",
   "id": "de999e0e-a7e6-423f-b49d-f00c625747b4",
   "metadata": {},
   "source": [
    "## **1.Descriptive Statistics**"
   ]
  },
  {
   "cell_type": "markdown",
   "id": "eee787aa-11e6-4546-85dd-d41413cc6e55",
   "metadata": {},
   "source": [
    "### **Measures of Central Tendency**"
   ]
  },
  {
   "cell_type": "code",
   "execution_count": 179,
   "id": "1ffadd3d-aa79-4de1-8324-9ba2261d688d",
   "metadata": {},
   "outputs": [
    {
     "name": "stdout",
     "output_type": "stream",
     "text": [
      "\n",
      " Mean :\n"
     ]
    },
    {
     "data": {
      "text/html": [
       "<div>\n",
       "<style scoped>\n",
       "    .dataframe tbody tr th:only-of-type {\n",
       "        vertical-align: middle;\n",
       "    }\n",
       "\n",
       "    .dataframe tbody tr th {\n",
       "        vertical-align: top;\n",
       "    }\n",
       "\n",
       "    .dataframe thead th {\n",
       "        text-align: right;\n",
       "    }\n",
       "</style>\n",
       "<table border=\"1\" class=\"dataframe\">\n",
       "  <thead>\n",
       "    <tr style=\"text-align: right;\">\n",
       "      <th></th>\n",
       "      <th>Mean</th>\n",
       "    </tr>\n",
       "  </thead>\n",
       "  <tbody>\n",
       "    <tr>\n",
       "      <th>Quantity</th>\n",
       "      <td>5026.97</td>\n",
       "    </tr>\n",
       "    <tr>\n",
       "      <th>Value</th>\n",
       "      <td>5034.66</td>\n",
       "    </tr>\n",
       "    <tr>\n",
       "      <th>Weight</th>\n",
       "      <td>2477.09</td>\n",
       "    </tr>\n",
       "  </tbody>\n",
       "</table>\n",
       "</div>"
      ],
      "text/plain": [
       "             Mean\n",
       "Quantity  5026.97\n",
       "Value     5034.66\n",
       "Weight    2477.09"
      ]
     },
     "metadata": {},
     "output_type": "display_data"
    },
    {
     "name": "stdout",
     "output_type": "stream",
     "text": [
      "\n",
      " Median :\n"
     ]
    },
    {
     "data": {
      "text/html": [
       "<div>\n",
       "<style scoped>\n",
       "    .dataframe tbody tr th:only-of-type {\n",
       "        vertical-align: middle;\n",
       "    }\n",
       "\n",
       "    .dataframe tbody tr th {\n",
       "        vertical-align: top;\n",
       "    }\n",
       "\n",
       "    .dataframe thead th {\n",
       "        text-align: right;\n",
       "    }\n",
       "</style>\n",
       "<table border=\"1\" class=\"dataframe\">\n",
       "  <thead>\n",
       "    <tr style=\"text-align: right;\">\n",
       "      <th></th>\n",
       "      <th>Median</th>\n",
       "    </tr>\n",
       "  </thead>\n",
       "  <tbody>\n",
       "    <tr>\n",
       "      <th>Quantity</th>\n",
       "      <td>5028.00</td>\n",
       "    </tr>\n",
       "    <tr>\n",
       "      <th>Value</th>\n",
       "      <td>5063.97</td>\n",
       "    </tr>\n",
       "    <tr>\n",
       "      <th>Weight</th>\n",
       "      <td>2468.41</td>\n",
       "    </tr>\n",
       "  </tbody>\n",
       "</table>\n",
       "</div>"
      ],
      "text/plain": [
       "           Median\n",
       "Quantity  5028.00\n",
       "Value     5063.97\n",
       "Weight    2468.41"
      ]
     },
     "metadata": {},
     "output_type": "display_data"
    },
    {
     "name": "stdout",
     "output_type": "stream",
     "text": [
      "\n",
      " Mode of Weights : \n"
     ]
    },
    {
     "data": {
      "text/html": [
       "<div>\n",
       "<style scoped>\n",
       "    .dataframe tbody tr th:only-of-type {\n",
       "        vertical-align: middle;\n",
       "    }\n",
       "\n",
       "    .dataframe tbody tr th {\n",
       "        vertical-align: top;\n",
       "    }\n",
       "\n",
       "    .dataframe thead th {\n",
       "        text-align: right;\n",
       "    }\n",
       "</style>\n",
       "<table border=\"1\" class=\"dataframe\">\n",
       "  <thead>\n",
       "    <tr style=\"text-align: right;\">\n",
       "      <th></th>\n",
       "      <th>Mode of Weights</th>\n",
       "    </tr>\n",
       "  </thead>\n",
       "  <tbody>\n",
       "    <tr>\n",
       "      <th>0</th>\n",
       "      <td>2160.69</td>\n",
       "    </tr>\n",
       "    <tr>\n",
       "      <th>1</th>\n",
       "      <td>2165.57</td>\n",
       "    </tr>\n",
       "    <tr>\n",
       "      <th>2</th>\n",
       "      <td>2487.80</td>\n",
       "    </tr>\n",
       "    <tr>\n",
       "      <th>3</th>\n",
       "      <td>2534.02</td>\n",
       "    </tr>\n",
       "    <tr>\n",
       "      <th>4</th>\n",
       "      <td>2560.19</td>\n",
       "    </tr>\n",
       "    <tr>\n",
       "      <th>5</th>\n",
       "      <td>2667.00</td>\n",
       "    </tr>\n",
       "    <tr>\n",
       "      <th>6</th>\n",
       "      <td>3102.21</td>\n",
       "    </tr>\n",
       "    <tr>\n",
       "      <th>7</th>\n",
       "      <td>4252.62</td>\n",
       "    </tr>\n",
       "    <tr>\n",
       "      <th>8</th>\n",
       "      <td>4381.89</td>\n",
       "    </tr>\n",
       "  </tbody>\n",
       "</table>\n",
       "</div>"
      ],
      "text/plain": [
       "   Mode of Weights\n",
       "0          2160.69\n",
       "1          2165.57\n",
       "2          2487.80\n",
       "3          2534.02\n",
       "4          2560.19\n",
       "5          2667.00\n",
       "6          3102.21\n",
       "7          4252.62\n",
       "8          4381.89"
      ]
     },
     "metadata": {},
     "output_type": "display_data"
    }
   ],
   "source": [
    "# Mean, Median, Mode\n",
    "non_categorical_df_1 = non_categorical_df = sample[[\"Quantity\", \"Value\", \"Weight\"]] \n",
    "mean_values = pd.DataFrame(non_categorical_df_1.mean())\n",
    "mean_values.columns = ['Mean']\n",
    "median_values = pd.DataFrame(non_categorical_df_1.median())\n",
    "median_values.columns = ['Median']\n",
    "mode_values = sample[[\"Weight\"]].mode()\n",
    "mode_values.columns = ['Mode of Weights']\n",
    "print(\"\\n Mean :\")\n",
    "display(np.round(mean_values,2))\n",
    "print(\"\\n Median :\")\n",
    "display(median_values)\n",
    "print(\"\\n Mode of Weights : \")\n",
    "display(mode_values)"
   ]
  },
  {
   "cell_type": "markdown",
   "id": "0d80ec5e-c571-4799-8340-d1145e9dee1e",
   "metadata": {},
   "source": [
    "# Mean Interpretation:\n",
    "Quantity (Mean: 5026.97): On average, the dataset shows that the quantity of goods involved in the transactions is approximately 5026.97 units.\n",
    "\n",
    "Value (Mean: 5034.66): The mean value of the goods in each transaction is around 5034.66, which suggests a general average transaction value across the dataset.\n",
    "\n",
    "Weight (Mean: 2477.09): The average weight of the goods in each transaction is approximately 2477.09 units, indicating the typical weight being handled per transaction.\n",
    "\n",
    "\n",
    "# Median Interpretation:\n",
    "Quantity (Median: 5028.00): The median quantity is 5084.00 units, meaning that half of the transactions have a quantity below 5028.00 and the other half have a quantity above it. This indicates that most transactions revolve around this quantity.\n",
    "\n",
    "Value (Median: 5063.97): The median value is 5063.97, indicating that half of the transactions are valued below this amount, and half are above. Since the median and mean are quite close, the data may not have extreme outliers.\n",
    "\n",
    "Weight (Median: 2468.41): The median weight is 2468.41, meaning the central value of the dataset is around this number. Similar to the other variables, the mean and median are close, which suggests a fairly even distribution of data without major outliers.\n",
    "\n",
    "\n",
    "# Mode Interpretation:\n",
    "Weights :  Since there are multiple modes for the weight, this suggests that the data is multimodal, meaning there are several common weights that appear repeatedly. These weights likely correspond to specific categories or shipment types that occur frequently.\n",
    "\n",
    "In summary, the mean and median for Quantity, Value, and Weight are relatively close, suggesting that the dataset is fairly balanced without significant outliers. However, the multiple modes in Weight indicate that some weights are more common than others, potentially reflecting different types of shipments or goods being traded at various weight levels."
   ]
  },
  {
   "cell_type": "markdown",
   "id": "9ac93c83",
   "metadata": {},
   "source": [
    "## Maximum and Minimum Table"
   ]
  },
  {
   "cell_type": "code",
   "execution_count": 180,
   "id": "816c1f8b",
   "metadata": {},
   "outputs": [
    {
     "name": "stdout",
     "output_type": "stream",
     "text": [
      "\n",
      "Minimum Table:\n"
     ]
    },
    {
     "data": {
      "text/html": [
       "<div>\n",
       "<style scoped>\n",
       "    .dataframe tbody tr th:only-of-type {\n",
       "        vertical-align: middle;\n",
       "    }\n",
       "\n",
       "    .dataframe tbody tr th {\n",
       "        vertical-align: top;\n",
       "    }\n",
       "\n",
       "    .dataframe thead th {\n",
       "        text-align: right;\n",
       "    }\n",
       "</style>\n",
       "<table border=\"1\" class=\"dataframe\">\n",
       "  <thead>\n",
       "    <tr style=\"text-align: right;\">\n",
       "      <th></th>\n",
       "      <th>Minimum</th>\n",
       "    </tr>\n",
       "  </thead>\n",
       "  <tbody>\n",
       "    <tr>\n",
       "      <th>Country</th>\n",
       "      <td>Afghanistan</td>\n",
       "    </tr>\n",
       "    <tr>\n",
       "      <th>Product</th>\n",
       "      <td>American</td>\n",
       "    </tr>\n",
       "    <tr>\n",
       "      <th>Import_Export</th>\n",
       "      <td>Export</td>\n",
       "    </tr>\n",
       "    <tr>\n",
       "      <th>Category</th>\n",
       "      <td>Clothing</td>\n",
       "    </tr>\n",
       "    <tr>\n",
       "      <th>Port</th>\n",
       "      <td>Aaronborough</td>\n",
       "    </tr>\n",
       "    <tr>\n",
       "      <th>Shipping_Method</th>\n",
       "      <td>Air</td>\n",
       "    </tr>\n",
       "    <tr>\n",
       "      <th>Supplier</th>\n",
       "      <td>Abbott LLC</td>\n",
       "    </tr>\n",
       "    <tr>\n",
       "      <th>Customer</th>\n",
       "      <td>Aaron Barnes</td>\n",
       "    </tr>\n",
       "    <tr>\n",
       "      <th>Payment_Terms</th>\n",
       "      <td>Cash on Delivery</td>\n",
       "    </tr>\n",
       "  </tbody>\n",
       "</table>\n",
       "</div>"
      ],
      "text/plain": [
       "                          Minimum\n",
       "Country               Afghanistan\n",
       "Product                  American\n",
       "Import_Export              Export\n",
       "Category                 Clothing\n",
       "Port                 Aaronborough\n",
       "Shipping_Method               Air\n",
       "Supplier               Abbott LLC\n",
       "Customer             Aaron Barnes\n",
       "Payment_Terms    Cash on Delivery"
      ]
     },
     "metadata": {},
     "output_type": "display_data"
    },
    {
     "name": "stdout",
     "output_type": "stream",
     "text": [
      "\n",
      "Maximum Table:\n"
     ]
    },
    {
     "data": {
      "text/html": [
       "<div>\n",
       "<style scoped>\n",
       "    .dataframe tbody tr th:only-of-type {\n",
       "        vertical-align: middle;\n",
       "    }\n",
       "\n",
       "    .dataframe tbody tr th {\n",
       "        vertical-align: top;\n",
       "    }\n",
       "\n",
       "    .dataframe thead th {\n",
       "        text-align: right;\n",
       "    }\n",
       "</style>\n",
       "<table border=\"1\" class=\"dataframe\">\n",
       "  <thead>\n",
       "    <tr style=\"text-align: right;\">\n",
       "      <th></th>\n",
       "      <th>Maximum</th>\n",
       "    </tr>\n",
       "  </thead>\n",
       "  <tbody>\n",
       "    <tr>\n",
       "      <th>Country</th>\n",
       "      <td>Zimbabwe</td>\n",
       "    </tr>\n",
       "    <tr>\n",
       "      <th>Product</th>\n",
       "      <td>yourself</td>\n",
       "    </tr>\n",
       "    <tr>\n",
       "      <th>Import_Export</th>\n",
       "      <td>Import</td>\n",
       "    </tr>\n",
       "    <tr>\n",
       "      <th>Category</th>\n",
       "      <td>Toys</td>\n",
       "    </tr>\n",
       "    <tr>\n",
       "      <th>Port</th>\n",
       "      <td>Zacharyland</td>\n",
       "    </tr>\n",
       "    <tr>\n",
       "      <th>Shipping_Method</th>\n",
       "      <td>Sea</td>\n",
       "    </tr>\n",
       "    <tr>\n",
       "      <th>Supplier</th>\n",
       "      <td>Zimmerman-Reyes</td>\n",
       "    </tr>\n",
       "    <tr>\n",
       "      <th>Customer</th>\n",
       "      <td>Zoe Martin</td>\n",
       "    </tr>\n",
       "    <tr>\n",
       "      <th>Payment_Terms</th>\n",
       "      <td>Prepaid</td>\n",
       "    </tr>\n",
       "  </tbody>\n",
       "</table>\n",
       "</div>"
      ],
      "text/plain": [
       "                         Maximum\n",
       "Country                 Zimbabwe\n",
       "Product                 yourself\n",
       "Import_Export             Import\n",
       "Category                    Toys\n",
       "Port                 Zacharyland\n",
       "Shipping_Method              Sea\n",
       "Supplier         Zimmerman-Reyes\n",
       "Customer              Zoe Martin\n",
       "Payment_Terms            Prepaid"
      ]
     },
     "metadata": {},
     "output_type": "display_data"
    }
   ],
   "source": [
    "#Minimum Table\n",
    "min_table = pd.DataFrame(index=categorical_variables, columns=['Minimum'])\n",
    "for col in categorical_variables:\n",
    "    min_table.loc[col] = sample[col].min()\n",
    "print(\"\\nMinimum Table:\")\n",
    "display(min_table)\n",
    "\n",
    "#Maximum Table\n",
    "max_table = pd.DataFrame(index=categorical_variables, columns=['Maximum'])\n",
    "for col in categorical_variables:\n",
    "    max_table.loc[col] = sample[col].max()\n",
    "print(\"\\nMaximum Table:\")\n",
    "display(max_table)"
   ]
  },
  {
   "cell_type": "markdown",
   "id": "efd56561",
   "metadata": {},
   "source": [
    "### Minimum Table:\n",
    "\n",
    "| **Field**           | **Value**         |\n",
    "|---------------------|-------------------|\n",
    "| **Country**         | Afghanistan        |\n",
    "| **Product**         | American           |\n",
    "| **Import/Export**   | Export             |\n",
    "| **Category**        | Clothing           |\n",
    "| **Port**            | Aaronborough       |\n",
    "| **Shipping Method** | Air                |\n",
    "| **Supplier**        | Abbott LLC         |\n",
    "| **Customer**        | Aaron Barnes       |\n",
    "| **Payment Terms**   | Cash on Delivery   |\n",
    "\n",
    "### Maximum Table:\n",
    "\n",
    "| **Field**           | **Value**          |\n",
    "|---------------------|--------------------|\n",
    "| **Country**         | Zimbabwe           |\n",
    "| **Product**         | Yourself           |\n",
    "| **Import/Export**   | Import             |\n",
    "| **Category**        | Toys               |\n",
    "| **Port**            | Zacharyland        |\n",
    "| **Shipping Method** | Sea                |\n",
    "| **Supplier**        | Zimmerman-Reyes    |\n",
    "| **Customer**        | Zoe Martin         |\n",
    "| **Payment Terms**   | Prepaid            |\n",
    "\"\"\"\n",
    "\n",
    "\n",
    "**Insights:**\n",
    "\n",
    "*   **Geographic Range:** The data spans from Afghanistan to Zimbabwe, indicating a wide range of geographical coverage.\n",
    "    \n",
    "*   **Product Variety:** The products range from American goods to toys, suggesting diversity in the traded items.\n",
    "    \n",
    "*   **Trade Balance:** The minimum and maximum values show both import and export transactions, suggesting a balanced trade flow.\n",
    "    \n",
    "*   **Shipping Methods:** Both air and sea shipping are used, indicating flexibility in transportation options.\n",
    "    \n",
    "*   **Payment Terms:** Both cash on delivery and prepaid payment terms are utilized, reflecting different business practices.\n",
    "    \n",
    "\n",
    "**Potential Areas for Further Analysis:**\n",
    "\n",
    "*   **Frequency of Transactions:** Analyzing the frequency of transactions for different countries, products, categories, or other factors can provide insights into trade patterns.\n",
    "    \n",
    "*   **Trade Volumes:** Examining the volume of goods traded between different countries and regions can help identify key trade routes and partnerships.\n",
    "    \n",
    "*   **Economic Indicators:** Correlating the trade data with economic indicators such as GDP, inflation, and exchange rates can provide a broader understanding of the factors influencing trade.\n",
    "    \n",
    "*   **Trade Barriers:** Identifying any trade barriers or restrictions that may be affecting the volume or composition of trade."
   ]
  },
  {
   "cell_type": "markdown",
   "id": "7ce192f0-3996-4693-85c4-b8d9d5894dd5",
   "metadata": {},
   "source": [
    "## **Measures of Dispersion**"
   ]
  },
  {
   "cell_type": "code",
   "execution_count": 181,
   "id": "d6ca541e-0f43-4b5e-9d4c-1fd974383c9f",
   "metadata": {},
   "outputs": [
    {
     "name": "stdout",
     "output_type": "stream",
     "text": [
      "Range:\n",
      " Quantity    9986.00\n",
      "Value       9887.21\n",
      "Weight      4996.49\n",
      "dtype: float64\n",
      "Standard Deviation:\n",
      " Quantity    2835.575685\n",
      "Value       2875.435810\n",
      "Weight      1441.755610\n",
      "dtype: float64\n",
      "Variance:\n",
      " Quantity    8.040489e+06\n",
      "Value       8.268131e+06\n",
      "Weight      2.078659e+06\n",
      "dtype: float64\n"
     ]
    }
   ],
   "source": [
    "# Range, Standard Deviation, Variance\n",
    "range_values = non_categorical_df.max() - non_categorical_df.min()\n",
    "std_dev_values = non_categorical_df.std()\n",
    "variance_values = non_categorical_df.var()\n",
    "\n",
    "print(\"Range:\\n\", range_values)\n",
    "print(\"Standard Deviation:\\n\", std_dev_values)\n",
    "print(\"Variance:\\n\", variance_values)"
   ]
  },
  {
   "cell_type": "markdown",
   "id": "62723cf1-0098-4bcb-b351-e86df63d29b5",
   "metadata": {},
   "source": [
    "### Range Interpretation:\n",
    "Quantity (Range: 9986.00): The difference between the maximum and minimum quantities in the dataset is 9986 units, indicating a wide variation in the number of goods involved in each transaction.\n",
    "\n",
    "Value (Range: 9887.21): The range of values across transactions is 9887.21, which suggests significant variability in the monetary value of transactions.\n",
    "\n",
    "Weight (Range: 4996.49): The weight of goods ranges over 4996.49 units, showing that shipments can vary greatly in terms of how heavy they are.\n",
    "The range provides a quick overview of the spread in the data, but it doesn’t account for how the data is distributed between the extremes.\n",
    "\n",
    "### Standard Deviation Interpretation:\n",
    "Quantity (Standard Deviation: 2835.575685): The quantity of goods varies by about 2835.575685 units from the mean. A large standard deviation relative to the mean indicates that there is considerable variation in the quantity of goods across transactions.\n",
    "\n",
    "Value (Standard Deviation: 2875.435810): The standard deviation for transaction values is 2875.435810, meaning that the value of goods in each transaction tends to deviate from the mean by this amount. Again, this indicates significant variability in transaction values.\n",
    "\n",
    "Weight (Standard Deviation: 1441.755610): The weights of shipments tend to vary by about 1441.755610 units from the mean. This suggests moderate variability in shipment weights, though less than the variability seen in quantity and value.\n",
    "\n",
    "### Variance Interpretation:\n",
    "Quantity (Variance: 8.040489e+06): The variance for quantity is 8.04 million, which is the square of the standard deviation. This large number reflects the wide range and significant variation in quantities across transactions.\n",
    "\n",
    "Value (Variance: 8.268131e+06): The variance in the value of transactions is about 8.26 million. This again shows substantial variability in transaction values, aligned with the wide range observed.\n",
    "\n",
    "Weight (Variance: 2.078659e+06): The variance for weight is 2.07 million. This lower variance compared to quantity and value indicates that the weights are less spread out across transactions than the other two variables."
   ]
  },
  {
   "cell_type": "markdown",
   "id": "9723277d-da4e-4998-9e25-55714d00671e",
   "metadata": {},
   "source": [
    " #### **Skewness and Kurtosis**"
   ]
  },
  {
   "cell_type": "code",
   "execution_count": 182,
   "id": "84923a91-dbb5-4536-8760-445921b42d19",
   "metadata": {},
   "outputs": [
    {
     "name": "stdout",
     "output_type": "stream",
     "text": [
      "Skewness:\n",
      " Quantity   -0.019613\n",
      "Value       0.019010\n",
      "Weight      0.022482\n",
      "dtype: float64\n",
      "Kurtosis:\n",
      " Quantity   -1.165525\n",
      "Value      -1.217965\n",
      "Weight     -1.178086\n",
      "dtype: float64\n"
     ]
    }
   ],
   "source": [
    "# Skewness and Kurtosis\n",
    "skewness = non_categorical_df.skew()\n",
    "kurtosis = non_categorical_df.kurt()\n",
    "\n",
    "print(\"Skewness:\\n\", skewness)\n",
    "print(\"Kurtosis:\\n\", kurtosis)"
   ]
  },
  {
   "cell_type": "markdown",
   "id": "963800bd-5e5f-4f18-b971-8950d4587968",
   "metadata": {},
   "source": [
    "# Skewness Interpretation:\n",
    "All three values are very close to zero, indicating that the distributions of Quantity, Value, and Weight are approximately symmetrical.\n",
    "\n",
    "Quantity has very slight negative skewness, suggesting a very minor tendency for data to fall more frequently on the right side of the distribution.\n",
    "# Kurtosis Interpretation:\n",
    "Weight has a very slight negative skewness (not positive), indicating a minor tendency for data to fall more frequently on the right side of the distribution, rather than the left.\n",
    "\n",
    "All three values of kurtosis are negative, indicating that the distributions of Quantity, Value, and Weight have lighter tails and flatter peaks compared to a normal distribution. In other words, these distributions are more platykurtic.\n",
    "\n",
    "The negative kurtosis suggests that extreme values are less frequent, and the overall shape of the distribution is more flat-topped compared to a normal distribution."
   ]
  },
  {
   "cell_type": "markdown",
   "id": "eac68d14-8bd4-4eb6-9f12-02f41384d179",
   "metadata": {},
   "source": [
    "**Correlation between Non-Categorical Variables**"
   ]
  },
  {
   "cell_type": "code",
   "execution_count": 183,
   "id": "4d416be9-bfcd-43df-9c93-558bd55ae937",
   "metadata": {},
   "outputs": [
    {
     "name": "stdout",
     "output_type": "stream",
     "text": [
      "Correlation Matrix:\n",
      "           Quantity     Value    Weight\n",
      "Quantity  1.000000 -0.050008  0.019329\n",
      "Value    -0.050008  1.000000  0.012277\n",
      "Weight    0.019329  0.012277  1.000000\n"
     ]
    }
   ],
   "source": [
    "# Correlation Matrix\n",
    "correlation_matrix = non_categorical_df.corr()\n",
    "\n",
    "print(\"Correlation Matrix:\\n\", correlation_matrix)"
   ]
  },
  {
   "cell_type": "markdown",
   "id": "bafd0855-129a-4c05-bf00-599069c92e85",
   "metadata": {},
   "source": [
    "# Correlation Interpretation:\n",
    "\n",
    "This correlation matrix provides insight into the linear relationships between three variables: Quantity, Value, and Weight. Here's a breakdown of what each value indicates:\n",
    "\n",
    "Quantity vs. Quantity: The correlation is 1.0, meaning that a variable is always perfectly correlated with itself.\n",
    "\n",
    "Quantity vs. Value: The correlation is -0.05008, which is a very weak negative correlation. This means that as the quantity increases, the value slightly decreases, but the relationship is extremely weak and almost negligible.\n",
    "\n",
    "Quantity vs. Weight: The correlation is 0.019329, which shows a very weak positive correlation. This indicates that there's virtually no relationship between quantity and weight, meaning changes in one don't strongly affect the other.\n",
    "\n",
    "Value vs. Value: The correlation is 1.0, as expected when comparing a variable to itself.\n",
    "\n",
    "Value vs. Weight: The correlation is 0.012277, which again suggests a very weak positive correlation between value and weight. This relationship is almost negligible, implying that changes in the value barely affect the weight.\n",
    "\n",
    "Weight vs. Weight: The correlation is 1.0, as a variable always perfectly correlates with itself."
   ]
  },
  {
   "cell_type": "markdown",
   "id": "6d3f3c53-b0f5-4e8b-ad67-3cc3b8e6e220",
   "metadata": {},
   "source": [
    "## **2.Categorical Data Analysis**"
   ]
  },
  {
   "cell_type": "markdown",
   "id": "2860df45-4451-408d-827c-2b410bb4368a",
   "metadata": {},
   "source": [
    "**Frequency Distribution for Categorical Data (e.g., Country, Product, Shipping_Method)**"
   ]
  },
  {
   "cell_type": "code",
   "execution_count": 184,
   "id": "f0438b5c",
   "metadata": {},
   "outputs": [
    {
     "name": "stdout",
     "output_type": "stream",
     "text": [
      "\n",
      "Frequency Table for Country:\n",
      "\n"
     ]
    },
    {
     "data": {
      "text/html": [
       "<div>\n",
       "<style scoped>\n",
       "    .dataframe tbody tr th:only-of-type {\n",
       "        vertical-align: middle;\n",
       "    }\n",
       "\n",
       "    .dataframe tbody tr th {\n",
       "        vertical-align: top;\n",
       "    }\n",
       "\n",
       "    .dataframe thead th {\n",
       "        text-align: right;\n",
       "    }\n",
       "</style>\n",
       "<table border=\"1\" class=\"dataframe\">\n",
       "  <thead>\n",
       "    <tr style=\"text-align: right;\">\n",
       "      <th></th>\n",
       "      <th>Country</th>\n",
       "      <th>Frequency</th>\n",
       "    </tr>\n",
       "  </thead>\n",
       "  <tbody>\n",
       "    <tr>\n",
       "      <th>0</th>\n",
       "      <td>Congo</td>\n",
       "      <td>24</td>\n",
       "    </tr>\n",
       "    <tr>\n",
       "      <th>1</th>\n",
       "      <td>Pakistan</td>\n",
       "      <td>22</td>\n",
       "    </tr>\n",
       "    <tr>\n",
       "      <th>2</th>\n",
       "      <td>Korea</td>\n",
       "      <td>22</td>\n",
       "    </tr>\n",
       "    <tr>\n",
       "      <th>3</th>\n",
       "      <td>Sweden</td>\n",
       "      <td>21</td>\n",
       "    </tr>\n",
       "    <tr>\n",
       "      <th>4</th>\n",
       "      <td>Finland</td>\n",
       "      <td>21</td>\n",
       "    </tr>\n",
       "    <tr>\n",
       "      <th>...</th>\n",
       "      <td>...</td>\n",
       "      <td>...</td>\n",
       "    </tr>\n",
       "    <tr>\n",
       "      <th>238</th>\n",
       "      <td>Liechtenstein</td>\n",
       "      <td>5</td>\n",
       "    </tr>\n",
       "    <tr>\n",
       "      <th>239</th>\n",
       "      <td>South Africa</td>\n",
       "      <td>4</td>\n",
       "    </tr>\n",
       "    <tr>\n",
       "      <th>240</th>\n",
       "      <td>Afghanistan</td>\n",
       "      <td>4</td>\n",
       "    </tr>\n",
       "    <tr>\n",
       "      <th>241</th>\n",
       "      <td>Antarctica (the territory South of 60 deg S)</td>\n",
       "      <td>4</td>\n",
       "    </tr>\n",
       "    <tr>\n",
       "      <th>242</th>\n",
       "      <td>Tonga</td>\n",
       "      <td>3</td>\n",
       "    </tr>\n",
       "  </tbody>\n",
       "</table>\n",
       "<p>243 rows × 2 columns</p>\n",
       "</div>"
      ],
      "text/plain": [
       "                                          Country  Frequency\n",
       "0                                           Congo         24\n",
       "1                                        Pakistan         22\n",
       "2                                           Korea         22\n",
       "3                                          Sweden         21\n",
       "4                                         Finland         21\n",
       "..                                            ...        ...\n",
       "238                                 Liechtenstein          5\n",
       "239                                  South Africa          4\n",
       "240                                   Afghanistan          4\n",
       "241  Antarctica (the territory South of 60 deg S)          4\n",
       "242                                         Tonga          3\n",
       "\n",
       "[243 rows x 2 columns]"
      ]
     },
     "metadata": {},
     "output_type": "display_data"
    },
    {
     "name": "stdout",
     "output_type": "stream",
     "text": [
      "\n",
      "Frequency Table for Product:\n",
      "\n"
     ]
    },
    {
     "data": {
      "text/html": [
       "<div>\n",
       "<style scoped>\n",
       "    .dataframe tbody tr th:only-of-type {\n",
       "        vertical-align: middle;\n",
       "    }\n",
       "\n",
       "    .dataframe tbody tr th {\n",
       "        vertical-align: top;\n",
       "    }\n",
       "\n",
       "    .dataframe thead th {\n",
       "        text-align: right;\n",
       "    }\n",
       "</style>\n",
       "<table border=\"1\" class=\"dataframe\">\n",
       "  <thead>\n",
       "    <tr style=\"text-align: right;\">\n",
       "      <th></th>\n",
       "      <th>Product</th>\n",
       "      <th>Frequency</th>\n",
       "    </tr>\n",
       "  </thead>\n",
       "  <tbody>\n",
       "    <tr>\n",
       "      <th>0</th>\n",
       "      <td>travel</td>\n",
       "      <td>10</td>\n",
       "    </tr>\n",
       "    <tr>\n",
       "      <th>1</th>\n",
       "      <td>although</td>\n",
       "      <td>9</td>\n",
       "    </tr>\n",
       "    <tr>\n",
       "      <th>2</th>\n",
       "      <td>beyond</td>\n",
       "      <td>9</td>\n",
       "    </tr>\n",
       "    <tr>\n",
       "      <th>3</th>\n",
       "      <td>family</td>\n",
       "      <td>8</td>\n",
       "    </tr>\n",
       "    <tr>\n",
       "      <th>4</th>\n",
       "      <td>story</td>\n",
       "      <td>8</td>\n",
       "    </tr>\n",
       "    <tr>\n",
       "      <th>...</th>\n",
       "      <td>...</td>\n",
       "      <td>...</td>\n",
       "    </tr>\n",
       "    <tr>\n",
       "      <th>926</th>\n",
       "      <td>religious</td>\n",
       "      <td>1</td>\n",
       "    </tr>\n",
       "    <tr>\n",
       "      <th>927</th>\n",
       "      <td>stock</td>\n",
       "      <td>1</td>\n",
       "    </tr>\n",
       "    <tr>\n",
       "      <th>928</th>\n",
       "      <td>road</td>\n",
       "      <td>1</td>\n",
       "    </tr>\n",
       "    <tr>\n",
       "      <th>929</th>\n",
       "      <td>town</td>\n",
       "      <td>1</td>\n",
       "    </tr>\n",
       "    <tr>\n",
       "      <th>930</th>\n",
       "      <td>week</td>\n",
       "      <td>1</td>\n",
       "    </tr>\n",
       "  </tbody>\n",
       "</table>\n",
       "<p>931 rows × 2 columns</p>\n",
       "</div>"
      ],
      "text/plain": [
       "       Product  Frequency\n",
       "0       travel         10\n",
       "1     although          9\n",
       "2       beyond          9\n",
       "3       family          8\n",
       "4        story          8\n",
       "..         ...        ...\n",
       "926  religious          1\n",
       "927      stock          1\n",
       "928       road          1\n",
       "929       town          1\n",
       "930       week          1\n",
       "\n",
       "[931 rows x 2 columns]"
      ]
     },
     "metadata": {},
     "output_type": "display_data"
    },
    {
     "name": "stdout",
     "output_type": "stream",
     "text": [
      "\n",
      "Frequency Table for Shipping_Method:\n",
      "\n"
     ]
    },
    {
     "data": {
      "text/html": [
       "<div>\n",
       "<style scoped>\n",
       "    .dataframe tbody tr th:only-of-type {\n",
       "        vertical-align: middle;\n",
       "    }\n",
       "\n",
       "    .dataframe tbody tr th {\n",
       "        vertical-align: top;\n",
       "    }\n",
       "\n",
       "    .dataframe thead th {\n",
       "        text-align: right;\n",
       "    }\n",
       "</style>\n",
       "<table border=\"1\" class=\"dataframe\">\n",
       "  <thead>\n",
       "    <tr style=\"text-align: right;\">\n",
       "      <th></th>\n",
       "      <th>Shipping_Method</th>\n",
       "      <th>Frequency</th>\n",
       "    </tr>\n",
       "  </thead>\n",
       "  <tbody>\n",
       "    <tr>\n",
       "      <th>0</th>\n",
       "      <td>Air</td>\n",
       "      <td>1014</td>\n",
       "    </tr>\n",
       "    <tr>\n",
       "      <th>1</th>\n",
       "      <td>Sea</td>\n",
       "      <td>1002</td>\n",
       "    </tr>\n",
       "    <tr>\n",
       "      <th>2</th>\n",
       "      <td>Land</td>\n",
       "      <td>985</td>\n",
       "    </tr>\n",
       "  </tbody>\n",
       "</table>\n",
       "</div>"
      ],
      "text/plain": [
       "  Shipping_Method  Frequency\n",
       "0             Air       1014\n",
       "1             Sea       1002\n",
       "2            Land        985"
      ]
     },
     "metadata": {},
     "output_type": "display_data"
    },
    {
     "name": "stdout",
     "output_type": "stream",
     "text": [
      "\n",
      "Frequency Table for Import_Export:\n",
      "\n"
     ]
    },
    {
     "data": {
      "text/html": [
       "<div>\n",
       "<style scoped>\n",
       "    .dataframe tbody tr th:only-of-type {\n",
       "        vertical-align: middle;\n",
       "    }\n",
       "\n",
       "    .dataframe tbody tr th {\n",
       "        vertical-align: top;\n",
       "    }\n",
       "\n",
       "    .dataframe thead th {\n",
       "        text-align: right;\n",
       "    }\n",
       "</style>\n",
       "<table border=\"1\" class=\"dataframe\">\n",
       "  <thead>\n",
       "    <tr style=\"text-align: right;\">\n",
       "      <th></th>\n",
       "      <th>Import_Export</th>\n",
       "      <th>Frequency</th>\n",
       "    </tr>\n",
       "  </thead>\n",
       "  <tbody>\n",
       "    <tr>\n",
       "      <th>0</th>\n",
       "      <td>Import</td>\n",
       "      <td>1510</td>\n",
       "    </tr>\n",
       "    <tr>\n",
       "      <th>1</th>\n",
       "      <td>Export</td>\n",
       "      <td>1491</td>\n",
       "    </tr>\n",
       "  </tbody>\n",
       "</table>\n",
       "</div>"
      ],
      "text/plain": [
       "  Import_Export  Frequency\n",
       "0        Import       1510\n",
       "1        Export       1491"
      ]
     },
     "metadata": {},
     "output_type": "display_data"
    },
    {
     "name": "stdout",
     "output_type": "stream",
     "text": [
      "\n",
      "Frequency Table for Payment_Terms:\n",
      "\n"
     ]
    },
    {
     "data": {
      "text/html": [
       "<div>\n",
       "<style scoped>\n",
       "    .dataframe tbody tr th:only-of-type {\n",
       "        vertical-align: middle;\n",
       "    }\n",
       "\n",
       "    .dataframe tbody tr th {\n",
       "        vertical-align: top;\n",
       "    }\n",
       "\n",
       "    .dataframe thead th {\n",
       "        text-align: right;\n",
       "    }\n",
       "</style>\n",
       "<table border=\"1\" class=\"dataframe\">\n",
       "  <thead>\n",
       "    <tr style=\"text-align: right;\">\n",
       "      <th></th>\n",
       "      <th>Payment_Terms</th>\n",
       "      <th>Frequency</th>\n",
       "    </tr>\n",
       "  </thead>\n",
       "  <tbody>\n",
       "    <tr>\n",
       "      <th>0</th>\n",
       "      <td>Prepaid</td>\n",
       "      <td>780</td>\n",
       "    </tr>\n",
       "    <tr>\n",
       "      <th>1</th>\n",
       "      <td>Cash on Delivery</td>\n",
       "      <td>761</td>\n",
       "    </tr>\n",
       "    <tr>\n",
       "      <th>2</th>\n",
       "      <td>Net 30</td>\n",
       "      <td>734</td>\n",
       "    </tr>\n",
       "    <tr>\n",
       "      <th>3</th>\n",
       "      <td>Net 60</td>\n",
       "      <td>726</td>\n",
       "    </tr>\n",
       "  </tbody>\n",
       "</table>\n",
       "</div>"
      ],
      "text/plain": [
       "      Payment_Terms  Frequency\n",
       "0           Prepaid        780\n",
       "1  Cash on Delivery        761\n",
       "2            Net 30        734\n",
       "3            Net 60        726"
      ]
     },
     "metadata": {},
     "output_type": "display_data"
    }
   ],
   "source": [
    "# Frequency counts for categorical columns\n",
    "category_columns = ['Country', 'Product', 'Shipping_Method','Import_Export' , \"Payment_Terms\"]\n",
    "\n",
    "cat_data = sample[category_columns]  # Make sure your sample dataset is correct\n",
    "\n",
    "# Initializing an empty dictionary to store frequency tables\n",
    "frequency_tables = {}\n",
    "\n",
    "# Looping through each column and calculate the frequency table\n",
    "for col in category_columns:\n",
    "    if col in cat_data.columns:\n",
    "        # Calculating frequency using value_counts()\n",
    "        frequency_table = cat_data[col].value_counts().reset_index()\n",
    "        frequency_table.columns = [col, 'Frequency']\n",
    "        \n",
    "        # Storing the frequency table in the dictionary\n",
    "        frequency_tables[col] = frequency_table\n",
    "        \n",
    "        # Printing the frequency table for the column\n",
    "        print(f\"\\nFrequency Table for {col}:\\n\")\n",
    "        display(frequency_table)\n",
    "    else:\n",
    "        print(f\"Column '{col}' does not exist in the dataset.\")"
   ]
  },
  {
   "cell_type": "markdown",
   "id": "1c95846b-2629-4007-af6a-f50b78573570",
   "metadata": {},
   "source": [
    "# Frequency of Country:\n",
    "\n",
    "*Top Countries:*\n",
    "\n",
    "- Congo appears the most frequently in the dataset, with 24 occurrences.\n",
    "- Pakistan and Korea both have 22 occurrences, making them the second most common.\n",
    "- Sweden and Finland follow closely, with 21 occurrences each.\n",
    "- Least Frequent Countries:\n",
    "\n",
    "* Least Frequent Countries*\n",
    "\n",
    "- Liechtenstein has 5 occurrences.\n",
    "- South Africa, Afghanistan, and Antarctica (territory south of 60°S) all have 4 occurrences each.\n",
    "- Tonga is at the bottom with 3 occurrences.\n",
    "\n",
    "# Frequency of Product:\n",
    "\n",
    "##### Most Frequent Products:\n",
    "\n",
    "- **Travel** is the most frequent product, appearing **10 times**.\n",
    "- **Although** and **Beyond** follow closely with **9 occurrences** each.\n",
    "- **Family** and **Story** are also relatively frequent, with **8 occurrences** each.\n",
    "\n",
    "##### Least Frequent Products:\n",
    "\n",
    "At the bottom of the table, several products appear only once: **Religious**, **Stock**, **Road**, **Town**, and **Week**. These items have the lowest representation in the dataset.\n",
    "\n",
    "\n",
    "# Frequency of Shipping Method:\n",
    "Air (1014): Air shipping is the most common method.\n",
    "\n",
    "Sea (1002) is the most sought after air and Land (985) is the least common method.\n",
    "\n",
    "This nearly even distribution of shipping methods suggests flexibility in shipping based on product or location requirements.\n",
    "\n",
    "# Frequency of Import/Export:\n",
    "Export (1491): Slightly less transactions are that of exports than imports.\n",
    "\n",
    "Import (1510): The number of import transactions is more than exports.\n",
    "\n",
    "This balance indicates that the dataset contains a nearly equal mix of import and export transactions.\n",
    "\n",
    "# Frequency of Payment Terms:\n",
    "Prepaid (780): The most common payment term is Prepaid.\n",
    "\n",
    "Cash on Delivery (761),  Net 30 (734),Net 60 (726) follow closely.\n",
    "\n",
    "The distribution of payment terms suggests that multiple methods are nearly equally preferred, with a dominant one that is Prepaid."
   ]
  },
  {
   "cell_type": "markdown",
   "id": "76dc0469",
   "metadata": {},
   "source": [
    "#### Cross - Tabulation ( Category vs Value and Quantity)"
   ]
  },
  {
   "cell_type": "code",
   "execution_count": 185,
   "id": "43bd185b",
   "metadata": {},
   "outputs": [
    {
     "data": {
      "text/html": [
       "<div>\n",
       "<style scoped>\n",
       "    .dataframe tbody tr th:only-of-type {\n",
       "        vertical-align: middle;\n",
       "    }\n",
       "\n",
       "    .dataframe tbody tr th {\n",
       "        vertical-align: top;\n",
       "    }\n",
       "\n",
       "    .dataframe thead th {\n",
       "        text-align: right;\n",
       "    }\n",
       "</style>\n",
       "<table border=\"1\" class=\"dataframe\">\n",
       "  <thead>\n",
       "    <tr style=\"text-align: right;\">\n",
       "      <th></th>\n",
       "      <th>Country</th>\n",
       "      <th>Avg_Value</th>\n",
       "      <th>Avg_Quantity</th>\n",
       "    </tr>\n",
       "  </thead>\n",
       "  <tbody>\n",
       "    <tr>\n",
       "      <th>1</th>\n",
       "      <td>Solomon Islands</td>\n",
       "      <td>6908.63</td>\n",
       "      <td>6367.50</td>\n",
       "    </tr>\n",
       "    <tr>\n",
       "      <th>2</th>\n",
       "      <td>Switzerland</td>\n",
       "      <td>6872.15</td>\n",
       "      <td>4426.23</td>\n",
       "    </tr>\n",
       "    <tr>\n",
       "      <th>3</th>\n",
       "      <td>Palau</td>\n",
       "      <td>6774.04</td>\n",
       "      <td>5343.90</td>\n",
       "    </tr>\n",
       "    <tr>\n",
       "      <th>4</th>\n",
       "      <td>Somalia</td>\n",
       "      <td>6688.90</td>\n",
       "      <td>5449.82</td>\n",
       "    </tr>\n",
       "    <tr>\n",
       "      <th>5</th>\n",
       "      <td>Guadeloupe</td>\n",
       "      <td>6463.84</td>\n",
       "      <td>5405.83</td>\n",
       "    </tr>\n",
       "  </tbody>\n",
       "</table>\n",
       "</div>"
      ],
      "text/plain": [
       "           Country  Avg_Value  Avg_Quantity\n",
       "1  Solomon Islands    6908.63       6367.50\n",
       "2      Switzerland    6872.15       4426.23\n",
       "3            Palau    6774.04       5343.90\n",
       "4          Somalia    6688.90       5449.82\n",
       "5       Guadeloupe    6463.84       5405.83"
      ]
     },
     "metadata": {},
     "output_type": "display_data"
    },
    {
     "data": {
      "image/png": "[encoded data removed]",
      "text/plain": [
       "<Figure size 720x432 with 1 Axes>"
      ]
     },
     "metadata": {},
     "output_type": "display_data"
    }
   ],
   "source": [
    "# Group by 'Country' and calculate the average for 'Value' and 'Quantity'\n",
    "country_avg = sample.groupby('Country').agg(\n",
    "    Avg_Value=('Value', 'mean'),\n",
    "    Avg_Quantity=('Quantity', 'mean')\n",
    ").reset_index()\n",
    "\n",
    "# Sort by 'Avg_Value' and 'Avg_Quantity' in descending order\n",
    "country_avg_sorted = country_avg.sort_values(by=['Avg_Value', 'Avg_Quantity'], ascending=False)\n",
    "\n",
    "# Get the top 5 countries with highest average value and quantity\n",
    "top_5_countries = country_avg_sorted.head(5)\n",
    "top_5_countries = np.round(top_5_countries.reset_index(drop=True),2)\n",
    "top_5_countries.index=top_5_countries.index+1\n",
    "\n",
    "\n",
    "# Display the resulting DataFrame\n",
    "                                                \n",
    "display(top_5_countries)\n",
    "\n",
    "\n",
    "# Create a side-by-side bar plot\n",
    "sns.set_theme(style=\"whitegrid\")\n",
    "plt.figure(figsize=(10, 6))\n",
    "sns.barplot(x=\"Country\", y=\"Avg_Value\", data=top_5_countries, color=\"blue\", label=\"Avg_Value\")\n",
    "sns.barplot(x=\"Country\", y=\"Avg_Quantity\", data=top_5_countries, color=\"orange\", label=\"Avg_Quantity\")\n",
    "\n",
    "# Set plot title and labels\n",
    "plt.title(\"Top 5 Countries by Average Value and Quantity\")\n",
    "plt.ylabel(\"Value/Quantity\")\n",
    "plt.legend()\n",
    "\n",
    "# Rotate x-axis labels for better readability\n",
    "plt.xticks(rotation=45)\n",
    "\n",
    "# Show the plot\n",
    "plt.show()"
   ]
  },
  {
   "attachments": {
    "image.png": {
     "image/png": "[encoded data removed]"
    }
   },
   "cell_type": "markdown",
   "id": "ee6ddf49",
   "metadata": {},
   "source": [
    "### Grouping by 'Country' and calculating the average for 'Value' and 'Quantity'\n",
    "\n",
    "![image.png](attachment:image.png)\n",
    "\n",
    "| Country | Avg_Value | Avg_Quantity |\n",
    "|---|---|---|\n",
    "| Solomon Islands | 6908.63 | 6367.50 |\n",
    "| Switzerland | 6872.15 | 4426.23 |\n",
    "| Palau | 6774.04 | 5343.90 |\n",
    "| Somalia | 6688.90 | 5449.82 |\n",
    "| Guadeloupe | 6463.84 | 5405.83 |\n",
    "\n",
    "### Key Analysis and Observations\n",
    "\n",
    "**1. Average Value:**\n",
    "\n",
    "* Solomon Islands has the highest average value at 6908.63.\n",
    "* Switzerland has the second highest average value at 6872.15.\n",
    "* The average values for Palau, Somalia, and Guadeloupe are relatively close to each other, ranging from 6463.84 to 6774.04.\n",
    "\n",
    "**2. Average Quantity:**\n",
    "\n",
    "* Solomon Islands also has the highest average quantity at 6367.50.\n",
    "* Guadeloupe has the second highest average quantity at 5405.83.\n",
    "* Somalia has the lowest average quantity at 5449.82.\n",
    "\n",
    "**3. Relationship between Average Value and Quantity:**\n",
    "\n",
    "* There appears to be a general correlation between average value and quantity. Countries with higher average values also tend to have higher average quantities. However, this relationship is not perfectly linear. For example, Switzerland has a higher average value than Palau but a lower average quantity.\n",
    "\n",
    "**4. Country-Specific Observations:**\n",
    "\n",
    "* Solomon Islands has the highest average value and quantity, suggesting it may be producing or consuming high-value goods or services in large quantities.\n",
    "* Switzerland has a high average value but a relatively low average quantity, indicating it may be producing or consuming high-value goods or services in smaller quantities.\n",
    "* Somalia has a low average value and quantity, suggesting it may be producing or consuming low-value goods or services in small quantities.\n",
    "\n",
    "### Managerial Insights\n",
    "\n",
    "**Key Findings and Implications**\n",
    "\n",
    "1. **Country-Specific Performance Analysis:**\n",
    "\n",
    "   * **Solomon Islands:** This country exhibits the highest average value and quantity, suggesting it might be a significant market or producer of high-value goods or services.\n",
    "   * **Switzerland:** While it has a high average value, its lower average quantity indicates a potential focus on high-value, niche products or services.\n",
    "   * **Palau, Somalia, and Guadeloupe:** These countries have relatively similar average values and quantities, suggesting a more balanced market or production profile.\n",
    "\n",
    "2. **Pricing and Demand Dynamics:**\n",
    "\n",
    "   * **Solomon Islands:** The high average value and quantity might indicate strong demand for premium products or services in this country.\n",
    "   * **Switzerland:** The combination of high value and lower quantity suggests a market with a willingness to pay higher prices for specialized goods or services.\n",
    "   * **Other Countries:** The relatively similar average values and quantities in Palau, Somalia, and Guadeloupe might suggest a more competitive market with price sensitivity.\n",
    "\n",
    "3. **Market Segmentation and Targeting:**\n",
    "\n",
    "   * **Solomon Islands:** Businesses could focus on offering high-quality, premium products or services to cater to the strong demand.\n",
    "   * **Switzerland:** Targeting niche markets or segments that value specialized products or services could be effective.\n",
    "   * **Other Countries:** A more general market approach with a focus on competitive pricing and product differentiation might be suitable.\n",
    "\n",
    "4. **Supply Chain and Operations:**\n",
    "\n",
    "   * **Solomon Islands:** Businesses might need to invest in efficient supply chains to meet the demand for high-value goods or services.\n",
    "   * **Switzerland:** A focus on quality control and customization might be necessary to cater to the specialized needs of the market.\n",
    "   * **Other Countries:** A more standardized approach to supply chain and operations might be sufficient.\n",
    "\n",
    "### Recommendations\n",
    "\n",
    "* **Conduct Deeper Market Research:** Gather more detailed information about consumer preferences, market trends, and the competitive landscape in each country.\n",
    "* **Tailor Product Offerings:** Customize product offerings and marketing strategies to align with the specific needs and preferences of each market.\n",
    "* **Optimize Supply Chain:** Ensure efficient supply chains and operations to meet demand and maintain competitive pricing.\n",
    "* **Monitor Market Dynamics:** Continuously monitor market changes and adjust strategies accordingly to stay ahead of the competition.\n",
    "* **Consider Partnerships:** Explore strategic partnerships with local businesses or distributors to enhance market penetration and understanding.\n",
    "\n",
    "**By implementing these recommendations, businesses can leverage the insights from this analysis to make informed decisions, optimize their market strategies, and improve overall performance in each country.**"
   ]
  },
  {
   "cell_type": "markdown",
   "id": "e3be7643",
   "metadata": {},
   "source": [
    "#### Cross - Tabulation ( Maximum Weight in KGs by Shipping Method and Category)"
   ]
  },
  {
   "cell_type": "code",
   "execution_count": 186,
   "id": "c8aebc8b",
   "metadata": {},
   "outputs": [
    {
     "name": "stdout",
     "output_type": "stream",
     "text": [
      "\n",
      " Maximum Weight in KGs by Shipping Method and Category :\n"
     ]
    },
    {
     "data": {
      "text/html": [
       "<div>\n",
       "<style scoped>\n",
       "    .dataframe tbody tr th:only-of-type {\n",
       "        vertical-align: middle;\n",
       "    }\n",
       "\n",
       "    .dataframe tbody tr th {\n",
       "        vertical-align: top;\n",
       "    }\n",
       "\n",
       "    .dataframe thead th {\n",
       "        text-align: right;\n",
       "    }\n",
       "</style>\n",
       "<table border=\"1\" class=\"dataframe\">\n",
       "  <thead>\n",
       "    <tr style=\"text-align: right;\">\n",
       "      <th>Category</th>\n",
       "      <th>Clothing</th>\n",
       "      <th>Electronics</th>\n",
       "      <th>Furniture</th>\n",
       "      <th>Machinery</th>\n",
       "      <th>Toys</th>\n",
       "    </tr>\n",
       "    <tr>\n",
       "      <th>Shipping_Method</th>\n",
       "      <th></th>\n",
       "      <th></th>\n",
       "      <th></th>\n",
       "      <th></th>\n",
       "      <th></th>\n",
       "    </tr>\n",
       "  </thead>\n",
       "  <tbody>\n",
       "    <tr>\n",
       "      <th>Air</th>\n",
       "      <td>4927.00</td>\n",
       "      <td>4971.92</td>\n",
       "      <td>4965.92</td>\n",
       "      <td>4994.36</td>\n",
       "      <td>4997.24</td>\n",
       "    </tr>\n",
       "    <tr>\n",
       "      <th>Land</th>\n",
       "      <td>4994.90</td>\n",
       "      <td>4984.60</td>\n",
       "      <td>4928.60</td>\n",
       "      <td>4998.01</td>\n",
       "      <td>4966.97</td>\n",
       "    </tr>\n",
       "    <tr>\n",
       "      <th>Sea</th>\n",
       "      <td>4982.45</td>\n",
       "      <td>4990.24</td>\n",
       "      <td>4993.26</td>\n",
       "      <td>4994.71</td>\n",
       "      <td>4959.85</td>\n",
       "    </tr>\n",
       "  </tbody>\n",
       "</table>\n",
       "</div>"
      ],
      "text/plain": [
       "Category         Clothing  Electronics  Furniture  Machinery     Toys\n",
       "Shipping_Method                                                      \n",
       "Air               4927.00      4971.92    4965.92    4994.36  4997.24\n",
       "Land              4994.90      4984.60    4928.60    4998.01  4966.97\n",
       "Sea               4982.45      4990.24    4993.26    4994.71  4959.85"
      ]
     },
     "metadata": {},
     "output_type": "display_data"
    }
   ],
   "source": [
    "print(\"\\n Maximum Weight in KGs by Shipping Method and Category :\")\n",
    "\n",
    "cross_table_max_weight = sample.pivot_table(\n",
    "    index='Shipping_Method',\n",
    "    columns='Category',\n",
    "    values='Weight',\n",
    "    aggfunc='max'\n",
    ")\n",
    "\n",
    "# Display the resulting pivot table\n",
    "display(cross_table_max_weight)"
   ]
  },
  {
   "cell_type": "markdown",
   "id": "d65b8c1a",
   "metadata": {},
   "source": [
    "### Chi - Square Test"
   ]
  },
  {
   "cell_type": "code",
   "execution_count": 187,
   "id": "2833231d",
   "metadata": {},
   "outputs": [
    {
     "name": "stdout",
     "output_type": "stream",
     "text": [
      "Chi-square statistic: 1.0575000907977576\n",
      "p-value: 0.9978583310250988\n",
      "There is no significant association between Shipping Method and Category.\n"
     ]
    }
   ],
   "source": [
    "chi2, p_value, _, _ = stats.chi2_contingency(cross_table_max_weight)\n",
    "\n",
    "print(\"Chi-square statistic:\", chi2)\n",
    "print(\"p-value:\", p_value)\n",
    "\n",
    "# Interpret the results\n",
    "if p_value < 0.05:\n",
    "    print(\"There is a significant association between Shipping Method and Category.\")\n",
    "else:\n",
    "    print(\"There is no significant association between Shipping Method and Category.\")"
   ]
  },
  {
   "cell_type": "code",
   "execution_count": 188,
   "id": "d9567539",
   "metadata": {},
   "outputs": [
    {
     "data": {
      "image/png": "[encoded data removed]",
      "text/plain": [
       "<Figure size 720x432 with 2 Axes>"
      ]
     },
     "metadata": {},
     "output_type": "display_data"
    }
   ],
   "source": [
    "# Create a heatmap\n",
    "sns.set_theme()\n",
    "plt.figure(figsize=(10, 6))\n",
    "sns.heatmap(cross_table_max_weight, annot=True, fmt=\".2f\", cmap=\"YlGnBu\")\n",
    "\n",
    "# Set plot title and labels\n",
    "plt.title(\"Maximum Weight in KGs by Shipping Method and Category\")\n",
    "plt.xlabel(\"Category\")\n",
    "plt.ylabel(\"Shipping Method\")\n",
    "\n",
    "# Show the plot\n",
    "plt.show()"
   ]
  },
  {
   "attachments": {
    "image.png": {
     "image/png": "[encoded data removed]"
    }
   },
   "cell_type": "markdown",
   "id": "f1094913",
   "metadata": {},
   "source": [
    "### Findinig Maximum Weight in KGs per Shipping Method and Category\n",
    "\n",
    "| Category | Clothing | Electronics | Furniture | Machinery | Toys |\n",
    "|---|---|---|---|---|---|\n",
    "| Shipping Method | | | | | |\n",
    "| Air | 4927.00 | 4971.92 | 4965.92 | 4994.36 | 4997.24 |\n",
    "| Land | 4994.90 | 4984.60 | 4926.50 | 4998.01 | 4966.97 |\n",
    "| Sea | 4962.45 | 4990.24 | 4993.26 | 4994.71 | 4959.85 |\n",
    "\n",
    "![image.png](attachment:image.png)\n",
    "\n",
    "### Key Observations\n",
    "\n",
    "**Category Variation**\n",
    "\n",
    "* **Machinery:** Across all shipping methods, Machinery consistently has the highest maximum weight allowed. This suggests that it's the heaviest category among the listed ones.\n",
    "* **Clothing:** On the other hand, Clothing generally has the lowest maximum weight restrictions, implying it's the lightest category.\n",
    "\n",
    "**Shipping Method Variation**\n",
    "\n",
    "* **Air:** Air shipping generally has lower maximum weight limits compared to Land and Sea, likely due to the weight restrictions imposed by aircraft.\n",
    "* **Land:** Land shipping often has the highest maximum weight limits, especially for Machinery. This could be attributed to the capacity of trucks and other land transportation vehicles.\n",
    "* **Sea:** Sea shipping falls somewhere between Air and Land in terms of weight limits. It might be influenced by factors like container size and ship capacity.\n",
    "\n",
    "**Specific Observations**\n",
    "\n",
    "* **Clothing:** Air shipping has the lowest maximum weight for Clothing, while Sea shipping has the highest.\n",
    "* **Electronics:** Air shipping and Land shipping have similar maximum weights for Electronics.\n",
    "* **Furniture:** Land shipping consistently allows for the highest maximum weight for Furniture.\n",
    "* **Toys:** There's less variation in maximum weight for Toys across different shipping methods.\n",
    "\n",
    "**Potential Implications**\n",
    "\n",
    "* **Shipping Costs:** Heavier items typically incur higher shipping costs. This analysis can help businesses determine the most cost-effective shipping method for different product categories.\n",
    "* **Packaging:** The maximum weight limits might influence packaging decisions, such as the materials used and the number of items bundled together.\n",
    "* **Product Design:** Manufacturers might consider the weight restrictions when designing products to optimize shipping efficiency and costs.\n",
    "\n",
    "### Statistical Analysis:\n",
    "\n",
    "**Chi-Square Test:**\n",
    "\n",
    "The chi-square test was conducted to determine if there is a significant association between Shipping Method and Category in terms of maximum weight. The results are as follows:\n",
    "\n",
    "* Chi-square statistic: 1.0575000907977576\n",
    "* p-value: 0.9978583310250988\n",
    "\n",
    "**Based on the p-value, there is no significant association between Shipping Method and Category. This suggests that the maximum weight allowed for a product is not significantly influenced by the shipping method chosen.**\n",
    "\n",
    "### Managerial Insights\n",
    "\n",
    "**Key Findings and Implications**\n",
    "\n",
    "1. **Category-Based Shipping Strategies:**\n",
    "\n",
    "   * **Machinery:** Given its high weight, Machinery might benefit from **Land** or **Sea** shipping for cost-effectiveness.\n",
    "   * **Clothing:** **Air** shipping is often the most suitable option due to its lower weight limits.\n",
    "   * **Electronics, Furniture, and Toys:** These categories have less variation in weight restrictions, allowing for more flexibility in shipping method selection. However, **Land** shipping might be preferred for Furniture due to its consistently higher weight limits.\n",
    "\n",
    "2. **Packaging Optimization:**\n",
    "\n",
    "   * **Heavy Items:** For Machinery and Furniture, consider using **sturdy, lightweight materials** to reduce overall weight.\n",
    "   * **Lightweight Items:** For Clothing and Electronics, **optimize packaging** to maximize the number of items per shipment without exceeding weight limits.\n",
    "\n",
    "3. **Product Design Considerations:**\n",
    "\n",
    "   * **Weight Reduction:** If possible, design products to **minimize weight** without compromising functionality or quality. This can lead to lower shipping costs.\n",
    "   * **Dimensional Optimization:** Consider the **dimensions** of products along with weight. Some shipping methods have limitations on both weight and dimensions.\n",
    "\n",
    "4. **Shipping Cost Analysis:**\n",
    "\n",
    "   * **Cost-Benefit Analysis:** Regularly evaluate the **costs** associated with different shipping methods and compare them to the potential **benefits** of faster delivery or reduced handling.\n",
    "   * **Negotiate Rates:** Leverage your shipping volume to negotiate **favorable rates** with carriers.\n",
    "\n",
    "5. **Flexibility and Adaptability:**\n",
    "\n",
    "   * **Market Dynamics:** Be prepared to **adjust** shipping strategies based on changes in market conditions, customer demands, and shipping costs.\n",
    "   * **Emergency Situations:** Have contingency plans in place to handle **urgent shipments** that might require expedited shipping or alternative methods.\n",
    "\n",
    "### Recommendations\n",
    "\n",
    "**Our analysis suggests the following actions to optimize your shipping strategies:**\n",
    "\n",
    "* **Regularly Review Shipping Data:** Track shipping costs, delivery times, and customer satisfaction to identify areas for improvement.\n",
    "* **Utilize Shipping Software:** Implement software to optimize shipping processes, calculate costs, and track shipments effectively.\n",
    "* **Consider Third-Party Logistics (3PL):** Partner with 3PL providers for specialized services like warehousing, transportation management, and customs clearance.\n",
    "* **Stay Informed About Shipping Regulations:** Keep up-to-date with industry regulations, tariffs, and trade agreements that might impact shipping costs and operations.\n",
    "\n",
    "**By implementing these recommendations, the organization can optimize its shipping strategies, reduce costs, and improve overall supply chain efficiency.**\n"
   ]
  },
  {
   "cell_type": "markdown",
   "id": "2ef91e07",
   "metadata": {},
   "source": [
    "#### Cross - Tabulation ( Count of products by their payment terms per Category)"
   ]
  },
  {
   "cell_type": "code",
   "execution_count": 236,
   "id": "a194fdf6",
   "metadata": {},
   "outputs": [
    {
     "name": "stdout",
     "output_type": "stream",
     "text": [
      "\n",
      " Count of products by their payment terms per Category :\n"
     ]
    },
    {
     "data": {
      "image/png": "[encoded data removed]",
      "text/plain": [
       "<Figure size 432x288 with 1 Axes>"
      ]
     },
     "metadata": {},
     "output_type": "display_data"
    }
   ],
   "source": [
    "print(\"\\n Count of products by their payment terms per Category :\")\n",
    "\n",
    "# Create pivot table with count of 'Products' for each category and payment term\n",
    "pivot_table = sample.pivot_table(\n",
    "    values='Product',\n",
    "    index='Category',\n",
    "    columns='Payment_Terms',\n",
    "    aggfunc='count'\n",
    ")\n",
    "\n",
    "# Display the pivot table with formatted output\n",
    "pivot_table.style.format({\n",
    "    '': '{:,.0f}'  # Format all values (product counts) with commas and no decimal places\n",
    "})\n",
    "\n",
    "# Create a stacked bar chart to visualize product counts\n",
    "pivot_table.plot(kind='bar', stacked=True, colormap='Set2')\n",
    "plt.xlabel('Category')\n",
    "plt.ylabel('Product Count')\n",
    "plt.title('Product Count by Payment Term per Category (Stacked Bar Chart)')\n",
    "plt.xticks(rotation=0)  # Rotate x-axis labels for better readability\n",
    "plt.legend(title='Payment Term')\n",
    "plt.tight_layout()  # Adjust spacing for readability\n",
    "\n",
    "# Display the chart\n",
    "plt.show()"
   ]
  },
  {
   "cell_type": "markdown",
   "id": "8f4e75d5",
   "metadata": {},
   "source": [
    "### Chi - Square Test"
   ]
  },
  {
   "cell_type": "code",
   "execution_count": 233,
   "id": "4bf6e30e",
   "metadata": {},
   "outputs": [
    {
     "name": "stdout",
     "output_type": "stream",
     "text": [
      "Chi-square statistic: 7.1827090450111\n",
      "p-value: 0.8453068394556151\n",
      "There is no significant association between Category and Payment_Terms.\n"
     ]
    }
   ],
   "source": [
    "from scipy.stats import chi2_contingency\n",
    "\n",
    "chi2, p_value, _, _ = chi2_contingency(pivot_table)\n",
    "\n",
    "print(\"Chi-square statistic:\", chi2)\n",
    "print(\"p-value:\", p_value)\n",
    "\n",
    "# Interpret the results\n",
    "if p_value < 0.05:\n",
    "    print(\"There is a significant association between Category and Payment_Terms.\")\n",
    "else:\n",
    "    print(\"There is no significant association between Category and Payment_Terms.\")"
   ]
  },
  {
   "attachments": {
    "image.png": {
     "image/png": "[encoded data removed]"
    }
   },
   "cell_type": "markdown",
   "id": "f348db94",
   "metadata": {},
   "source": [
    "### Count of products by their payment terms per Category\n",
    "\n",
    "| Category | Cash on Delivery | Net 30 | Net 60 | Prepaid |\n",
    "|---|---|---|---|---|\n",
    "| Clothing | 162 | 142 | 144 | 148 |\n",
    "| Electronics | 137 | 151 | 142 | 148 |\n",
    "| Furniture | 162 | 159 | 135 | 159 |\n",
    "| Machinery | 149 | 142 | 162 | 162 |\n",
    "| Toys | 151 | 140 | 143 | 163 |\n",
    "\n",
    "![image.png](attachment:image.png)\n",
    "\n",
    "### Key Analysis and Observations\n",
    "\n",
    "**Payment Term Distribution:**\n",
    "\n",
    "* Across all categories, the most common payment terms are \"Cash on Delivery\" and \"Net 30.\" This suggests that a majority of customers prefer immediate payment or short-term credit.\n",
    "\n",
    "**Category Variations:**\n",
    "\n",
    "* **Clothing:** \"Cash on Delivery\" is the most popular payment term, followed by \"Net 30.\" This indicates a preference for immediate payment or short-term credit, possibly due to the lower value of clothing items.\n",
    "* **Electronics:** \"Net 30\" is the most popular payment term, followed by \"Cash on Delivery.\" This suggests that customers may be more willing to pay on credit for higher-value electronic products.\n",
    "* **Furniture:** Similar to Electronics, \"Net 30\" is the preferred payment term, indicating a willingness to pay on credit for larger purchases.\n",
    "* **Machinery:** \"Net 60\" and \"Prepaid\" are slightly more popular than \"Cash on Delivery\" and \"Net 30.\" This suggests that customers in this category might require longer payment terms, possibly due to the higher value and complexity of machinery purchases.\n",
    "* **Toys:** \"Prepaid\" is the most popular payment term, followed by \"Cash on Delivery.\" This indicates a preference for immediate payment, likely due to the lower value of toys and the convenience of prepaid options.\n",
    "\n",
    "### Statistical Analysis\n",
    "\n",
    "**Chi-Square Test:**\n",
    "\n",
    "A chi-square test was conducted to determine if there is a significant association between Category and Payment_Terms. The results are as follows:\n",
    "\n",
    "* Chi-square statistic: 7.1827090450111\n",
    "* p-value: 0.8453068394556151\n",
    "\n",
    "**Based on the p-value, there is no significant association between Category and Payment_Terms. This suggests that the choice of payment term is not significantly influenced by the product category.**\n",
    "\n",
    "### Managerial Insights\n",
    "\n",
    "**1. Credit Policy Optimization:**\n",
    "\n",
    "* **Category-Specific Policies:** Consider implementing different credit policies for different categories based on their payment term preferences. For example, offer more flexible payment terms for Machinery, while maintaining stricter terms for Clothing and Toys.\n",
    "* **Risk Assessment:** Evaluate the creditworthiness of customers before offering extended payment terms, especially for higher-value items.\n",
    "\n",
    "**2. Pricing Strategies:**\n",
    "\n",
    "* **Discounts for Early Payment:** Incentivize customers to pay earlier by offering discounts for \"Cash on Delivery\" or \"Net 30\" payments.\n",
    "* **Interest Charges:** Implement reasonable interest charges for late payments to encourage timely payments and maintain cash flow.\n",
    "\n",
    "**3. Payment Options:**\n",
    "\n",
    "* **Expand Payment Options:** Offer a variety of payment options, such as credit cards, digital wallets, and installment plans, to cater to different customer preferences.\n",
    "* **Online Payment Gateways:** Ensure secure and efficient online payment gateways to facilitate easy transactions.\n",
    "\n",
    "**4. Customer Relationship Management:**\n",
    "\n",
    "* **Personalized Communication:** Communicate payment terms clearly and effectively to customers, tailoring the communication to their specific needs and preferences.\n",
    "* **Follow-up and Collections:** Implement efficient follow-up and collections processes to minimize late payments and bad debts.\n",
    "\n",
    "**5. Inventory Management:**\n",
    "\n",
    "* **Demand Forecasting:** Use payment term data to forecast demand and optimize inventory levels, reducing the risk of stockouts or excess inventory.\n",
    "\n",
    "**6. Financial Analysis:**\n",
    "\n",
    "* **Cash Flow Management:** Monitor cash flow closely to ensure adequate funds for operations and investments.\n",
    "* **Profitability Analysis:** Evaluate the impact of different payment terms on profitability and make adjustments as needed.\n",
    "\n",
    "**By implementing these managerial insights, businesses can optimize their payment policies, improve customer satisfaction, and enhance overall financial performance.**"
   ]
  },
  {
   "cell_type": "markdown",
   "id": "3b05e564",
   "metadata": {},
   "source": [
    "### Rank categories based on the most preferred Category(i.e., highest total economic impact)"
   ]
  },
  {
   "cell_type": "code",
   "execution_count": 241,
   "id": "522e17db",
   "metadata": {},
   "outputs": [
    {
     "data": {
      "text/html": [
       "<div>\n",
       "<style scoped>\n",
       "    .dataframe tbody tr th:only-of-type {\n",
       "        vertical-align: middle;\n",
       "    }\n",
       "\n",
       "    .dataframe tbody tr th {\n",
       "        vertical-align: top;\n",
       "    }\n",
       "\n",
       "    .dataframe thead th {\n",
       "        text-align: right;\n",
       "    }\n",
       "</style>\n",
       "<table border=\"1\" class=\"dataframe\">\n",
       "  <thead>\n",
       "    <tr style=\"text-align: right;\">\n",
       "      <th></th>\n",
       "      <th>Total Economic Impact in $</th>\n",
       "      <th>Rank</th>\n",
       "    </tr>\n",
       "    <tr>\n",
       "      <th>Category</th>\n",
       "      <th></th>\n",
       "      <th></th>\n",
       "    </tr>\n",
       "  </thead>\n",
       "  <tbody>\n",
       "    <tr>\n",
       "      <th>Furniture</th>\n",
       "      <td>3155020.10</td>\n",
       "      <td>1.0</td>\n",
       "    </tr>\n",
       "    <tr>\n",
       "      <th>Toys</th>\n",
       "      <td>3001177.95</td>\n",
       "      <td>2.0</td>\n",
       "    </tr>\n",
       "    <tr>\n",
       "      <th>Clothing</th>\n",
       "      <td>2996226.27</td>\n",
       "      <td>3.0</td>\n",
       "    </tr>\n",
       "    <tr>\n",
       "      <th>Machinery</th>\n",
       "      <td>2992691.22</td>\n",
       "      <td>4.0</td>\n",
       "    </tr>\n",
       "    <tr>\n",
       "      <th>Electronics</th>\n",
       "      <td>2963909.82</td>\n",
       "      <td>5.0</td>\n",
       "    </tr>\n",
       "  </tbody>\n",
       "</table>\n",
       "</div>"
      ],
      "text/plain": [
       "             Total Economic Impact in $  Rank\n",
       "Category                                     \n",
       "Furniture                    3155020.10   1.0\n",
       "Toys                         3001177.95   2.0\n",
       "Clothing                     2996226.27   3.0\n",
       "Machinery                    2992691.22   4.0\n",
       "Electronics                  2963909.82   5.0"
      ]
     },
     "metadata": {},
     "output_type": "display_data"
    },
    {
     "data": {
      "image/png": "[encoded data removed]",
      "text/plain": [
       "<Figure size 576x576 with 1 Axes>"
      ]
     },
     "metadata": {},
     "output_type": "display_data"
    }
   ],
   "source": [
    "# Rank categories by the total economic impact (Value), higher value gets a higher rank\n",
    "economic_impact = sample.groupby('Category')['Value'].sum()\n",
    "\n",
    "# Rank the categories based on the summed Value in descending order (most preferred = rank 1)\n",
    "economic_impact_rank = economic_impact.rank(ascending=False, method='dense')\n",
    "\n",
    "# Combine the economic impact values and their rank into a DataFrame for better display\n",
    "economic_impact_rank_df = pd.DataFrame({\n",
    "    'Total Economic Impact in $': economic_impact,\n",
    "    'Rank': economic_impact_rank\n",
    "}).sort_values(by='Rank')\n",
    "\n",
    "# Display the DataFrame\n",
    "display(economic_impact_rank_df)\n",
    "\n",
    "# Get the total economic impact values\n",
    "total_economic_impact = economic_impact_rank_df['Total Economic Impact in $']\n",
    "\n",
    "# Create a pie chart\n",
    "plt.figure(figsize=(8, 8))\n",
    "plt.pie(total_economic_impact, labels=economic_impact_rank_df.index, autopct='%1.1f%%', startangle=140)\n",
    "\n",
    "# Set title and show the plot\n",
    "plt.title('Distribution of Total Economic Impact')\n",
    "plt.show()"
   ]
  },
  {
   "attachments": {
    "image-2.png": {
     "image/png": "[encoded data removed]"
    }
   },
   "cell_type": "markdown",
   "id": "3285a01d",
   "metadata": {},
   "source": [
    "### Rank categories based on the most preferred Category(i.e., highest total economic impact)\n",
    "\n",
    "| Category | Total Economic Impact in $ | Rank |\n",
    "|---|---|---|\n",
    "| Furniture | 3155020.10 | 1.0 |\n",
    "| Toys | 3001177.95 | 2.0 |\n",
    "| Clothing | 2996226.27 | 3.0 |\n",
    "| Machinery | 2992691.22 | 4.0 |\n",
    "| Electronics | 2963909.82 | 5.0 |\n",
    "\n",
    "![image-2.png](attachment:image-2.png)\n",
    "\n",
    "### Key Findings\n",
    "\n",
    "* **Furniture Dominates:** The \"Furniture\" category has the highest Total Economic Impact, significantly surpassing the other categories. This suggests that furniture sales or production have the greatest economic contribution.\n",
    "* **Close Competition:** The remaining categories (Toys, Clothing, Machinery, and Electronics) have relatively similar economic impacts, indicating a competitive landscape.\n",
    "\n",
    "### Managerial Insights and Recommendations\n",
    "\n",
    "**1. Focus on Furniture:**\n",
    "\n",
    "* **Product Innovation:** Continue to invest in innovative furniture designs and features to maintain market leadership.\n",
    "* **Market Expansion:** Explore opportunities to expand into new furniture markets or segments.\n",
    "* **Supply Chain Optimization:** Ensure efficient supply chains to reduce costs and improve product availability.\n",
    "\n",
    "**2. Competitive Analysis:**\n",
    "\n",
    "* **Benchmarking:** Regularly benchmark your performance against competitors in the Toys, Clothing, Machinery, and Electronics categories to identify areas for improvement.\n",
    "* **Product Differentiation:** Develop unique selling propositions for your products to differentiate them from competitors.\n",
    "* **Pricing Strategies:** Analyze competitor pricing and adjust your own pricing strategies accordingly to maintain market share and profitability.\n",
    "\n",
    "**3. Diversification:**\n",
    "\n",
    "* **New Categories:** Consider expanding into new product categories to reduce reliance on the Furniture category and diversify revenue streams.\n",
    "* **Related Products:** Explore opportunities to offer complementary products or services to increase customer value and cross-selling.\n",
    "\n",
    "**4. Customer Satisfaction:**\n",
    "\n",
    "* **Feedback Analysis:** Gather customer feedback to understand their needs and preferences.\n",
    "* **Customer Service:** Provide excellent customer service to build loyalty and positive word-of-mouth.\n",
    "\n",
    "**5. Sustainability:**\n",
    "\n",
    "* **Ethical Sourcing:** Ensure that your products are sourced ethically and sustainably.\n",
    "* **Environmental Impact:** Minimize your business's environmental impact by adopting sustainable practices.\n",
    "\n",
    "**6. Technological Advancements:**\n",
    "\n",
    "* **Innovation:** Stay updated on technological advancements in your industry and explore opportunities to incorporate them into your products or processes.\n",
    "* **Digital Transformation:** Leverage digital technologies to improve efficiency, enhance customer experience, and gather valuable data.\n",
    "\n",
    "**By implementing these managerial insights, businesses can capitalize on their strengths in the Furniture category while strategically addressing the competitive landscape in other areas. This will help them maintain a sustainable and profitable position in the market.**"
   ]
  },
  {
   "cell_type": "markdown",
   "id": "aa2bea80-fd20-43d1-9b89-908e23bf404b",
   "metadata": {},
   "source": [
    "**Cross-Tabulation ( Country vs Import_Export)**"
   ]
  },
  {
   "cell_type": "code",
   "execution_count": 249,
   "id": "64eca280-ca7e-427a-91ef-2e51cf2d14cd",
   "metadata": {},
   "outputs": [
    {
     "data": {
      "text/plain": [
       "'Cross-tabulation of Country vs Import/Export: '"
      ]
     },
     "metadata": {},
     "output_type": "display_data"
    },
    {
     "data": {
      "text/html": [
       "<div>\n",
       "<style scoped>\n",
       "    .dataframe tbody tr th:only-of-type {\n",
       "        vertical-align: middle;\n",
       "    }\n",
       "\n",
       "    .dataframe tbody tr th {\n",
       "        vertical-align: top;\n",
       "    }\n",
       "\n",
       "    .dataframe thead th {\n",
       "        text-align: right;\n",
       "    }\n",
       "</style>\n",
       "<table border=\"1\" class=\"dataframe\">\n",
       "  <thead>\n",
       "    <tr style=\"text-align: right;\">\n",
       "      <th>Import_Export</th>\n",
       "      <th>Export</th>\n",
       "      <th>Import</th>\n",
       "    </tr>\n",
       "    <tr>\n",
       "      <th>Country</th>\n",
       "      <th></th>\n",
       "      <th></th>\n",
       "    </tr>\n",
       "  </thead>\n",
       "  <tbody>\n",
       "    <tr>\n",
       "      <th>Afghanistan</th>\n",
       "      <td>2</td>\n",
       "      <td>2</td>\n",
       "    </tr>\n",
       "    <tr>\n",
       "      <th>Albania</th>\n",
       "      <td>11</td>\n",
       "      <td>4</td>\n",
       "    </tr>\n",
       "    <tr>\n",
       "      <th>Algeria</th>\n",
       "      <td>3</td>\n",
       "      <td>11</td>\n",
       "    </tr>\n",
       "    <tr>\n",
       "      <th>American Samoa</th>\n",
       "      <td>5</td>\n",
       "      <td>6</td>\n",
       "    </tr>\n",
       "    <tr>\n",
       "      <th>Andorra</th>\n",
       "      <td>5</td>\n",
       "      <td>10</td>\n",
       "    </tr>\n",
       "  </tbody>\n",
       "</table>\n",
       "</div>"
      ],
      "text/plain": [
       "Import_Export   Export  Import\n",
       "Country                       \n",
       "Afghanistan          2       2\n",
       "Albania             11       4\n",
       "Algeria              3      11\n",
       "American Samoa       5       6\n",
       "Andorra              5      10"
      ]
     },
     "metadata": {},
     "output_type": "display_data"
    },
    {
     "data": {
      "text/plain": [
       "<Figure size 720x432 with 0 Axes>"
      ]
     },
     "metadata": {},
     "output_type": "display_data"
    },
    {
     "data": {
      "image/png": "[encoded data removed]",
      "text/plain": [
       "<Figure size 432x288 with 1 Axes>"
      ]
     },
     "metadata": {},
     "output_type": "display_data"
    }
   ],
   "source": [
    "# Cross-tabulation of categorical variables\n",
    "country_vs_import_export = pd.crosstab(sample['Country'], sample['Import_Export']).head()\n",
    "\n",
    "display(\"Cross-tabulation of Country vs Import/Export: \", country_vs_import_export)\n",
    "\n",
    "# Create a bar chart\n",
    "plt.figure(figsize=(10, 6))\n",
    "country_vs_import_export.plot(kind='bar')\n",
    "plt.xlabel(\"Country\")\n",
    "plt.ylabel(\"Count\")\n",
    "plt.title(\"Cross-tabulation of Country vs Import/Export\")\n",
    "plt.legend()\n",
    "plt.xticks(rotation=45)\n",
    "plt.show()"
   ]
  },
  {
   "attachments": {
    "image.png": {
     "image/png": "[encoded data removed]"
    }
   },
   "cell_type": "markdown",
   "id": "a4382045-e06d-46ee-bd8f-609a5acd97ca",
   "metadata": {},
   "source": [
    "# Top 5 Countries in Import/Export:\n",
    "\n",
    "| Country | Export | Import |\n",
    "|---|---|---|\n",
    "| Afghanistan | 2 | 2 |\n",
    "| Albania | 11 | 4 |\n",
    "| Algeria | 3 | 11 |\n",
    "| American Samoa | 5 | 6 |\n",
    "| Andorra | 5 | 10 |\n",
    "\n",
    "\n",
    "![image.png](attachment:image.png)\n",
    "\n",
    "### Key Observations\n",
    "\n",
    "**Export-Import Balance:**\n",
    "\n",
    "* **Afghanistan:** The country has an equal balance of exports and imports, with 2 units of each.\n",
    "* **Albania:** Albania has a higher number of exports (11) compared to imports (4), indicating a trade surplus.\n",
    "* **Algeria:** Algeria has a higher number of imports (11) compared to exports (3), indicating a trade deficit.\n",
    "* **American Samoa:** The country has a slightly higher number of imports (6) compared to exports (5), indicating a small trade deficit.\n",
    "* **Andorra:** Andorra also has a higher number of imports (10) compared to exports (5), indicating a trade deficit.\n",
    "\n",
    "**Country-Specific Analysis:**\n",
    "\n",
    "* **Albania and Algeria:** These countries demonstrate a significant difference between exports and imports, suggesting a focus on either exporting or importing specific goods or services.\n",
    "* **Afghanistan, American Samoa, and Andorra:** These countries have relatively balanced trade, indicating a more diversified import-export profile.\n",
    "\n",
    "**Potential Implications:**\n",
    "\n",
    "* **Economic Growth:** Countries with a trade surplus (Albania) might experience economic growth due to increased exports and foreign exchange inflows.\n",
    "* **Dependency:** Countries with a trade deficit (Algeria, American Samoa, Andorra) might be more dependent on imports and vulnerable to external economic shocks.\n",
    "* **Trade Policies:** Governments might implement trade policies to address trade imbalances and promote economic growth.\n",
    "\n",
    "## Managerial Insights and Recommendations\n",
    "\n",
    "**Based on the provided data and analysis, here are some key managerial insights and recommendations:**\n",
    "\n",
    "### General Observations\n",
    "* **Trade Imbalances:** The data reveals that most countries in the sample have trade imbalances, with either a surplus or deficit. This suggests that these countries have specialized economies focused on specific sectors.\n",
    "* **Diversification:** Countries with a more balanced trade profile, such as Afghanistan, American Samoa, and Andorra, may be less vulnerable to economic shocks.\n",
    "* **Trade Policies:** Governments should carefully consider trade policies to address trade imbalances and promote economic growth.\n",
    "\n",
    "### Country-Specific Recommendations\n",
    "\n",
    "**Albania:**\n",
    "* **Leverage Export Advantages:** Given its trade surplus, Albania should explore opportunities to expand its exports and identify new markets.\n",
    "* **Diversify Imports:** To reduce dependence on imports, Albania could consider diversifying its supply chains and exploring domestic production alternatives.\n",
    "\n",
    "**Algeria:**\n",
    "* **Import Substitution:** Algeria might consider policies to promote domestic production of goods that are currently imported, reducing its trade deficit.\n",
    "* **Export Promotion:** The government could implement incentives to encourage exports of Algerian products and services.\n",
    "\n",
    "**American Samoa and Andorra:**\n",
    "* **Maintain Trade Balance:** These countries should strive to maintain a balanced trade profile, ensuring that imports and exports are aligned.\n",
    "* **Explore Export Opportunities:** Both countries could identify potential export markets for their products and services.\n",
    "\n",
    "### Overall Recommendations\n",
    "* **Trade Data Analysis:** Regular analysis of trade data is essential for identifying trends, opportunities, and challenges.\n",
    "* **Trade Agreements:** Countries should consider negotiating trade agreements to improve market access and reduce trade barriers.\n",
    "* **Economic Diversification:** To reduce vulnerability to economic shocks, countries should diversify their economies and promote multiple sectors.\n",
    "* **Infrastructure Development:** Investments in infrastructure, such as transportation and logistics, can facilitate trade and reduce costs.\n",
    "* **Education and Skill Development:** Investing in education and skill development can enhance the competitiveness of a country's workforce and exports.\n",
    "\n",
    "By carefully considering these insights and recommendations, governments and businesses can make informed decisions to optimize their trade strategies and promote economic growth."
   ]
  },
  {
   "cell_type": "markdown",
   "id": "100cb7ce-83c0-417f-a59a-b00b559d5f98",
   "metadata": {},
   "source": [
    "**Inferential Statistics**"
   ]
  },
  {
   "cell_type": "code",
   "execution_count": 250,
   "id": "ce6000a9-cf8a-4af6-baf6-1e0a0c3d641d",
   "metadata": {},
   "outputs": [
    {
     "name": "stdout",
     "output_type": "stream",
     "text": [
      "t-statistic: 0.226\n",
      "p-value: 0.822\n"
     ]
    }
   ],
   "source": [
    "from scipy import stats\n",
    "\n",
    "# Subsetting data for imports and exports\n",
    "import_data = sample[sample['Import_Export'] == 'Import']['Value']\n",
    "export_data = sample[sample['Import_Export'] == 'Export']['Value']\n",
    "\n",
    "# t-test to compare means of import vs export values\n",
    "t_stat, p_value = np.round(stats.ttest_ind(import_data, export_data),3)\n",
    "\n",
    "print(\"t-statistic:\", t_stat)\n",
    "print(\"p-value:\", p_value)"
   ]
  },
  {
   "cell_type": "markdown",
   "id": "67ac5208-2b52-45b4-9868-5edf79d8ca75",
   "metadata": {},
   "source": [
    "**Chi-Square Test for Categorical Variables ( Country vs Import_Export)**"
   ]
  },
  {
   "cell_type": "code",
   "execution_count": 193,
   "id": "c85ea1d7-adf9-4d9c-8973-092387b4cd41",
   "metadata": {},
   "outputs": [
    {
     "name": "stdout",
     "output_type": "stream",
     "text": [
      "Chi-squared Statistic: 280.5095155668572\n",
      "p-value: 0.045011419191929525\n"
     ]
    }
   ],
   "source": [
    "# Chi-squared test of independence between Country and Import_Export\n",
    "contingency_table = pd.crosstab(sample['Country'], sample['Import_Export'])\n",
    "chi2_stat, p_val, dof, ex = stats.chi2_contingency(contingency_table)\n",
    "\n",
    "print(\"Chi-squared Statistic:\", chi2_stat)\n",
    "print(\"p-value:\", p_val)"
   ]
  },
  {
   "cell_type": "markdown",
   "id": "c8c092ed-fea7-48d3-b5b8-7d2856b3b89b",
   "metadata": {},
   "source": [
    "**ANOVA (Compare Value Across Different Product Categories)**"
   ]
  },
  {
   "cell_type": "code",
   "execution_count": 194,
   "id": "cdb581b3-942f-44d0-a130-3154d4d0a019",
   "metadata": {},
   "outputs": [
    {
     "name": "stdout",
     "output_type": "stream",
     "text": [
      "ANOVA F-statistic: 0.9294299561176012\n",
      "p-value: 0.9027554973034787\n"
     ]
    }
   ],
   "source": [
    "product_groups = [group['Value'].values for name, group in sample.groupby('Product')]\n",
    "\n",
    "f_stat, p_value = stats.f_oneway(*product_groups)\n",
    "\n",
    "print(\"ANOVA F-statistic:\", f_stat)\n",
    "print(\"p-value:\", p_value)"
   ]
  },
  {
   "cell_type": "markdown",
   "id": "cb5d6134-d50b-4e68-8502-599eb3f03fec",
   "metadata": {},
   "source": [
    "# NON-CATEGORICAL DATA"
   ]
  },
  {
   "cell_type": "markdown",
   "id": "011429e6-8c01-48ac-a446-39e572431c7c",
   "metadata": {},
   "source": [
    "# COMPOSITE MEASURE"
   ]
  },
  {
   "cell_type": "code",
   "execution_count": 199,
   "id": "9d2647f5-6acd-4dc6-a2fb-107b6fa850a8",
   "metadata": {},
   "outputs": [
    {
     "name": "stdout",
     "output_type": "stream",
     "text": [
      "Coefficient of variation for Quantity :  0.5640723042103577\n",
      "Coefficient of variation for Value :  0.5711276974741426\n",
      "Coefficient of variation for Weight :  0.5820350740742256\n"
     ]
    }
   ],
   "source": [
    "import statistics as stats\n",
    "\n",
    "# coefficient of quantity\n",
    "Coeff_Var_Quantity = stats.stdev(non_categorical_df['Quantity'])/stats.mean(non_categorical_df['Quantity'])\n",
    "print('Coefficient of variation for Quantity : ', Coeff_Var_Quantity)\n",
    "\n",
    "Coeff_Var_Value = stats.stdev(non_categorical_df['Value'])/stats.mean(non_categorical_df['Value'])\n",
    "print('Coefficient of variation for Value : ', Coeff_Var_Value)\n",
    "\n",
    "# coefficient of weight\n",
    "Coeff_Var_Weight = stats.stdev(non_categorical_df['Weight'])/stats.mean(non_categorical_df['Weight'])\n",
    "print('Coefficient of variation for Weight : ', Coeff_Var_Weight) "
   ]
  },
  {
   "cell_type": "markdown",
   "id": "d125249d-cc51-487f-ab47-56c6594fa7f4",
   "metadata": {},
   "source": [
    "Coefficient of variation tells us about how much the variability is present within the dataset,\n",
    "So here we have:\n",
    "\n",
    "# QUANTITY:\n",
    "Quantities have variation of 0.5640723042103577\n",
    "This implies that  ->\n",
    "1. Quantities are spread out around the mean by approx 56.40% of the mean value.\n",
    "2. They are not to much clustered around the mean but have different quantities' ranges.\n",
    "\n",
    "# VALUE: \n",
    "Values have variation of 0.5711276974741426 \n",
    "This implies that ->\n",
    "1. Values are spread around the mean by approx 57.11% of the mean value.\n",
    "2. Different values for different transactions is present.\n",
    "\n",
    "# WEIGHT:\n",
    "Weights have variation of 0.5820350740742256 among them\n",
    "This implies that ->\n",
    "1. Weights are spread around the mean by approx 58.20% of the mean value.\n",
    "2. Inconsistency in weights are here (which means different weights for different quantities are present)\n",
    "                                      "
   ]
  },
  {
   "cell_type": "code",
   "execution_count": 200,
   "id": "563187bc-9ca7-4eab-b834-d5ffd55f5f13",
   "metadata": {},
   "outputs": [
    {
     "data": {
      "text/plain": [
       "0.01932854793020752"
      ]
     },
     "execution_count": 200,
     "metadata": {},
     "output_type": "execute_result"
    }
   ],
   "source": [
    "# correlation between quantity and weight\n",
    "non_categorical_df['Quantity'].corr(non_categorical_df['Weight'])"
   ]
  },
  {
   "cell_type": "markdown",
   "id": "eb388e72-277b-4cb3-a5fc-03133334ed3a",
   "metadata": {},
   "source": [
    "# Correlation between Quantities and Weights\n",
    "\n",
    "The correlation between the quantities and the weights is 0.01932854793020752, which indicates a very weak correlation between the two. This suggests that there is almost no linear relationship between quantity and weight. Two possible reasons for this weak correlation might be:\n",
    "\n",
    "In a manufacturing setting, if you measure the weight of products and their quantities, a very weak correlation could indicate that weight doesn’t scale linearly with quantity, possibly due to varying product types, sizes, or materials.\n",
    "\n",
    "For consumer goods where packaging varies, the quantity and weight may not have a strong linear relationship due to differences in packaging materials and product sizes. For instance, lighter products might be packaged in bulk, while heavier ones might come in smaller quantities."
   ]
  },
  {
   "cell_type": "code",
   "execution_count": 201,
   "id": "e9dc4ba3-c6d1-4a87-a9bc-e9639fd46016",
   "metadata": {},
   "outputs": [
    {
     "data": {
      "text/plain": [
       "-0.05000824509245189"
      ]
     },
     "execution_count": 201,
     "metadata": {},
     "output_type": "execute_result"
    }
   ],
   "source": [
    "# correlation between quantity and Value\n",
    "non_categorical_df['Quantity'].corr(non_categorical_df['Value'])"
   ]
  },
  {
   "cell_type": "markdown",
   "id": "e8d18426-0fcd-4220-b68a-810fc6b39fb7",
   "metadata": {},
   "source": [
    "# Correlation between Quantity and Value \n",
    "\n",
    "The correlation is very weakly negative (-0.05000824509245189), indicating that quantity is very weakly inversely correlated with the transaction value. This suggests that as the quantity increases, the transaction value tends to decrease slightly, but the relationship is almost negligible.\n",
    "\n",
    "Several factors could contribute to this weak negative correlation, such as:\n",
    "\n",
    "Market trends: Shifts in supply and demand can impact both quantity and value differently.\n",
    "Discounts and promotions: Larger quantities might be associated with bulk discounts, leading to a decrease in the overall transaction value per unit.\n",
    "Customer demographics: Different customer segments may purchase varying quantities at different price points, leading to a weak and inconsistent relationship between quantity and value."
   ]
  },
  {
   "cell_type": "code",
   "execution_count": 202,
   "id": "8e53b94b-fe5f-4dd2-9a2e-060e460be7c4",
   "metadata": {},
   "outputs": [],
   "source": [
    "import numpy as np\n",
    "import scipy.stats as stats"
   ]
  },
  {
   "cell_type": "code",
   "execution_count": 203,
   "id": "cfd87f6d-f75e-4857-bcc6-c058354ea2df",
   "metadata": {},
   "outputs": [
    {
     "data": {
      "text/plain": [
       "(4925.480061104377, 5128.4639575560695)"
      ]
     },
     "execution_count": 203,
     "metadata": {},
     "output_type": "execute_result"
    }
   ],
   "source": [
    "# calculation confidence interval for quantity\n",
    "\n",
    "mean = np.mean(non_categorical_df['Quantity'])\n",
    "std_error = stats.sem(non_categorical_df['Quantity'])\n",
    "\n",
    "confidence = 0.95 # 95% comfidence level\n",
    "margin_of_error = std_error * stats.t.ppf((1 + confidence) / 2., len(non_categorical_df['Quantity']) - 1)\n",
    "confidence_interval = (mean - margin_of_error, mean + margin_of_error)\n",
    "\n",
    "confidence_interval"
   ]
  },
  {
   "cell_type": "markdown",
   "id": "b2e8ad32-0556-4809-8355-3a81cafbf5e3",
   "metadata": {},
   "source": [
    "# confidence interval of Quantity\n",
    "This will tells us that the actual average quantity of transactions (including import and export, for the whole dataset) will lie in between (4925.480061104377, 5128.4639575560695).\n"
   ]
  },
  {
   "cell_type": "code",
   "execution_count": 204,
   "id": "8bda1bb9-5058-496a-9c3e-cd04f78ebb69",
   "metadata": {},
   "outputs": [
    {
     "data": {
      "text/plain": [
       "(2425.490198203641, 2528.6978724394776)"
      ]
     },
     "execution_count": 204,
     "metadata": {},
     "output_type": "execute_result"
    }
   ],
   "source": [
    "# calculation confidence interval for Weights\n",
    "\n",
    "mean = np.mean(non_categorical_df['Weight'])\n",
    "std_error = stats.sem(non_categorical_df['Weight'])\n",
    "\n",
    "confidence = 0.95 # 95% comfidence level\n",
    "margin_of_error = std_error * stats.t.ppf((1 + confidence) / 2., len(non_categorical_df['Weight']) - 1)\n",
    "confidence_interval = (mean - margin_of_error, mean + margin_of_error)\n",
    "\n",
    "confidence_interval"
   ]
  },
  {
   "cell_type": "markdown",
   "id": "533395e1-79c8-48a6-b8f7-3a2629f17a71",
   "metadata": {},
   "source": [
    "# confidence interval of Weight\n",
    "This will tells us that the actual average weight of transactions (including import and export, for the whole dataset) will lie in between (2425.490198203641, 2528.6978724394776)."
   ]
  },
  {
   "cell_type": "code",
   "execution_count": 205,
   "id": "1eef1f23-70b2-43e5-80e3-d718ae24eec2",
   "metadata": {},
   "outputs": [],
   "source": [
    "# <<---------- end of composite measure ------------>>"
   ]
  },
  {
   "cell_type": "markdown",
   "id": "0ad9957e-5eae-4564-a0d6-31408794e8ca",
   "metadata": {},
   "source": [
    "# INFERENTIAL STATISTICS"
   ]
  },
  {
   "cell_type": "markdown",
   "id": "f9a86f34-a17c-496b-a1ca-1e485a3c1e00",
   "metadata": {},
   "source": [
    "# TEST OF MEAN"
   ]
  },
  {
   "cell_type": "markdown",
   "id": "c0c7e61f-65fe-482d-ab6b-bb733cef6316",
   "metadata": {},
   "source": [
    "# T - test\n",
    " As the columns belongs to same dataset and are information about same entity we will\n",
    " perform paired T - test. "
   ]
  },
  {
   "cell_type": "code",
   "execution_count": 252,
   "id": "230f5a4a-6810-484d-a5fc-8dc6245209cd",
   "metadata": {},
   "outputs": [
    {
     "name": "stdout",
     "output_type": "stream",
     "text": [
      "T-Statistic , p_value and df :  Ttest_relResult(statistic=44.25868606297802, pvalue=0.0)\n",
      "Signifiance difference is there between the means\n"
     ]
    }
   ],
   "source": [
    "# Test on Quantity and Weight\n",
    "t_stats1 = stats.ttest_rel(non_categorical_df['Quantity'], non_categorical_df['Weight'])\n",
    "print('T-Statistic , p_value and df : ', t_stats1)\n",
    "\n",
    "significance_level = 0.05\n",
    "\n",
    "if t_stats1.pvalue < significance_level:\n",
    "    print('Signifiance difference is there between the means')\n",
    "else:\n",
    "    print('No Signifiance difference between the means')"
   ]
  },
  {
   "cell_type": "code",
   "execution_count": 253,
   "id": "2b2de57e-c181-49b0-8215-fbb0dac51dc6",
   "metadata": {},
   "outputs": [
    {
     "name": "stdout",
     "output_type": "stream",
     "text": [
      "T-Statistic, p_value and df:  Ttest_relResult(statistic=-0.10182238165644358, pvalue=0.9189044647347036)\n",
      "No Signifiance difference between the means\n"
     ]
    }
   ],
   "source": [
    "# Test on Quantity and Value\n",
    "t_stats2 = stats.ttest_rel(non_categorical_df['Quantity'], non_categorical_df['Value'])\n",
    "print('T-Statistic, p_value and df: ', t_stats2)\n",
    "\n",
    "\n",
    "significance_level = 0.05\n",
    "\n",
    "if t_stats2.pvalue < significance_level:\n",
    "    print('Signifiance difference between the means')\n",
    "else:\n",
    "    print('No Signifiance difference between the means')"
   ]
  },
  {
   "cell_type": "code",
   "execution_count": 254,
   "id": "f24ca2bf-9205-45ec-8931-aad6bfec7d49",
   "metadata": {},
   "outputs": [
    {
     "name": "stdout",
     "output_type": "stream",
     "text": [
      "T-Statistic, p_value and df:  Ttest_relResult(statistic=-43.772827304731535, pvalue=1e-323)\n",
      "Signifiance difference between the means\n"
     ]
    }
   ],
   "source": [
    "# Test on Weight and Value\n",
    "t_stats3 = stats.ttest_rel(non_categorical_df['Weight'], non_categorical_df['Value'])\n",
    "print('T-Statistic, p_value and df: ', t_stats3)\n",
    "\n",
    "\n",
    "significance_level = 0.05\n",
    "\n",
    "if t_stats3.pvalue < significance_level:\n",
    "    print('Signifiance difference between the means')\n",
    "else:\n",
    "    print('No Signifiance difference between the means')"
   ]
  },
  {
   "cell_type": "code",
   "execution_count": 209,
   "id": "d2e4bc89-f088-401f-bd4c-a84df2287fd7",
   "metadata": {},
   "outputs": [],
   "source": [
    "# <<--------- end of test of Mean ------------->>"
   ]
  },
  {
   "cell_type": "markdown",
   "id": "168e8b64-03e9-4679-b6fd-a34b53965991",
   "metadata": {},
   "source": [
    "# Test of variance:\n",
    "\n",
    "1. F - TEST - using test on quantity and weight"
   ]
  },
  {
   "cell_type": "code",
   "execution_count": 210,
   "id": "def0982a-62d0-4971-b82d-c1763eac77da",
   "metadata": {},
   "outputs": [
    {
     "name": "stdout",
     "output_type": "stream",
     "text": [
      "Variance of Quantity :  8040489.462549589\n",
      "Variance of Weight :  2078659.239938815\n",
      "p_value for 2 tail:  2.22e-16\n",
      "The variances are significantly different\n"
     ]
    }
   ],
   "source": [
    "var_Quantity = np.var(non_categorical_df['Quantity'], ddof = 1)\n",
    "var_Weight = np.var(non_categorical_df['Weight'], ddof = 1)\n",
    "\n",
    "print('Variance of Quantity : ', var_Quantity)\n",
    "print('Variance of Weight : ', var_Weight)\n",
    "\n",
    "F = var_Quantity / var_Weight\n",
    "\n",
    "dof1 = len(non_categorical_df['Quantity']) - 1\n",
    "dof2 = len(non_categorical_df['Weight']) - 1\n",
    "\n",
    "p_value = 1 - stats.f.cdf(F, dof1, dof2) # cdf = cumulative distribution function\n",
    "\n",
    "p_value_2T = np.round(p_value * 2, 18)\n",
    "print(\"p_value for 2 tail: \", p_value_2T)\n",
    "\n",
    "significance_level = 0.05\n",
    "\n",
    "if (p_value_2T < significance_level):\n",
    "    print(\"The variances are significantly different\")\n",
    "\n",
    "else:\n",
    "    print(\"The variances are not significantly different\")"
   ]
  },
  {
   "cell_type": "markdown",
   "id": "7266d9df-9ca6-43a9-8e30-3063f0d8385b",
   "metadata": {},
   "source": [
    "The cause of significantly different could be less variance of weight as comapre to quantity which also implies that weight is small spread around the mean as comapre to quantity.\n"
   ]
  },
  {
   "cell_type": "markdown",
   "id": "1a76051b-64e5-4f51-a43a-137143177e9d",
   "metadata": {},
   "source": [
    "2. LEVENE TEST - using test on quantity and value\n",
    "\n",
    "For this test lets assume that both entities have equal variance"
   ]
  },
  {
   "cell_type": "code",
   "execution_count": 211,
   "id": "d553dbef-aa90-4347-8b56-b62ba3d33eb0",
   "metadata": {},
   "outputs": [
    {
     "name": "stdout",
     "output_type": "stream",
     "text": [
      "levene's test stats:  1.3156473200985324\n",
      "p_value:  0.2514204536208148\n",
      "No significant difference between the variances\n"
     ]
    }
   ],
   "source": [
    "stat, p_value = stats.levene(non_categorical_df['Quantity'],non_categorical_df['Value'], center = 'median')\n",
    "print(\"levene's test stats: \", stat)\n",
    "print(\"p_value: \", p_value)\n",
    "\n",
    "significance_level = 0.05\n",
    "\n",
    "if p_value < significance_level:\n",
    "    print('Significant difference between the variances')\n",
    "\n",
    "else:\n",
    "    print('No significant difference between the variances')\n"
   ]
  },
  {
   "cell_type": "markdown",
   "id": "168e6a36-e324-4851-bf6a-6449f009f0de",
   "metadata": {},
   "source": [
    "3. BARTLETT TEST - using on weight and value"
   ]
  },
  {
   "cell_type": "code",
   "execution_count": 212,
   "id": "7e4b5b7e-9e0f-42d4-a29a-883f8f33efa8",
   "metadata": {},
   "outputs": [
    {
     "name": "stdout",
     "output_type": "stream",
     "text": [
      "Bartlett's Test Stats:  1328.5588833515287\n",
      "P_Value:  7.031167071232741e-291\n",
      "Significant difference between the variances\n"
     ]
    }
   ],
   "source": [
    "stat, p_value = stats.bartlett(non_categorical_df['Weight'], non_categorical_df['Value'])\n",
    "print(\"Bartlett's Test Stats: \", stat)\n",
    "print(\"P_Value: \", p_value)\n",
    "\n",
    "significance_level = 0.05\n",
    "\n",
    "if p_value < significance_level:\n",
    "    print('Significant difference between the variances')\n",
    "else:\n",
    "    print('No significant difference between the variances')"
   ]
  },
  {
   "cell_type": "markdown",
   "id": "4e3f5505-2f5a-452f-a926-ae55735930ed",
   "metadata": {},
   "source": [
    "# PERFORMING LEVENE AND BARTLETT TEST ON ALL QUANTITY, VALUE AND WEIGHT"
   ]
  },
  {
   "cell_type": "code",
   "execution_count": 213,
   "id": "5358c066-acfa-4ad3-9a40-a35a9d85e47c",
   "metadata": {},
   "outputs": [
    {
     "name": "stdout",
     "output_type": "stream",
     "text": [
      "levene's test stats:  981.8535983488925\n",
      "p_value:  0.0\n",
      "Significant difference between the variances\n"
     ]
    }
   ],
   "source": [
    "stat, p_value = stats.levene(non_categorical_df['Quantity'],non_categorical_df['Value'],non_categorical_df['Weight'], center = 'median')\n",
    "print(\"levene's test stats: \", stat)\n",
    "print(\"p_value: \", p_value)\n",
    "\n",
    "significance_level = 0.05\n",
    "\n",
    "if p_value < significance_level:\n",
    "    print('Significant difference between the variances')\n",
    "\n",
    "else:\n",
    "    print('No significant difference between the variances')"
   ]
  },
  {
   "cell_type": "code",
   "execution_count": 214,
   "id": "f7b4015c-588e-4b63-aa74-af426c86a1d0",
   "metadata": {},
   "outputs": [
    {
     "name": "stdout",
     "output_type": "stream",
     "text": [
      "Bartlett's Test Stats:  2062.340629727136\n",
      "P_Value:  0.0\n",
      "Significant difference between the variances\n"
     ]
    }
   ],
   "source": [
    "stat, p_value = stats.bartlett(non_categorical_df['Weight'], non_categorical_df['Value'], non_categorical_df['Weight'])\n",
    "print(\"Bartlett's Test Stats: \", stat)\n",
    "print(\"P_Value: \", p_value)\n",
    "\n",
    "significance_level = 0.05\n",
    "\n",
    "if p_value < significance_level:\n",
    "    print('Significant difference between the variances')\n",
    "else:\n",
    "    print('No significant difference between the variances')"
   ]
  },
  {
   "cell_type": "code",
   "execution_count": 215,
   "id": "d6920cdf-c9cb-48d2-a063-dc82f43b8d56",
   "metadata": {},
   "outputs": [],
   "source": [
    "# <<------------------ end of test of Variance --------------->>"
   ]
  },
  {
   "cell_type": "markdown",
   "id": "047286c2-b773-4d00-a376-5ebb6045b729",
   "metadata": {},
   "source": [
    "# Test of PROPORTION"
   ]
  },
  {
   "cell_type": "markdown",
   "id": "f335025b-4c25-4a95-ae3f-f16986334789",
   "metadata": {},
   "source": [
    "# Z - TEST\n",
    "\n",
    "1. QUANTITY - checking proportion of quantity between 0 to 2000"
   ]
  },
  {
   "cell_type": "code",
   "execution_count": 216,
   "id": "9b9fd3c9-fcd7-4f6c-b66f-b67053035c6d",
   "metadata": {},
   "outputs": [
    {
     "name": "stdout",
     "output_type": "stream",
     "text": [
      "Sample proporation:  559\n",
      "Sample size:  3001\n",
      "hypothesized proportion 500\n",
      "Z-stats:  (3.962147055918884e-16-6.470677192276965j)\n",
      "p_value:  9.756462304721936e-11\n",
      "hypothesized proportion is significantly different from the proportion quantity\n"
     ]
    }
   ],
   "source": [
    "Pro_Quantity = 0 # Sample proportion\n",
    "for i in range(len(non_categorical_df['Quantity'])):\n",
    "    n = non_categorical_df['Quantity'].iloc[i]\n",
    "    if (0 <= n <= 2000):\n",
    "        Pro_Quantity += 1\n",
    "    \n",
    "Size_Quantity = len(non_categorical_df['Quantity'])\n",
    "\n",
    "print('Sample proporation: ', Pro_Quantity)\n",
    "print('Sample size: ', Size_Quantity)\n",
    "\n",
    "hypothesize_proportion = 500  # Hypothesized quantity proportion\n",
    "\n",
    "print('hypothesized proportion', hypothesize_proportion)\n",
    "\n",
    "standard_error = (hypothesize_proportion * (1 - hypothesize_proportion) / Size_Quantity) ** 0.5\n",
    "\n",
    "z_stats = (Pro_Quantity - hypothesize_proportion) / standard_error\n",
    "\n",
    "p_value = 2 * (1 - stats.norm.cdf(abs(z_stats)))\n",
    "\n",
    "print('Z-stats: ', z_stats)\n",
    "print('p_value: ', p_value)\n",
    "\n",
    "significance_level = 0.05\n",
    "\n",
    "if p_value < significance_level:\n",
    "    print('hypothesized proportion is significantly different from the proportion quantity')\n",
    "else:\n",
    "    print('hypothesized proportion is not significantly different from the proportion quantity')\n",
    "    "
   ]
  },
  {
   "cell_type": "markdown",
   "id": "4d5abd3a-2f16-4775-a714-520f70f04c9a",
   "metadata": {},
   "source": [
    "2. WEIGHT - checking proportion of weights between 4000 to 4300"
   ]
  },
  {
   "cell_type": "code",
   "execution_count": 217,
   "id": "e04a44e2-298a-4789-85e5-1489c1c0c2b0",
   "metadata": {},
   "outputs": [
    {
     "name": "stdout",
     "output_type": "stream",
     "text": [
      "Sample proporation:  183\n",
      "Sample size:  3001\n",
      "hypothesized proportion 100\n",
      "Z-stats:  (2.7981716285788615e-15-45.697610617641885j)\n",
      "p_value:  0.0\n",
      "hypothesized proportion is significantly different from the proportion quantity\n"
     ]
    }
   ],
   "source": [
    "Pro_Weight = 0 # Sample proportion\n",
    "for i in range(len(non_categorical_df['Weight'])):\n",
    "    n = non_categorical_df['Weight'].iloc[i]\n",
    "    if (4000 <= n <= 4300):\n",
    "        Pro_Weight += 1\n",
    "    \n",
    "Size_Weight = len(non_categorical_df['Weight'])\n",
    "\n",
    "print('Sample proporation: ', Pro_Weight)\n",
    "print('Sample size: ', Size_Weight)\n",
    "\n",
    "hypothesize_proportion = 100  # Hypothesized quantity proportion\n",
    "\n",
    "print('hypothesized proportion', hypothesize_proportion)\n",
    "\n",
    "standard_error = (hypothesize_proportion * (1 - hypothesize_proportion) / Size_Weight) ** 0.5\n",
    "\n",
    "z_stats = (Pro_Weight - hypothesize_proportion) / standard_error\n",
    "\n",
    "p_value = 2 * (1 - stats.norm.cdf(abs(z_stats)))\n",
    "\n",
    "print('Z-stats: ', z_stats)\n",
    "print('p_value: ', p_value)\n",
    "\n",
    "significance_level = 0.05\n",
    "\n",
    "if p_value < significance_level:\n",
    "    print('hypothesized proportion is significantly different from the proportion quantity')\n",
    "else:\n",
    "    print('hypothesized proportion is not significantly different from the proportion quantity')\n",
    "    "
   ]
  },
  {
   "cell_type": "markdown",
   "id": "4a0dfc0e-d1cb-4f65-9e76-2a7fc1c1f7a1",
   "metadata": {},
   "source": [
    "3. VALUE - checking proportion of weights between 2600 to 3000"
   ]
  },
  {
   "cell_type": "code",
   "execution_count": 218,
   "id": "81505208-767a-489a-a6ec-ec94cb1b4446",
   "metadata": {},
   "outputs": [
    {
     "name": "stdout",
     "output_type": "stream",
     "text": [
      "Sample proporation:  121\n",
      "Sample size:  3001\n",
      "hypothesized proportion 50\n",
      "Z-stats:  (9.013271486825226e-15-147.1978940066739j)\n",
      "p_value:  0.0\n",
      "hypothesized proportion is significantly different from the proportion quantity\n"
     ]
    }
   ],
   "source": [
    "Pro_Value = 0 # Sample proportion\n",
    "for i in range(len(non_categorical_df['Value'])):\n",
    "    n = non_categorical_df['Value'].iloc[i]\n",
    "    if (2600 <= n <= 3000):\n",
    "        Pro_Value += 1\n",
    "    \n",
    "Size_Value = len(non_categorical_df['Value'])\n",
    "\n",
    "print('Sample proporation: ', Pro_Value)\n",
    "print('Sample size: ', Size_Value)\n",
    "\n",
    "hypothesize_proportion = 50  # Hypothesized quantity proportion\n",
    "\n",
    "print('hypothesized proportion', hypothesize_proportion)\n",
    "\n",
    "standard_error = (hypothesize_proportion * (1 - hypothesize_proportion) / Size_Value) ** 0.5\n",
    "\n",
    "z_stats = (Pro_Weight - hypothesize_proportion) / standard_error\n",
    "\n",
    "p_value = 2 * (1 - stats.norm.cdf(abs(z_stats)))\n",
    "\n",
    "print('Z-stats: ', z_stats)\n",
    "print('p_value: ', p_value)\n",
    "\n",
    "significance_level = 0.05\n",
    "\n",
    "if p_value < significance_level:\n",
    "    print('hypothesized proportion is significantly different from the proportion quantity')\n",
    "else:\n",
    "    print('hypothesized proportion is not significantly different from the proportion quantity')\n",
    "    "
   ]
  },
  {
   "cell_type": "markdown",
   "id": "99b4a9f0-fd24-4d24-84df-ab5bd8898ece",
   "metadata": {},
   "source": [
    "In the above 3 z-test for Quantities, Weights and Values we have assumed some hypothesized proportion and checked if the actual sample proportion matches to it or not.\n",
    "this help to check assuptions about the same.\n",
    "    "
   ]
  },
  {
   "cell_type": "markdown",
   "id": "4eb26507-4d02-4a5d-a4fa-78581ce094e5",
   "metadata": {},
   "source": [
    "# chi - sq test"
   ]
  },
  {
   "cell_type": "code",
   "execution_count": 219,
   "id": "04a33a32-4591-401b-86e8-f56b2d48e95f",
   "metadata": {},
   "outputs": [
    {
     "name": "stdout",
     "output_type": "stream",
     "text": [
      "chi_stats:  8664335.985233087\n",
      "p_value:  0.0\n",
      "Significant difference in proportions between the samples\n"
     ]
    }
   ],
   "source": [
    "data = np.array([[non_categorical_df['Quantity']],\n",
    "                [non_categorical_df['Weight']],\n",
    "                [non_categorical_df['Value']]])\n",
    "chi_stats, p_Value,_,_ = stats.chi2_contingency(data, correction = False)\n",
    "\n",
    "print('chi_stats: ', chi_stats)\n",
    "print('p_value: ', p_value)\n",
    "\n",
    "significance_level = 0.05\n",
    "\n",
    "if p_value < significance_level:\n",
    "    print(\"Significant difference in proportions between the samples\")\n",
    "\n",
    "else:\n",
    "    print(\"No significant difference in proportions between the samples\")"
   ]
  },
  {
   "cell_type": "code",
   "execution_count": 220,
   "id": "184d4568-39ef-4167-9eb1-399c8fbc4b6c",
   "metadata": {},
   "outputs": [],
   "source": [
    "# <<---------- end of test of proportion ---------------->>"
   ]
  },
  {
   "cell_type": "markdown",
   "id": "d8f765bc-4937-4230-b894-247bb67e27b3",
   "metadata": {},
   "source": [
    "# TEST OF CORRELATION"
   ]
  },
  {
   "cell_type": "markdown",
   "id": "8c8b1a8f-d6a0-4698-81ef-5f869bc69d08",
   "metadata": {},
   "source": [
    "# T - TEST "
   ]
  },
  {
   "cell_type": "code",
   "execution_count": 221,
   "id": "40962746-7ef4-434b-bf1f-44195a8ec750",
   "metadata": {},
   "outputs": [],
   "source": [
    "import numpy as np\n",
    "from scipy import stats"
   ]
  },
  {
   "cell_type": "markdown",
   "id": "032916b5-af03-40f5-8333-7898c47a9469",
   "metadata": {},
   "source": [
    "# TEST OF NORMALITY"
   ]
  },
  {
   "cell_type": "markdown",
   "id": "5ba10e34-eb5c-4539-b152-1e316a3eba25",
   "metadata": {},
   "source": [
    "# 1. Shapiro-Wilk Test"
   ]
  },
  {
   "cell_type": "code",
   "execution_count": 222,
   "id": "2a592aab-e4c7-4ac8-ba4f-a05490c7fe12",
   "metadata": {},
   "outputs": [
    {
     "name": "stdout",
     "output_type": "stream",
     "text": [
      "Shapiro-wilk Test for:  Quantity\n",
      "Test stats:  0.9587095975875854  and p-value:  2.108518936471083e-28\n",
      "Reject (sample does not appear to be normally distributed)\n",
      "\n",
      "\n",
      "Shapiro-wilk Test for:  Weight\n",
      "Test stats:  0.9565370678901672  and p-value:  4.8240025190062024e-29\n",
      "Reject (sample does not appear to be normally distributed)\n",
      "\n",
      "\n",
      "Shapiro-wilk Test for:  Value\n",
      "Test stats:  0.9527642130851746  and p-value:  4.241131331778089e-30\n",
      "Reject (sample does not appear to be normally distributed)\n"
     ]
    }
   ],
   "source": [
    "def shapiro_test(sample, name):\n",
    "    stat, p_value = stats.shapiro(sample)\n",
    "    print(\"Shapiro-wilk Test for: \", name)\n",
    "    print(\"Test stats: \", stat, \" and p-value: \", p_value)\n",
    "\n",
    "    significance_level = 0.05\n",
    "    if p_value > significance_level:\n",
    "        print(\"Fail to reject (sample is consistent with normality)\")\n",
    "    else:\n",
    "        print(\"Reject (sample does not appear to be normally distributed)\")\n",
    "\n",
    "\n",
    "shapiro_test(non_categorical_df['Quantity'], \"Quantity\")\n",
    "print(\"\\n\")\n",
    "shapiro_test(non_categorical_df['Weight'], \"Weight\")\n",
    "print(\"\\n\")\n",
    "shapiro_test(non_categorical_df['Value'], \"Value\")\n"
   ]
  },
  {
   "cell_type": "markdown",
   "id": "02f5c172-64a8-4667-b0be-cb5f6c10df52",
   "metadata": {},
   "source": [
    "From the results of the Shapiro-Wilk tests, we can conclude that none of the three samples (Quantity, Weight, and Value) appear to follow a normal distribution. This is evidenced by their extremely small p-values and significantly low test statistics.\n",
    "\n",
    "These findings suggest that the data may exhibit non-normality, such as asymmetry or skewness. "
   ]
  },
  {
   "cell_type": "markdown",
   "id": "1d3d44c7-dd0f-46dd-9c6c-b976a952e8db",
   "metadata": {},
   "source": [
    "<span style=\"color: red; font-weight: bold; font-size: 30px\">2. Kolmogorov-Smirnov Test</span>"
   ]
  },
  {
   "cell_type": "markdown",
   "id": "df762ed6-68f1-47fe-a043-5d43e39a187d",
   "metadata": {},
   "source": [
    "Now as the above test gives us the result that they do not belong to normal distribution, let's first check weather they are from same distribution or not."
   ]
  },
  {
   "cell_type": "code",
   "execution_count": 223,
   "id": "65af3ddc-1649-43de-acf6-5e93a4137837",
   "metadata": {},
   "outputs": [],
   "source": [
    "import numpy as np\n",
    "from scipy import stats"
   ]
  },
  {
   "cell_type": "code",
   "execution_count": 224,
   "id": "0357027c-8ef2-4f63-8671-97050d79ee8a",
   "metadata": {},
   "outputs": [
    {
     "name": "stdout",
     "output_type": "stream",
     "text": [
      "Quantity and Weight test stats:  0.5018327224258581 p-value:  0.0\n",
      "Weight and Value test stats:  0.5071642785738087 p-value:  0.0\n",
      "Value and Quantity test stats:  0.017994001999333556 p-value:  0.7162786535454\n",
      "\n",
      "\n",
      "Quantity and Weight are from different distribution (rejected)\n",
      "\n",
      "\n",
      "Weight and Value are from different distribution (rejected)\n",
      "\n",
      "\n",
      "Value and Quantity are from same distribution (fail to reject)\n"
     ]
    }
   ],
   "source": [
    "# performing K-S test\n",
    "statQ_W, p_valueQ_W = stats.ks_2samp(non_categorical_df['Quantity'], non_categorical_df['Weight'])\n",
    "statW_V, p_valueW_V = stats.ks_2samp(non_categorical_df['Weight'], non_categorical_df['Value'])\n",
    "statV_Q, p_valueV_Q = stats.ks_2samp(non_categorical_df['Value'], non_categorical_df['Quantity'])\n",
    "\n",
    "print('Quantity and Weight test stats: ', statQ_W, 'p-value: ', p_valueQ_W)\n",
    "print('Weight and Value test stats: ', statW_V, 'p-value: ', p_valueW_V)\n",
    "print('Value and Quantity test stats: ', statV_Q, 'p-value: ', p_valueV_Q)\n",
    "\n",
    "significance_level = 0.05\n",
    "print('\\n')\n",
    "\n",
    "if p_valueQ_W > significance_level:\n",
    "    print(\"Quantity and Weight are from same distribution (fail to reject)\")\n",
    "else:\n",
    "    print(\"Quantity and Weight are from different distribution (rejected)\")\n",
    "\n",
    "print('\\n')\n",
    "\n",
    "if p_valueW_V > significance_level:\n",
    "    print(\"Weight and Value are from same distribution (fail to reject)\")\n",
    "else:\n",
    "    print(\"Weight and Value are from different distribution (rejected)\")\n",
    "\n",
    "print('\\n')\n",
    "\n",
    "if p_valueV_Q > significance_level:\n",
    "    print(\"Value and Quantity are from same distribution (fail to reject)\")\n",
    "else:\n",
    "    print(\"Value and Quantity are from different distribution (rejected)\")\n"
   ]
  },
  {
   "cell_type": "markdown",
   "id": "2a5c0c29-0d7f-49c9-8bfa-149c6d6b5adf",
   "metadata": {},
   "source": [
    "Apart from Value and Quantity, all the other pairs (Quantity and Weight, Weight and Value) are from different distributions.\n",
    "\n",
    "This is based on the Kolmogorov-Smirnov test results, where the p-values for the comparisons of Quantity and Weight, and Weight and Value are both 0.0, indicating a significant difference between their distributions.\n",
    "\n",
    "The conclusion that Value and Quantity are from the same distribution is correct, as the p-value for their comparison is 0.7162786535454, which is greater than the typical significance level of 0.05."
   ]
  },
  {
   "cell_type": "code",
   "execution_count": 255,
   "id": "75796499-1fd1-4d61-9ab1-3a7710ee27cf",
   "metadata": {},
   "outputs": [
    {
     "data": {
      "image/png": "[encoded data removed]",
      "text/plain": [
       "<Figure size 432x288 with 1 Axes>"
      ]
     },
     "metadata": {},
     "output_type": "display_data"
    }
   ],
   "source": [
    "import matplotlib.pyplot as plt\n",
    "import seaborn as sns\n",
    "import numpy as np\n",
    "\n",
    "sns.histplot(non_categorical_df['Quantity'], kde = True, color = 'blue')\n",
    "plt.title('Distribution with Density Curve', fontsize=15)\n",
    "plt.xlabel('Data Values')\n",
    "plt.ylabel('Frequency')\n",
    "\n",
    "# Show the plot\n",
    "\n",
    "plt.show()"
   ]
  },
  {
   "cell_type": "code",
   "execution_count": 256,
   "id": "4c28d7ea-0156-4472-8388-acf38c8a1934",
   "metadata": {},
   "outputs": [
    {
     "data": {
      "image/png": "[encoded data removed]",
      "text/plain": [
       "<Figure size 432x288 with 1 Axes>"
      ]
     },
     "metadata": {},
     "output_type": "display_data"
    }
   ],
   "source": [
    "sns.histplot(non_categorical_df['Weight'], kde = True, color = 'red')\n",
    "plt.title('Distribution with Density Curve', fontsize=15)\n",
    "plt.xlabel('Data Values')\n",
    "plt.ylabel('Frequency')\n",
    "\n",
    "# Show the plot\n",
    "plt.show()"
   ]
  },
  {
   "cell_type": "code",
   "execution_count": 227,
   "id": "729a1092-4540-4e2c-bba5-0cc234907dee",
   "metadata": {},
   "outputs": [
    {
     "data": {
      "image/png": "[encoded data removed]",
      "text/plain": [
       "<Figure size 432x288 with 1 Axes>"
      ]
     },
     "metadata": {},
     "output_type": "display_data"
    }
   ],
   "source": [
    "sns.histplot(non_categorical_df['Value'], kde = True, color = 'blue')\n",
    "plt.title('Distribution with Density Curve', fontsize=15)\n",
    "plt.xlabel('Data Values')\n",
    "plt.ylabel('Frequency')\n",
    "\n",
    "# Show the plot\n",
    "plt.show()"
   ]
  },
  {
   "cell_type": "markdown",
   "id": "e0f71426",
   "metadata": {},
   "source": [
    "## Regression"
   ]
  },
  {
   "cell_type": "markdown",
   "id": "68dda9d1",
   "metadata": {},
   "source": [
    "### Second-Degree Polynomial Regression"
   ]
  },
  {
   "cell_type": "code",
   "execution_count": 228,
   "id": "65947ed6",
   "metadata": {},
   "outputs": [
    {
     "name": "stdout",
     "output_type": "stream",
     "text": [
      "[ 0.00000000e+00 -2.85757927e-03  1.92646339e-06]\n",
      "2408.704144513425\n"
     ]
    }
   ],
   "source": [
    "#Second-Degree Polynomial Regression (Imports)Predict Weight based on Value for Import transactions               \n",
    "import numpy as np\n",
    "import pandas as pd\n",
    "from sklearn.preprocessing import PolynomialFeatures\n",
    "from sklearn.linear_model import LinearRegression\n",
    "\n",
    "# Filter for Import transactions\n",
    "df_imports = sample[sample['Import_Export'] == 'Import']  # Adjust condition based on your column\n",
    "\n",
    "# Define dependent and independent variables\n",
    "X = df_imports[['Quantity']]  # Replace with actual column name\n",
    "y = df_imports['Weight']  # Replace with actual column name\n",
    "\n",
    "# Transform the input for a polynomial regression (second degree)\n",
    "poly = PolynomialFeatures(degree=2)\n",
    "X_poly = poly.fit_transform(X)\n",
    "#Second-Degree Polynomial Regression (Imports)Predict Weight based on Value for Import transactions.\n",
    "# Fit the polynomial regression model\n",
    "model = LinearRegression()\n",
    "model.fit(X_poly, y)\n",
    "\n",
    "# Output the model coefficients\n",
    "print(model.coef_)\n",
    "print(model.intercept_)"
   ]
  },
  {
   "cell_type": "markdown",
   "id": "a859985b",
   "metadata": {},
   "source": [
    "**Interpretation of Output:**\n",
    "\n",
    "The output coefficients represent the weights assigned to each polynomial term in the regression equation. In this case, the equation is:\n",
    "\n",
    "Weight = 2408.704144513425 + 0.00000000e+00 * Quantity - 2.857579272e-03 * Quantity^2 + 1.92646339e-06 * Quantity^3\n",
    "The coefficient for the linear term (Quantity) is essentially zero, indicating that there's no linear relationship between \"Quantity\" and \"Weight\" in the data. However, the coefficients for the squared and cubed terms are non-zero, suggesting that the relationship between \"Quantity\" and \"Weight\" is better explained by a quadratic or cubic curve.\n",
    "\n",
    "The intercept term (2408.704144513425) represents the predicted \"Weight\" when \"Quantity\" is zero."
   ]
  },
  {
   "cell_type": "markdown",
   "id": "8df142fe",
   "metadata": {},
   "source": [
    "### Logisitic Regression"
   ]
  },
  {
   "cell_type": "code",
   "execution_count": 229,
   "id": "e111a4c7",
   "metadata": {},
   "outputs": [
    {
     "name": "stdout",
     "output_type": "stream",
     "text": [
      "              precision    recall  f1-score   support\n",
      "\n",
      "      Export       0.46      0.71      0.56       281\n",
      "      Import       0.51      0.26      0.35       320\n",
      "\n",
      "    accuracy                           0.47       601\n",
      "   macro avg       0.48      0.49      0.45       601\n",
      "weighted avg       0.49      0.47      0.45       601\n",
      "\n"
     ]
    }
   ],
   "source": [
    "#Logistic Regression-Predict whether a transaction is Import or Export based on Value and Weight.\n",
    "import pandas as pd\n",
    "from sklearn.linear_model import LogisticRegression\n",
    "from sklearn.model_selection import train_test_split\n",
    "from sklearn.metrics import classification_report\n",
    "\n",
    "# Define dependent and independent variables\n",
    "X = sample[['Value', 'Weight']]  # Use 'sample' as the DataFrame variable name\n",
    "y = sample['Import_Export']  # Ensure 'Import_Export' contains binary values\n",
    "\n",
    "# Split the data into training and testing sets\n",
    "X_train, X_test, y_train, y_test = train_test_split(X, y, test_size=0.2, random_state=42)\n",
    "\n",
    "# Fit the logistic regression model\n",
    "model = LogisticRegression()\n",
    "model.fit(X_train, y_train)\n",
    "\n",
    "# Predicting and evaluating the model\n",
    "y_pred = model.predict(X_test)\n",
    "print(classification_report(y_test, y_pred))"
   ]
  },
  {
   "cell_type": "markdown",
   "id": "8512e849",
   "metadata": {},
   "source": [
    "## Classification Report\n",
    "\n",
    "| Metric | Export | Import | Accuracy | Macro Avg | Weighted Avg |\n",
    "|---|---|---|---|---|---|\n",
    "| Precision | 0.46 | 0.51 | | 0.48 | 0.49 |\n",
    "| Recall | 0.71 | 0.26 | | 0.49 | 0.47 |\n",
    "| F1-score | 0.56 | 0.35 | | 0.45 | 0.45 |\n",
    "| Support | 281 | 320 | | 601 | 601 |\n",
    "\n",
    "**Metrics:**\n",
    "\n",
    "*   **Precision:** Measures the proportion of correctly predicted \"Import\" and \"Export\" transactions out of all transactions predicted as that class.\n",
    "    \n",
    "    *   For \"Export\": 0.46 - Out of all transactions predicted as \"Export,\" 46% were actually \"Export.\"\n",
    "        \n",
    "    *   For \"Import\": 0.51 - Out of all transactions predicted as \"Import,\" 51% were actually \"Import.\"\n",
    "        \n",
    "*   **Recall:** Measures the proportion of correctly predicted \"Import\" and \"Export\" transactions out of all actual \"Import\" and \"Export\" transactions.\n",
    "    \n",
    "    *   For \"Export\": 0.71 - Out of all actual \"Export\" transactions, 71% were correctly predicted as \"Export.\"\n",
    "        \n",
    "    *   For \"Import\": 0.26 - Out of all actual \"Import\" transactions, only 26% were correctly predicted as \"Import.\"\n",
    "        \n",
    "*   **F1-score:** The harmonic mean of precision and recall, providing a balanced measure of the model's performance.\n",
    "    \n",
    "    *   For \"Export\": 0.56\n",
    "        \n",
    "    *   For \"Import\": 0.35\n",
    "        \n",
    "*   **Support:** The number of instances in each class.\n",
    "    \n",
    "    *   \"Export\": 281\n",
    "        \n",
    "    *   \"Import\": 320\n",
    "        \n",
    "\n",
    "**Insights:**\n",
    "\n",
    "*   **Class Imbalance:** The support values indicate that there is a class imbalance, with more \"Import\" transactions than \"Export\" transactions. This can affect the model's performance, especially for the minority class.\n",
    "    \n",
    "*   **Export Prediction:** The model has relatively good precision and recall for predicting \"Export\" transactions, indicating that it is able to identify \"Export\" transactions accurately.\n",
    "    \n",
    "*   **Import Prediction:** The model struggles to predict \"Import\" transactions, especially in terms of recall. This suggests that the model is missing many actual \"Import\" transactions.\n",
    "    \n",
    "*   **Overall Accuracy:** The overall accuracy of the model is 0.47, which is moderate. This indicates that the model is able to correctly predict the \"Import\" or \"Export\" category for about 47% of the transactions.\n",
    "    \n",
    "\n",
    "**Recommendations:**\n",
    "\n",
    "*   **Address Class Imbalance:** To improve the model's performance for the minority class (\"Import\"), consider techniques like oversampling, undersampling, or class weighting.\n",
    "    \n",
    "*   **Feature Engineering:** Explore additional features that might be relevant for predicting \"Import\" or \"Export\" transactions.\n",
    "    \n",
    "*   **Hyperparameter Tuning:** Experiment with different hyperparameters of the logistic regression model to see if it can improve performance.\n",
    "    \n",
    "*   **Alternative Models:** Consider using other machine learning algorithms like decision trees, random forests, or support vector machines to see if they can achieve better results.\n",
    "    \n",
    "\n",
    "By addressing these issues and exploring different approaches, you may be able to improve the model's performance in predicting \"Import\" transactions."
   ]
  }
 ],
 "metadata": {
  "kernelspec": {
   "display_name": "Python 3",
   "language": "python",
   "name": "python3"
  },
  "language_info": {
   "codemirror_mode": {
    "name": "ipython",
    "version": 3
   },
   "file_extension": ".py",
   "mimetype": "text/x-python",
   "name": "python",
   "nbconvert_exporter": "python",
   "pygments_lexer": "ipython3",
   "version": "3.8.8"
  }
 },
 "nbformat": 4,
 "nbformat_minor": 5
}
